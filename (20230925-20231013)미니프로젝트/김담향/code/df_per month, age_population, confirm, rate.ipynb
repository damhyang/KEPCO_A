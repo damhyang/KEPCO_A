{
 "cells": [
  {
   "cell_type": "code",
   "execution_count": 1,
   "id": "a8b9db6d-b7ce-47d9-aeed-2ca71b52853b",
   "metadata": {},
   "outputs": [],
   "source": [
    "# 출처 : https://ncov.kdca.go.kr/bdBoardListR.do?brdId=1&brdGubun=11\n",
    "# 코로나바이러스감염증-19_확진환자_발생현황_230904_최종v2.xlsx : '연령별(10세단위)' sheet상의 2020.01.20~2023.08.31기간 동안의 일별 연령별 확진자에 대한 데이터 사용\n",
    "# dataframe[df_c_raw]로 불러와 월별로 확진자를 합산한 dataframe[df_confirmed_case]으로 정리하기"
   ]
  },
  {
   "cell_type": "code",
   "execution_count": 2,
   "id": "ef7acd1d-8be4-42a9-a487-4620a478c34b",
   "metadata": {},
   "outputs": [],
   "source": [
    "# pandas패키지 사용하기\n",
    "import pandas as pd\n",
    "import numpy as np\n",
    "\n",
    "#경고 뜨지 않게 하기\n",
    "import warnings\n",
    "warnings.filterwarnings(action='ignore')\n",
    "\n",
    "# xlsx파일(코로나바이러스감염증-19_확진환자_발생현황_230904_최종v2.xlsx)의 원하는 특정시트sheet('연령별(10세단위)')에서 dataframe으로 읽어오기\n",
    "df_c_raw = pd.read_excel('코로나바이러스감염증-19_확진환자_발생현황_230904_최종v2.xlsx', sheet_name='연령별(10세단위)')\n",
    "\n",
    "# row[3]을 column이름으로 바꾸기 \n",
    "df_c_tmp1 = df_c_raw.rename(columns = df_c_raw.iloc[3])\n",
    "\n",
    "# 필요하지 않은 row[0]~[4] 데이터 지우기\n",
    "df_c_tmp2 = df_c_tmp1.iloc[5:, :]\n",
    "\n",
    "#str인 '-'를 int인 0으로 변경(데이터 가공 용이를 위함)\n",
    "df_c_tmp3 = df_c_tmp2.replace(to_replace='-',value=0)\n",
    "\n",
    "#2023-08-29 ~ 2023-08-31의 값이 누락되어 채워넣기\n",
    "df_c_tmp3.loc[1322, '일자'] = '2023-08-29 00:00:00'\n",
    "df_c_tmp3.loc[1323, '일자'] = '2023-08-30 00:00:00'\n",
    "df_c_tmp3.loc[1324, '일자'] = '2023-08-31 00:00:00'\n",
    "\n",
    "# column['일자']의 데이터에서 년월만 떼어낸 year_month데이터를 통해 월별로 묶어서(groupby) 확진자수합계(sum)데이터 만들기\n",
    "year_month = df_c_tmp3.일자.astype('str').str.slice(0,7)  ## str타입이 아니어서 astype('str')을 해주고 strslice(0,7)을 통해 년월일시 데이터를 년월로 자름\n",
    "df_c_tmp4 = df_c_tmp3.groupby(year_month).sum()  ## 년월데이터(year_month)를 통해 groupby하여 합산\n",
    "## 이때 groupby로 인해 year_month 데이터는 해당 dataframe의 인덱스가 된다.\n",
    "\n",
    "#년월데이터(index)에서 str.slice()을 통해 column[year], column[month]를 추가하기 \n",
    "year = df_c_tmp4.index.str.slice(0,4)\n",
    "month = df_c_tmp4.index.str.slice(5,7)\n",
    "df_c_tmp4['year'] = year\n",
    "df_c_tmp4['month'] = month\n",
    "\n",
    "# reset_index()를 통해 dataframe의 index를 0,1,2,...로 변경하기\n",
    "df_c_tmp5 = df_c_tmp4.reset_index()\n",
    "\n",
    "# dataframe의 column명을 원하는대로 바꾸기\n",
    "df_c_tmp5.columns = ['일자', '계(명)', '0-9(confirmed_case)', '10-19(confirmed_case)', '20-29(confirmed_case)', \n",
    "                    '30-39(confirmed_case)', '40-49(confirmed_case)','50-59(confirmed_case)', '60-69(confirmed_case)', \n",
    "                    '70-79(confirmed_case)', 'over80(confirmed_case)', 'year', 'month']\n",
    "\n",
    "#필요하지 않은 column[0]~[2] 데이터 지우기\n",
    "df_c_tmp6=df_c_tmp5.iloc[:, 2:]\n",
    "\n",
    "# dataframe의 column 순서(및 구성) 변경하기\n",
    "df_confirmed_case = df_c_tmp6[['year','month', '0-9(confirmed_case)', '10-19(confirmed_case)', '20-29(confirmed_case)',\n",
    "       '30-39(confirmed_case)', '40-49(confirmed_case)',\n",
    "       '50-59(confirmed_case)', '60-69(confirmed_case)',\n",
    "       '70-79(confirmed_case)', 'over80(confirmed_case)']]"
   ]
  },
  {
   "cell_type": "code",
   "execution_count": 4,
   "id": "1f1ab76d-1475-4c3c-91d9-9472dd8f15e7",
   "metadata": {},
   "outputs": [],
   "source": [
    "# 출처 : https://jumin.mois.go.kr\n",
    "# 2020년 01월 ~ 2023년 08월 동안의 월별 전국 연령별 인구수에 대한 데이터를 사용 \n",
    "# 위 기간이 기간별로 8개의 파일로 분리되어 있는데 이를 dataframe[df_p_raw_p1]~[df_p_raw_p8]로 불러와 월별로 전국 연령별 인구수를 dataframe[df_population]으로 정리하기"
   ]
  },
  {
   "cell_type": "code",
   "execution_count": 5,
   "id": "a449961a-4ee2-4dbb-bb44-db7cd2549215",
   "metadata": {
    "tags": []
   },
   "outputs": [],
   "source": [
    "# 8개의 csv을 dataframe으로 읽어오기\n",
    "## 유니코드(UTF-8)로 코딩이 되지 않아 한국 코드(euc-kr)를 사용하도록 함.\n",
    "## str로 가져오기 때문에 thousands = ','을 통해 ','없이 데이터를 가져와 가공하기 쉽게한다.\n",
    "df_p_raw1= pd.read_csv('202001_202002_연령별인구현황_월간.csv', encoding = 'euc-kr', thousands = ',')\n",
    "df_p_raw2= pd.read_csv('202003_202008_연령별인구현황_월간.csv', encoding = 'euc-kr', thousands = ',')\n",
    "df_p_raw3= pd.read_csv('202009_202102_연령별인구현황_월간.csv', encoding = 'euc-kr', thousands = ',')\n",
    "df_p_raw4= pd.read_csv('202103_202108_연령별인구현황_월간.csv', encoding = 'euc-kr', thousands = ',')\n",
    "df_p_raw5= pd.read_csv('202109_202202_연령별인구현황_월간.csv', encoding = 'euc-kr', thousands = ',')\n",
    "df_p_raw6= pd.read_csv('202203_202208_연령별인구현황_월간.csv', encoding = 'euc-kr', thousands = ',')\n",
    "df_p_raw7= pd.read_csv('202209_202302_연령별인구현황_월간.csv', encoding = 'euc-kr', thousands = ',')\n",
    "df_p_raw8= pd.read_csv('202303_202308_연령별인구현황_월간.csv', encoding = 'euc-kr', thousands = ',')\n",
    "\n",
    "# 8개의 csv파일을 concat을 통해 상하 합치기(axis=0) \n",
    "## ignore_index=False를 통해 컬럼명이나 인덱스를 그대로 유지해 가져옴\n",
    "concat_list = [df_p_raw1, df_p_raw2, df_p_raw3, df_p_raw4, df_p_raw5, df_p_raw6, df_p_raw7, df_p_raw8]\n",
    "df_p_tmp_1 = pd.concat(concat_list, axis=0, ignore_index=False)\n",
    "\n",
    "# df_p_tmp_1['행정구역'] == '전국  (0000000000)' bool자료를 통해 필요치 않은 지역별 연령별인구현황 row를 제거\n",
    "df_p_tmp_2 = df_p_tmp_1.loc[df_p_tmp_1['행정구역'] == '전국  (0000000000)']\n",
    "\n",
    "# NaN 데이터를 0으로 바꾸기\n",
    "df_p_tmp_3 = df_p_tmp_2.replace(np.nan,0)\n",
    "\n",
    "# dataframe의 행렬 전환\n",
    "df_p_tmp_4 = df_p_tmp_3.T\n",
    "\n",
    "# 필요하지 않은 row[0] 데이터 지우기\n",
    "df_p_tmp_5 = df_p_tmp_4.iloc[1:,:]\n",
    "\n",
    "# 년,월,연령구간 데이터가 있는 index에서 str.slice()를 통해 column[year], column[month], column[step] 데이터 만들기\n",
    "year = df_p_tmp_5.index.astype('str').str.slice(0,4) \n",
    "month = df_p_tmp_5.index.astype('str').str.slice(5,7)\n",
    "step = df_p_tmp_5.index.astype('str').str[9:]\n",
    "df_p_tmp_5['year'] = year\n",
    "df_p_tmp_5['month'] = month\n",
    "df_p_tmp_5['step'] = step\n",
    "\n",
    "# 여러행에 나눠져있는 전국 연령별 인구수를 합쳐(sum) 정리한 column[total] 데이터 만들기\n",
    "total = df_p_tmp_5.iloc[:,:8].astype(int).sum(axis =1)\n",
    "df_p_tmp_5['total'] = total.astype(int)\n",
    "\n",
    "#피봇테이블을 할 데이터만 남기기\n",
    "df_p_tmp_6 = df_p_tmp_5.loc[:, ['year', 'month', 'step', 'total']]\n",
    "\n",
    "# column[year], column[month]을 index(행)로 하여 column[step]별로 인구수를 표현하는 피봇테이블 생성\n",
    "df_p_tmp_7 = df_p_tmp_6.pivot(index=['year','month'],columns=['step'],values=['total'])\n",
    "\n",
    "# reset_index()를 통해 index가 된 column[year], column[month]을 column으로 변경하기\n",
    "df_p_tmp_8 = df_p_tmp_7.reset_index()\n",
    "\n",
    "# multiindex인 column명을 droplevel(0)을 통해 index로 바꾸기\n",
    "df_p_tmp_8.columns = df_p_tmp_8.columns.droplevel(0)\n",
    "\n",
    "# 필요하지 않은 데이터 제거하기\n",
    "df_p_tmp_9 = df_p_tmp_8.iloc[:,0:13]\n",
    "\n",
    "# 컬럼명 바꾸기\n",
    "df_p_tmp_9.columns =  np.concatenate([np.array(['year','month']),df_p_tmp_9.columns[2:]])\n",
    "\n",
    "# 80세 이상인 column을 모아 합계를 구하고, 이전 데이터는 삭제\n",
    "df_p_tmp_9['80세이상'] = df_p_tmp_9.iloc[:,[3,11,12]].sum(1)\n",
    "df_p_tmp_9.drop(columns=df_p_tmp_9.iloc[:,[3,11,12]].columns,inplace=True)\n",
    "\n",
    "# 컬럼명 바꾸기\n",
    "df_p_tmp_9.columns = ['year','month', '0-9(population)', '10-19(population)', '20-29(population)',\n",
    "       '30-39(population)', '40-49(population)', '50-59(population)',\n",
    "       '60-69(population)', '70-79(population)', 'over80(population)']\n",
    "\n",
    "# dataframe 이름 바꾸기\n",
    "df_population = df_p_tmp_9"
   ]
  },
  {
   "cell_type": "code",
   "execution_count": 7,
   "id": "9c08a662-2d6a-4b3a-bd1b-786f3b5ee868",
   "metadata": {
    "tags": []
   },
   "outputs": [],
   "source": [
    "# 년월별에 따른 연령마다의 확진률(확진자수/총인구수) : df_r_raw\n",
    "# 가공하여 df_rate를 만들기"
   ]
  },
  {
   "cell_type": "code",
   "execution_count": 8,
   "id": "76ab0782-4e5e-4765-bc44-88f68aa8fa56",
   "metadata": {
    "tags": []
   },
   "outputs": [],
   "source": [
    "# dataframe끼리의 '/'을 통해 df_r_raw 생성하기\n",
    "df_r_raw = pd.DataFrame(df_confirmed_case.values.astype(int)/df_population.values.astype(int),columns=df_population.columns)\n",
    "\n",
    "# 필요치 않은 데이터 제거\n",
    "df_r_tmp1 = df_r_raw.iloc[:, 2:]\n",
    "\n",
    "# 컬럼명 바꾸기\n",
    "df_r_tmp1.columns = ['0-9(rate)', '10-19(rate)', '20-29(rate)',\n",
    "       '30-39(rate)', '40-49(rate)',\n",
    "       '50-59(rate)', '60-69(rate)',\n",
    "       '70-79(rate)', 'over80(rate)']\n",
    "\n",
    "#데이터프레임 이름바꾸기\n",
    "df_rate = df_r_tmp1"
   ]
  },
  {
   "cell_type": "code",
   "execution_count": 9,
   "id": "5863842d-1c18-40ad-9c33-727bd4519343",
   "metadata": {
    "tags": []
   },
   "outputs": [],
   "source": [
    "# dataframe[df_population], dataframe[df_confirmed_case], dataframe[df_rate]을 합치고, 원하는 컬럼순대로 정리 후, csv로 내보내기"
   ]
  },
  {
   "cell_type": "code",
   "execution_count": 10,
   "id": "49019efd-909a-40c8-9934-4b86cb551fed",
   "metadata": {
    "tags": []
   },
   "outputs": [],
   "source": [
    "# dataframe concat으로 합치기\n",
    "df = pd.concat([df_population, df_confirmed_case, df_rate], axis=1)\n",
    "\n",
    "# 컬럼순서 정리하기\n",
    "df_final=df[['year', 'month', \n",
    "             '0-9(population)', '0-9(confirmed_case)', '0-9(rate)',\n",
    "            '10-19(population)', '10-19(confirmed_case)', '10-19(rate)',\n",
    "            '20-29(population)', '20-29(confirmed_case)', '20-29(rate)',\n",
    "            '30-39(population)', '30-39(confirmed_case)', '30-39(rate)',\n",
    "            '40-49(population)', '40-49(confirmed_case)', '40-49(rate)',\n",
    "            '50-59(population)', '50-59(confirmed_case)', '50-59(rate)',\n",
    "            '60-69(population)', '60-69(confirmed_case)', '60-69(rate)',\n",
    "            '70-79(population)', '70-79(confirmed_case)', '70-79(rate)',\n",
    "            'over80(population)', 'over80(confirmed_case)', 'over80(rate)']]\n",
    "\n",
    "# csv파일로 내보내기\n",
    "df_final.to_csv('df_final.csv')"
   ]
  }
 ],
 "metadata": {
  "kernelspec": {
   "display_name": "Python 3 (ipykernel)",
   "language": "python",
   "name": "python3"
  },
  "language_info": {
   "codemirror_mode": {
    "name": "ipython",
    "version": 3
   },
   "file_extension": ".py",
   "mimetype": "text/x-python",
   "name": "python",
   "nbconvert_exporter": "python",
   "pygments_lexer": "ipython3",
   "version": "3.11.4"
  }
 },
 "nbformat": 4,
 "nbformat_minor": 5
}
