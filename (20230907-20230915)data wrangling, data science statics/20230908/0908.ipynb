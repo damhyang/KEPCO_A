{
 "cells": [
  {
   "cell_type": "code",
   "execution_count": 5,
   "metadata": {},
   "outputs": [
    {
     "name": "stdout",
     "output_type": "stream",
     "text": [
      "Collecting numpy\n",
      "  Downloading numpy-1.25.2-cp311-cp311-win_amd64.whl (15.5 MB)\n",
      "                                              0.0/15.5 MB ? eta -:--:--\n",
      "                                              0.2/15.5 MB 4.1 MB/s eta 0:00:04\n",
      "     -                                        0.5/15.5 MB 5.6 MB/s eta 0:00:03\n",
      "     --                                       0.9/15.5 MB 6.0 MB/s eta 0:00:03\n",
      "     --                                       1.2/15.5 MB 6.1 MB/s eta 0:00:03\n",
      "     ---                                      1.5/15.5 MB 6.3 MB/s eta 0:00:03\n",
      "     ----                                     1.8/15.5 MB 6.4 MB/s eta 0:00:03\n",
      "     -----                                    2.1/15.5 MB 6.4 MB/s eta 0:00:03\n",
      "     ------                                   2.4/15.5 MB 6.4 MB/s eta 0:00:03\n",
      "     -------                                  2.7/15.5 MB 6.5 MB/s eta 0:00:02\n",
      "     -------                                  3.1/15.5 MB 6.5 MB/s eta 0:00:02\n",
      "     --------                                 3.3/15.5 MB 6.5 MB/s eta 0:00:02\n",
      "     ---------                                3.7/15.5 MB 6.5 MB/s eta 0:00:02\n",
      "     ----------                               4.0/15.5 MB 6.5 MB/s eta 0:00:02\n",
      "     -----------                              4.3/15.5 MB 6.5 MB/s eta 0:00:02\n",
      "     ------------                             4.7/15.5 MB 6.6 MB/s eta 0:00:02\n",
      "     ------------                             5.0/15.5 MB 6.7 MB/s eta 0:00:02\n",
      "     -------------                            5.4/15.5 MB 6.7 MB/s eta 0:00:02\n",
      "     --------------                           5.7/15.5 MB 6.8 MB/s eta 0:00:02\n",
      "     ---------------                          6.1/15.5 MB 6.8 MB/s eta 0:00:02\n",
      "     ----------------                         6.5/15.5 MB 6.9 MB/s eta 0:00:02\n",
      "     -----------------                        6.9/15.5 MB 7.0 MB/s eta 0:00:02\n",
      "     ------------------                       7.3/15.5 MB 7.1 MB/s eta 0:00:02\n",
      "     --------------------                     7.9/15.5 MB 7.3 MB/s eta 0:00:02\n",
      "     ---------------------                    8.4/15.5 MB 7.5 MB/s eta 0:00:01\n",
      "     ---------------------                    8.4/15.5 MB 7.5 MB/s eta 0:00:01\n",
      "     ---------------------                    8.4/15.5 MB 7.5 MB/s eta 0:00:01\n",
      "     ---------------------                    8.4/15.5 MB 7.5 MB/s eta 0:00:01\n",
      "     ---------------------                    8.4/15.5 MB 7.5 MB/s eta 0:00:01\n",
      "     ----------------------                   8.6/15.5 MB 6.3 MB/s eta 0:00:02\n",
      "     -----------------------                  9.2/15.5 MB 6.6 MB/s eta 0:00:01\n",
      "     -------------------------                9.7/15.5 MB 6.8 MB/s eta 0:00:01\n",
      "     --------------------------               10.3/15.5 MB 7.0 MB/s eta 0:00:01\n",
      "     ---------------------------              10.8/15.5 MB 7.2 MB/s eta 0:00:01\n",
      "     -----------------------------            11.4/15.5 MB 7.3 MB/s eta 0:00:01\n",
      "     ------------------------------           12.0/15.5 MB 7.5 MB/s eta 0:00:01\n",
      "     --------------------------------         12.5/15.5 MB 7.7 MB/s eta 0:00:01\n",
      "     ---------------------------------        13.1/15.5 MB 8.0 MB/s eta 0:00:01\n",
      "     -----------------------------------      13.6/15.5 MB 8.2 MB/s eta 0:00:01\n",
      "     ------------------------------------     14.2/15.5 MB 8.4 MB/s eta 0:00:01\n",
      "     -------------------------------------    14.7/15.5 MB 8.6 MB/s eta 0:00:01\n",
      "     ---------------------------------------  15.3/15.5 MB 8.8 MB/s eta 0:00:01\n",
      "     ---------------------------------------  15.5/15.5 MB 8.8 MB/s eta 0:00:01\n",
      "     ---------------------------------------- 15.5/15.5 MB 8.6 MB/s eta 0:00:00\n",
      "Installing collected packages: numpy\n",
      "Successfully installed numpy-1.25.2\n"
     ]
    },
    {
     "name": "stderr",
     "output_type": "stream",
     "text": [
      "\n",
      "[notice] A new release of pip is available: 23.1.2 -> 23.2.1\n",
      "[notice] To update, run: python.exe -m pip install --upgrade pip\n"
     ]
    }
   ],
   "source": [
    "!pip install numpy"
   ]
  },
  {
   "cell_type": "code",
   "execution_count": 19,
   "metadata": {},
   "outputs": [],
   "source": [
    "import numpy as np"
   ]
  },
  {
   "cell_type": "code",
   "execution_count": 2,
   "metadata": {},
   "outputs": [
    {
     "data": {
      "text/plain": [
       "3"
      ]
     },
     "execution_count": 2,
     "metadata": {},
     "output_type": "execute_result"
    }
   ],
   "source": [
    "len([1,2,3])"
   ]
  },
  {
   "cell_type": "code",
   "execution_count": 11,
   "metadata": {},
   "outputs": [
    {
     "data": {
      "text/plain": [
       "['__abs__',\n",
       " '__add__',\n",
       " '__and__',\n",
       " '__bool__',\n",
       " '__ceil__',\n",
       " '__class__',\n",
       " '__delattr__',\n",
       " '__dir__',\n",
       " '__divmod__',\n",
       " '__doc__',\n",
       " '__eq__',\n",
       " '__float__',\n",
       " '__floor__',\n",
       " '__floordiv__',\n",
       " '__format__',\n",
       " '__ge__',\n",
       " '__getattribute__',\n",
       " '__getnewargs__',\n",
       " '__getstate__',\n",
       " '__gt__',\n",
       " '__hash__',\n",
       " '__index__',\n",
       " '__init__',\n",
       " '__init_subclass__',\n",
       " '__int__',\n",
       " '__invert__',\n",
       " '__le__',\n",
       " '__lshift__',\n",
       " '__lt__',\n",
       " '__mod__',\n",
       " '__mul__',\n",
       " '__ne__',\n",
       " '__neg__',\n",
       " '__new__',\n",
       " '__or__',\n",
       " '__pos__',\n",
       " '__pow__',\n",
       " '__radd__',\n",
       " '__rand__',\n",
       " '__rdivmod__',\n",
       " '__reduce__',\n",
       " '__reduce_ex__',\n",
       " '__repr__',\n",
       " '__rfloordiv__',\n",
       " '__rlshift__',\n",
       " '__rmod__',\n",
       " '__rmul__',\n",
       " '__ror__',\n",
       " '__round__',\n",
       " '__rpow__',\n",
       " '__rrshift__',\n",
       " '__rshift__',\n",
       " '__rsub__',\n",
       " '__rtruediv__',\n",
       " '__rxor__',\n",
       " '__setattr__',\n",
       " '__sizeof__',\n",
       " '__str__',\n",
       " '__sub__',\n",
       " '__subclasshook__',\n",
       " '__truediv__',\n",
       " '__trunc__',\n",
       " '__xor__',\n",
       " 'as_integer_ratio',\n",
       " 'bit_count',\n",
       " 'bit_length',\n",
       " 'conjugate',\n",
       " 'denominator',\n",
       " 'from_bytes',\n",
       " 'imag',\n",
       " 'numerator',\n",
       " 'real',\n",
       " 'to_bytes']"
      ]
     },
     "execution_count": 11,
     "metadata": {},
     "output_type": "execute_result"
    }
   ],
   "source": [
    "a=10\n",
    "dir(a)"
   ]
  },
  {
   "cell_type": "code",
   "execution_count": 13,
   "metadata": {},
   "outputs": [
    {
     "data": {
      "text/plain": [
       "['__abs__',\n",
       " '__add__',\n",
       " '__and__',\n",
       " '__bool__',\n",
       " '__ceil__',\n",
       " '__class__',\n",
       " '__delattr__',\n",
       " '__dir__',\n",
       " '__divmod__',\n",
       " '__doc__',\n",
       " '__eq__',\n",
       " '__float__',\n",
       " '__floor__',\n",
       " '__floordiv__',\n",
       " '__format__',\n",
       " '__ge__',\n",
       " '__getattribute__',\n",
       " '__getnewargs__',\n",
       " '__getstate__',\n",
       " '__gt__',\n",
       " '__hash__',\n",
       " '__index__',\n",
       " '__init__',\n",
       " '__init_subclass__',\n",
       " '__int__',\n",
       " '__invert__',\n",
       " '__le__',\n",
       " '__lshift__',\n",
       " '__lt__',\n",
       " '__mod__',\n",
       " '__mul__',\n",
       " '__ne__',\n",
       " '__neg__',\n",
       " '__new__',\n",
       " '__or__',\n",
       " '__pos__',\n",
       " '__pow__',\n",
       " '__radd__',\n",
       " '__rand__',\n",
       " '__rdivmod__',\n",
       " '__reduce__',\n",
       " '__reduce_ex__',\n",
       " '__repr__',\n",
       " '__rfloordiv__',\n",
       " '__rlshift__',\n",
       " '__rmod__',\n",
       " '__rmul__',\n",
       " '__ror__',\n",
       " '__round__',\n",
       " '__rpow__',\n",
       " '__rrshift__',\n",
       " '__rshift__',\n",
       " '__rsub__',\n",
       " '__rtruediv__',\n",
       " '__rxor__',\n",
       " '__setattr__',\n",
       " '__sizeof__',\n",
       " '__str__',\n",
       " '__sub__',\n",
       " '__subclasshook__',\n",
       " '__truediv__',\n",
       " '__trunc__',\n",
       " '__xor__',\n",
       " 'as_integer_ratio',\n",
       " 'bit_count',\n",
       " 'bit_length',\n",
       " 'conjugate',\n",
       " 'denominator',\n",
       " 'from_bytes',\n",
       " 'imag',\n",
       " 'numerator',\n",
       " 'real',\n",
       " 'to_bytes']"
      ]
     },
     "execution_count": 13,
     "metadata": {},
     "output_type": "execute_result"
    }
   ],
   "source": [
    "dir(10)"
   ]
  },
  {
   "cell_type": "code",
   "execution_count": 14,
   "metadata": {},
   "outputs": [
    {
     "name": "stdout",
     "output_type": "stream",
     "text": [
      "Collecting pandas\n",
      "  Downloading pandas-2.1.0-cp311-cp311-win_amd64.whl (11.0 MB)\n",
      "                                              0.0/11.0 MB ? eta -:--:--\n",
      "     -                                        0.4/11.0 MB 11.6 MB/s eta 0:00:01\n",
      "     ---                                      1.0/11.0 MB 11.0 MB/s eta 0:00:01\n",
      "     -----                                    1.5/11.0 MB 10.4 MB/s eta 0:00:01\n",
      "     -------                                  2.0/11.0 MB 11.4 MB/s eta 0:00:01\n",
      "     --------                                 2.4/11.0 MB 11.2 MB/s eta 0:00:01\n",
      "     ----------                               2.9/11.0 MB 11.4 MB/s eta 0:00:01\n",
      "     ------------                             3.4/11.0 MB 11.3 MB/s eta 0:00:01\n",
      "     -------------                            3.8/11.0 MB 11.5 MB/s eta 0:00:01\n",
      "     ---------------                          4.3/11.0 MB 11.3 MB/s eta 0:00:01\n",
      "     ----------------                         4.7/11.0 MB 11.5 MB/s eta 0:00:01\n",
      "     ------------------                       5.2/11.0 MB 11.4 MB/s eta 0:00:01\n",
      "     --------------------                     5.7/11.0 MB 11.7 MB/s eta 0:00:01\n",
      "     ----------------------                   6.1/11.0 MB 11.4 MB/s eta 0:00:01\n",
      "     -----------------------                  6.6/11.0 MB 11.6 MB/s eta 0:00:01\n",
      "     -------------------------                7.1/11.0 MB 11.6 MB/s eta 0:00:01\n",
      "     ---------------------------              7.5/11.0 MB 11.5 MB/s eta 0:00:01\n",
      "     -----------------------------            8.1/11.0 MB 11.8 MB/s eta 0:00:01\n",
      "     -------------------------------          8.6/11.0 MB 11.7 MB/s eta 0:00:01\n",
      "     --------------------------------         9.1/11.0 MB 11.6 MB/s eta 0:00:01\n",
      "     ----------------------------------       9.5/11.0 MB 11.7 MB/s eta 0:00:01\n",
      "     -----------------------------------     10.0/11.0 MB 11.6 MB/s eta 0:00:01\n",
      "     ------------------------------------    10.4/11.0 MB 11.9 MB/s eta 0:00:01\n",
      "     --------------------------------------  10.9/11.0 MB 12.1 MB/s eta 0:00:01\n",
      "     --------------------------------------  11.0/11.0 MB 11.9 MB/s eta 0:00:01\n",
      "     --------------------------------------- 11.0/11.0 MB 11.1 MB/s eta 0:00:00\n",
      "Requirement already satisfied: numpy>=1.23.2 in c:\\users\\user\\appdata\\local\\programs\\python\\python311\\lib\\site-packages (from pandas) (1.25.2)\n",
      "Requirement already satisfied: python-dateutil>=2.8.2 in c:\\users\\user\\appdata\\roaming\\python\\python311\\site-packages (from pandas) (2.8.2)\n",
      "Collecting pytz>=2020.1 (from pandas)\n",
      "  Downloading pytz-2023.3.post1-py2.py3-none-any.whl (502 kB)\n",
      "                                              0.0/502.5 kB ? eta -:--:--\n",
      "     ------------------------------------  501.8/502.5 kB 15.9 MB/s eta 0:00:01\n",
      "     ------------------------------------- 502.5/502.5 kB 10.5 MB/s eta 0:00:00\n",
      "Collecting tzdata>=2022.1 (from pandas)\n",
      "  Downloading tzdata-2023.3-py2.py3-none-any.whl (341 kB)\n",
      "                                              0.0/341.8 kB ? eta -:--:--\n",
      "     ------------------------------------- 341.8/341.8 kB 10.7 MB/s eta 0:00:00\n",
      "Requirement already satisfied: six>=1.5 in c:\\users\\user\\appdata\\roaming\\python\\python311\\site-packages (from python-dateutil>=2.8.2->pandas) (1.16.0)\n",
      "Installing collected packages: pytz, tzdata, pandas\n",
      "Successfully installed pandas-2.1.0 pytz-2023.3.post1 tzdata-2023.3\n"
     ]
    },
    {
     "name": "stderr",
     "output_type": "stream",
     "text": [
      "\n",
      "[notice] A new release of pip is available: 23.1.2 -> 23.2.1\n",
      "[notice] To update, run: python.exe -m pip install --upgrade pip\n"
     ]
    }
   ],
   "source": [
    "!pip install pandas"
   ]
  },
  {
   "cell_type": "code",
   "execution_count": 17,
   "metadata": {},
   "outputs": [],
   "source": [
    "import pandas as pd"
   ]
  },
  {
   "cell_type": "code",
   "execution_count": 1,
   "metadata": {},
   "outputs": [
    {
     "name": "stdout",
     "output_type": "stream",
     "text": [
      "3\n"
     ]
    }
   ],
   "source": [
    "print(len([1,2,3]))"
   ]
  },
  {
   "cell_type": "code",
   "execution_count": 21,
   "metadata": {},
   "outputs": [],
   "source": [
    "import time"
   ]
  },
  {
   "cell_type": "code",
   "execution_count": 24,
   "metadata": {},
   "outputs": [
    {
     "data": {
      "text/plain": [
       "['c:\\\\mypy\\\\20230907\\\\이강욱',\n",
       " 'c:\\\\Users\\\\user\\\\AppData\\\\Local\\\\Programs\\\\Python\\\\Python311\\\\python311.zip',\n",
       " 'c:\\\\Users\\\\user\\\\AppData\\\\Local\\\\Programs\\\\Python\\\\Python311\\\\DLLs',\n",
       " 'c:\\\\Users\\\\user\\\\AppData\\\\Local\\\\Programs\\\\Python\\\\Python311\\\\Lib',\n",
       " 'c:\\\\Users\\\\user\\\\AppData\\\\Local\\\\Programs\\\\Python\\\\Python311',\n",
       " '',\n",
       " 'C:\\\\Users\\\\user\\\\AppData\\\\Roaming\\\\Python\\\\Python311\\\\site-packages',\n",
       " 'C:\\\\Users\\\\user\\\\AppData\\\\Roaming\\\\Python\\\\Python311\\\\site-packages\\\\win32',\n",
       " 'C:\\\\Users\\\\user\\\\AppData\\\\Roaming\\\\Python\\\\Python311\\\\site-packages\\\\win32\\\\lib',\n",
       " 'C:\\\\Users\\\\user\\\\AppData\\\\Roaming\\\\Python\\\\Python311\\\\site-packages\\\\Pythonwin',\n",
       " 'c:\\\\Users\\\\user\\\\AppData\\\\Local\\\\Programs\\\\Python\\\\Python311\\\\Lib\\\\site-packages']"
      ]
     },
     "execution_count": 24,
     "metadata": {},
     "output_type": "execute_result"
    }
   ],
   "source": [
    "import sys\n",
    "sys.path"
   ]
  },
  {
   "cell_type": "code",
   "execution_count": 9,
   "metadata": {},
   "outputs": [
    {
     "data": {
      "text/plain": [
       "['ArithmeticError',\n",
       " 'AssertionError',\n",
       " 'AttributeError',\n",
       " 'BaseException',\n",
       " 'BaseExceptionGroup',\n",
       " 'BlockingIOError',\n",
       " 'BrokenPipeError',\n",
       " 'BufferError',\n",
       " 'BytesWarning',\n",
       " 'ChildProcessError',\n",
       " 'ConnectionAbortedError',\n",
       " 'ConnectionError',\n",
       " 'ConnectionRefusedError',\n",
       " 'ConnectionResetError',\n",
       " 'DeprecationWarning',\n",
       " 'EOFError',\n",
       " 'Ellipsis',\n",
       " 'EncodingWarning',\n",
       " 'EnvironmentError',\n",
       " 'Exception',\n",
       " 'ExceptionGroup',\n",
       " 'False',\n",
       " 'FileExistsError',\n",
       " 'FileNotFoundError',\n",
       " 'FloatingPointError',\n",
       " 'FutureWarning',\n",
       " 'GeneratorExit',\n",
       " 'IOError',\n",
       " 'ImportError',\n",
       " 'ImportWarning',\n",
       " 'IndentationError',\n",
       " 'IndexError',\n",
       " 'InterruptedError',\n",
       " 'IsADirectoryError',\n",
       " 'KeyError',\n",
       " 'KeyboardInterrupt',\n",
       " 'LookupError',\n",
       " 'MemoryError',\n",
       " 'ModuleNotFoundError',\n",
       " 'NameError',\n",
       " 'None',\n",
       " 'NotADirectoryError',\n",
       " 'NotImplemented',\n",
       " 'NotImplementedError',\n",
       " 'OSError',\n",
       " 'OverflowError',\n",
       " 'PendingDeprecationWarning',\n",
       " 'PermissionError',\n",
       " 'ProcessLookupError',\n",
       " 'RecursionError',\n",
       " 'ReferenceError',\n",
       " 'ResourceWarning',\n",
       " 'RuntimeError',\n",
       " 'RuntimeWarning',\n",
       " 'StopAsyncIteration',\n",
       " 'StopIteration',\n",
       " 'SyntaxError',\n",
       " 'SyntaxWarning',\n",
       " 'SystemError',\n",
       " 'SystemExit',\n",
       " 'TabError',\n",
       " 'TimeoutError',\n",
       " 'True',\n",
       " 'TypeError',\n",
       " 'UnboundLocalError',\n",
       " 'UnicodeDecodeError',\n",
       " 'UnicodeEncodeError',\n",
       " 'UnicodeError',\n",
       " 'UnicodeTranslateError',\n",
       " 'UnicodeWarning',\n",
       " 'UserWarning',\n",
       " 'ValueError',\n",
       " 'Warning',\n",
       " 'WindowsError',\n",
       " 'ZeroDivisionError',\n",
       " '__IPYTHON__',\n",
       " '__build_class__',\n",
       " '__debug__',\n",
       " '__doc__',\n",
       " '__import__',\n",
       " '__loader__',\n",
       " '__name__',\n",
       " '__package__',\n",
       " '__spec__',\n",
       " 'abs',\n",
       " 'aiter',\n",
       " 'all',\n",
       " 'anext',\n",
       " 'any',\n",
       " 'ascii',\n",
       " 'bin',\n",
       " 'bool',\n",
       " 'breakpoint',\n",
       " 'bytearray',\n",
       " 'bytes',\n",
       " 'callable',\n",
       " 'chr',\n",
       " 'classmethod',\n",
       " 'compile',\n",
       " 'complex',\n",
       " 'copyright',\n",
       " 'credits',\n",
       " 'delattr',\n",
       " 'dict',\n",
       " 'dir',\n",
       " 'display',\n",
       " 'divmod',\n",
       " 'enumerate',\n",
       " 'eval',\n",
       " 'exec',\n",
       " 'execfile',\n",
       " 'filter',\n",
       " 'float',\n",
       " 'format',\n",
       " 'frozenset',\n",
       " 'get_ipython',\n",
       " 'getattr',\n",
       " 'globals',\n",
       " 'hasattr',\n",
       " 'hash',\n",
       " 'help',\n",
       " 'hex',\n",
       " 'id',\n",
       " 'input',\n",
       " 'int',\n",
       " 'isinstance',\n",
       " 'issubclass',\n",
       " 'iter',\n",
       " 'len',\n",
       " 'license',\n",
       " 'list',\n",
       " 'locals',\n",
       " 'map',\n",
       " 'max',\n",
       " 'memoryview',\n",
       " 'min',\n",
       " 'next',\n",
       " 'object',\n",
       " 'oct',\n",
       " 'open',\n",
       " 'ord',\n",
       " 'pow',\n",
       " 'print',\n",
       " 'property',\n",
       " 'range',\n",
       " 'repr',\n",
       " 'reversed',\n",
       " 'round',\n",
       " 'runfile',\n",
       " 'set',\n",
       " 'setattr',\n",
       " 'slice',\n",
       " 'sorted',\n",
       " 'staticmethod',\n",
       " 'str',\n",
       " 'sum',\n",
       " 'super',\n",
       " 'tuple',\n",
       " 'type',\n",
       " 'vars',\n",
       " 'zip']"
      ]
     },
     "execution_count": 9,
     "metadata": {},
     "output_type": "execute_result"
    }
   ],
   "source": [
    "dir(__builtins__)"
   ]
  },
  {
   "cell_type": "code",
   "execution_count": 14,
   "metadata": {},
   "outputs": [],
   "source": [
    "#내장함수 중에서 len이 있는 것을 확인해보자.\n",
    "#위의 값dir(__builtins__) 은 리스트형 자료임을 바탕으로 for문으로 찾아보자.\n",
    "##len이 있으면 실행된다\n",
    "\n",
    "for i in dir(__builtins__) : \n",
    "    if i == 'len':\n",
    "        dir(__builtins__)"
   ]
  },
  {
   "cell_type": "code",
   "execution_count": 17,
   "metadata": {},
   "outputs": [
    {
     "name": "stdout",
     "output_type": "stream",
     "text": [
      "128\n"
     ]
    }
   ],
   "source": [
    "# enumerate를 활용하여 dir(__builtins__)리스트형자료에서 len의 위치를 찾아보자.\n",
    "\n",
    "for idx, val in enumerate(dir(__builtins__)):\n",
    "    if val == 'len':\n",
    "        print(idx)"
   ]
  },
  {
   "cell_type": "code",
   "execution_count": 18,
   "metadata": {},
   "outputs": [
    {
     "data": {
      "text/plain": [
       "'len'"
      ]
     },
     "execution_count": 18,
     "metadata": {},
     "output_type": "execute_result"
    }
   ],
   "source": [
    "#dir(__builtins__)의 128qjsdl len인지 확인해보자.\n",
    "dir(__builtins__)[128]"
   ]
  },
  {
   "cell_type": "code",
   "execution_count": 19,
   "metadata": {},
   "outputs": [
    {
     "data": {
      "text/plain": [
       "3"
      ]
     },
     "execution_count": 19,
     "metadata": {},
     "output_type": "execute_result"
    }
   ],
   "source": [
    "#len은 내장함수이다.\n",
    "#len은 함수이고, len(a)는 값이다.\n",
    "a= [1,2,3]\n",
    "len(a)"
   ]
  },
  {
   "cell_type": "code",
   "execution_count": null,
   "metadata": {},
   "outputs": [],
   "source": [
    "a=[5,4,6]\n",
    "#\n",
    "#앞에서 a= [1,2,3]을 주었지만 나중에 a=[5,4,6]을 하면 변수a는 덮어씌워진다.\n",
    "#변수는 1개만 존재하되, 새롭게 덮어씌워진다."
   ]
  },
  {
   "cell_type": "code",
   "execution_count": 41,
   "metadata": {},
   "outputs": [],
   "source": [
    "#만일 함수도 덮어쓰기가 되는지 확인해보자.\n",
    "#len함수는 내장함수이기 때문에 에러가 뜨므로 for문으로 만들어보자.\n",
    "def len1(x):\n",
    "    s=0\n",
    "    for i in x:\n",
    "        s+=1\n",
    "    return s + 100"
   ]
  },
  {
   "cell_type": "code",
   "execution_count": 42,
   "metadata": {},
   "outputs": [],
   "source": [
    "del len  ##기존의 len함수를 지움.\n",
    "len = len1  ##다시 함수정의함."
   ]
  },
  {
   "cell_type": "code",
   "execution_count": 43,
   "metadata": {},
   "outputs": [
    {
     "data": {
      "text/plain": [
       "103"
      ]
     },
     "execution_count": 43,
     "metadata": {},
     "output_type": "execute_result"
    }
   ],
   "source": [
    "len(a)  ##len함수를 del을 통해 지우고, len1을 len으로 하였기 때문에 결과 103이다."
   ]
  },
  {
   "cell_type": "code",
   "execution_count": null,
   "metadata": {},
   "outputs": [],
   "source": []
  },
  {
   "cell_type": "code",
   "execution_count": 44,
   "metadata": {},
   "outputs": [],
   "source": [
    "##이 파일과 같은 경로에 py확장자의 패키지를 만들자.\n",
    "\n",
    "import len"
   ]
  },
  {
   "cell_type": "code",
   "execution_count": 28,
   "metadata": {},
   "outputs": [],
   "source": [
    "!pip install scikit-learn"
   ]
  },
  {
   "cell_type": "code",
   "execution_count": 29,
   "metadata": {},
   "outputs": [],
   "source": [
    "from sklearn.model_selection import train_test_split"
   ]
  }
 ],
 "metadata": {
  "kernelspec": {
   "display_name": "Python 3",
   "language": "python",
   "name": "python3"
  },
  "language_info": {
   "codemirror_mode": {
    "name": "ipython",
    "version": 3
   },
   "file_extension": ".py",
   "mimetype": "text/x-python",
   "name": "python",
   "nbconvert_exporter": "python",
   "pygments_lexer": "ipython3",
   "version": "3.11.4"
  },
  "orig_nbformat": 4
 },
 "nbformat": 4,
 "nbformat_minor": 2
}
