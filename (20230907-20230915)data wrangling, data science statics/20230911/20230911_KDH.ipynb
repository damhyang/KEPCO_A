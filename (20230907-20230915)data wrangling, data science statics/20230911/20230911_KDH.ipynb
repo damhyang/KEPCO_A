{
 "cells": [
  {
   "cell_type": "code",
   "execution_count": 4,
   "id": "227761d7-aedc-4707-9617-762328f6c96a",
   "metadata": {
    "tags": []
   },
   "outputs": [],
   "source": [
    "import pandas as pd\n",
    "import numpy as np"
   ]
  },
  {
   "cell_type": "code",
   "execution_count": 5,
   "id": "edd39599-d876-433f-af1a-24c16a09d1a4",
   "metadata": {
    "tags": []
   },
   "outputs": [
    {
     "ename": "ModuleNotFoundError",
     "evalue": "No module named 'gdown'",
     "output_type": "error",
     "traceback": [
      "\u001b[1;31m---------------------------------------------------------------------------\u001b[0m",
      "\u001b[1;31mModuleNotFoundError\u001b[0m                       Traceback (most recent call last)",
      "Cell \u001b[1;32mIn[5], line 1\u001b[0m\n\u001b[1;32m----> 1\u001b[0m \u001b[38;5;28;01mimport\u001b[39;00m \u001b[38;5;21;01mgdown\u001b[39;00m\n",
      "\u001b[1;31mModuleNotFoundError\u001b[0m: No module named 'gdown'"
     ]
    }
   ],
   "source": [
    "import gdown  ##코드랩에서는 구글을 기본으로 쓰다보니까 자동으로 gdown이 깔려있지만, 아나콘다에서는 아니므로 cmd에서 gdown을 깔아줘야함.\n",
    "\n"
   ]
  },
  {
   "cell_type": "code",
   "execution_count": 6,
   "id": "b4d15e42-4ab9-47b2-b850-690cd0bb83d3",
   "metadata": {
    "tags": []
   },
   "outputs": [],
   "source": [
    "import gdown"
   ]
  },
  {
   "cell_type": "code",
   "execution_count": 64,
   "id": "bf7b7dde-7b15-4c42-a031-700de9f1ee4d",
   "metadata": {
    "tags": []
   },
   "outputs": [
    {
     "name": "stderr",
     "output_type": "stream",
     "text": [
      "Downloading...\n",
      "From: https://bit.ly/3RhoNho\n",
      "To: c:\\work\\ns_202104.csv\n",
      "100%|█████████████████████████████████████████████████████████████████████████████| 57.6M/57.6M [00:06<00:00, 8.68MB/s]\n"
     ]
    },
    {
     "data": {
      "text/plain": [
       "'ns_202104.csv'"
      ]
     },
     "execution_count": 64,
     "metadata": {},
     "output_type": "execute_result"
    }
   ],
   "source": [
    "gdown.download('https://bit.ly/3RhoNho', 'ns_202104.csv',quiet=False) ##그런데 경로와 파일명을 알고 있기 때문에 굳이 gdown.download()을 쓰지 않고 아래의 판다스의 "
   ]
  },
  {
   "cell_type": "code",
   "execution_count": 114,
   "id": "f8232243-887c-4fe8-baae-5d68533fbe0a",
   "metadata": {
    "tags": []
   },
   "outputs": [
    {
     "name": "stderr",
     "output_type": "stream",
     "text": [
      "C:\\Users\\user\\AppData\\Local\\Temp\\ipykernel_29736\\369920610.py:1: DtypeWarning: Columns (5,6,9) have mixed types. Specify dtype option on import or set low_memory=False.\n",
      "  df = pd.read_csv('https://bit.ly/3RhoNho')\n"
     ]
    }
   ],
   "source": [
    "df = pd.read_csv('https://bit.ly/3RhoNho')"
   ]
  },
  {
   "cell_type": "code",
   "execution_count": 116,
   "id": "ecef4716-7b7e-48e8-8227-94271f67f57d",
   "metadata": {
    "tags": []
   },
   "outputs": [
    {
     "data": {
      "text/html": [
       "<div>\n",
       "<style scoped>\n",
       "    .dataframe tbody tr th:only-of-type {\n",
       "        vertical-align: middle;\n",
       "    }\n",
       "\n",
       "    .dataframe tbody tr th {\n",
       "        vertical-align: top;\n",
       "    }\n",
       "\n",
       "    .dataframe thead th {\n",
       "        text-align: right;\n",
       "    }\n",
       "</style>\n",
       "<table border=\"1\" class=\"dataframe\">\n",
       "  <thead>\n",
       "    <tr style=\"text-align: right;\">\n",
       "      <th></th>\n",
       "      <th>번호</th>\n",
       "      <th>도서명</th>\n",
       "      <th>저자</th>\n",
       "      <th>출판사</th>\n",
       "      <th>발행년도</th>\n",
       "      <th>ISBN</th>\n",
       "      <th>세트 ISBN</th>\n",
       "      <th>부가기호</th>\n",
       "      <th>권</th>\n",
       "      <th>주제분류번호</th>\n",
       "      <th>도서권수</th>\n",
       "      <th>대출건수</th>\n",
       "      <th>등록일자</th>\n",
       "      <th>Unnamed: 13</th>\n",
       "    </tr>\n",
       "  </thead>\n",
       "  <tbody>\n",
       "    <tr>\n",
       "      <th>0</th>\n",
       "      <td>1</td>\n",
       "      <td>인공지능과 흙</td>\n",
       "      <td>김동훈 지음</td>\n",
       "      <td>민음사</td>\n",
       "      <td>2021</td>\n",
       "      <td>9788937444319</td>\n",
       "      <td>NaN</td>\n",
       "      <td>NaN</td>\n",
       "      <td>NaN</td>\n",
       "      <td>NaN</td>\n",
       "      <td>1</td>\n",
       "      <td>0</td>\n",
       "      <td>2021-03-19</td>\n",
       "      <td>NaN</td>\n",
       "    </tr>\n",
       "    <tr>\n",
       "      <th>1</th>\n",
       "      <td>2</td>\n",
       "      <td>가짜 행복 권하는 사회</td>\n",
       "      <td>김태형 지음</td>\n",
       "      <td>갈매나무</td>\n",
       "      <td>2021</td>\n",
       "      <td>9791190123969</td>\n",
       "      <td>NaN</td>\n",
       "      <td>NaN</td>\n",
       "      <td>NaN</td>\n",
       "      <td>NaN</td>\n",
       "      <td>1</td>\n",
       "      <td>0</td>\n",
       "      <td>2021-03-19</td>\n",
       "      <td>NaN</td>\n",
       "    </tr>\n",
       "    <tr>\n",
       "      <th>2</th>\n",
       "      <td>3</td>\n",
       "      <td>나도 한 문장 잘 쓰면 바랄 게 없겠네</td>\n",
       "      <td>김선영 지음</td>\n",
       "      <td>블랙피쉬</td>\n",
       "      <td>2021</td>\n",
       "      <td>9788968332982</td>\n",
       "      <td>NaN</td>\n",
       "      <td>NaN</td>\n",
       "      <td>NaN</td>\n",
       "      <td>NaN</td>\n",
       "      <td>1</td>\n",
       "      <td>0</td>\n",
       "      <td>2021-03-19</td>\n",
       "      <td>NaN</td>\n",
       "    </tr>\n",
       "    <tr>\n",
       "      <th>3</th>\n",
       "      <td>4</td>\n",
       "      <td>예루살렘 해변</td>\n",
       "      <td>이도 게펜 지음, 임재희 옮김</td>\n",
       "      <td>문학세계사</td>\n",
       "      <td>2021</td>\n",
       "      <td>9788970759906</td>\n",
       "      <td>NaN</td>\n",
       "      <td>NaN</td>\n",
       "      <td>NaN</td>\n",
       "      <td>NaN</td>\n",
       "      <td>1</td>\n",
       "      <td>0</td>\n",
       "      <td>2021-03-19</td>\n",
       "      <td>NaN</td>\n",
       "    </tr>\n",
       "    <tr>\n",
       "      <th>4</th>\n",
       "      <td>5</td>\n",
       "      <td>김성곤의 중국한시기행 : 장강·황하 편</td>\n",
       "      <td>김성곤 지음</td>\n",
       "      <td>김영사</td>\n",
       "      <td>2021</td>\n",
       "      <td>9788934990833</td>\n",
       "      <td>NaN</td>\n",
       "      <td>NaN</td>\n",
       "      <td>NaN</td>\n",
       "      <td>NaN</td>\n",
       "      <td>1</td>\n",
       "      <td>0</td>\n",
       "      <td>2021-03-19</td>\n",
       "      <td>NaN</td>\n",
       "    </tr>\n",
       "  </tbody>\n",
       "</table>\n",
       "</div>"
      ],
      "text/plain": [
       "   번호                    도서명                저자    출판사  발행년도           ISBN  \\\n",
       "0   1                인공지능과 흙            김동훈 지음    민음사  2021  9788937444319   \n",
       "1   2           가짜 행복 권하는 사회            김태형 지음   갈매나무  2021  9791190123969   \n",
       "2   3  나도 한 문장 잘 쓰면 바랄 게 없겠네            김선영 지음   블랙피쉬  2021  9788968332982   \n",
       "3   4                예루살렘 해변  이도 게펜 지음, 임재희 옮김  문학세계사  2021  9788970759906   \n",
       "4   5  김성곤의 중국한시기행 : 장강·황하 편            김성곤 지음    김영사  2021  9788934990833   \n",
       "\n",
       "  세트 ISBN 부가기호    권 주제분류번호  도서권수  대출건수        등록일자  Unnamed: 13  \n",
       "0     NaN  NaN  NaN    NaN     1     0  2021-03-19          NaN  \n",
       "1     NaN  NaN  NaN    NaN     1     0  2021-03-19          NaN  \n",
       "2     NaN  NaN  NaN    NaN     1     0  2021-03-19          NaN  \n",
       "3     NaN  NaN  NaN    NaN     1     0  2021-03-19          NaN  \n",
       "4     NaN  NaN  NaN    NaN     1     0  2021-03-19          NaN  "
      ]
     },
     "execution_count": 116,
     "metadata": {},
     "output_type": "execute_result"
    }
   ],
   "source": [
    "df.head()"
   ]
  },
  {
   "cell_type": "code",
   "execution_count": 68,
   "id": "d8a66fa3-b5a5-4c48-a9de-94c46cd34953",
   "metadata": {
    "tags": []
   },
   "outputs": [
    {
     "data": {
      "text/plain": [
       "(401682, 14)"
      ]
     },
     "execution_count": 68,
     "metadata": {},
     "output_type": "execute_result"
    }
   ],
   "source": [
    "df.shape"
   ]
  },
  {
   "cell_type": "code",
   "execution_count": 79,
   "id": "b3368991-5ec0-4294-8cd2-4e12c4436509",
   "metadata": {
    "tags": []
   },
   "outputs": [
    {
     "data": {
      "text/plain": [
       "Index(['번호', '도서명', '저자', '출판사', '발행년도', 'ISBN', '세트 ISBN', '부가기호', '권',\n",
       "       '주제분류번호', '도서권수', '대출건수', '등록일자', 'Unnamed: 13'],\n",
       "      dtype='object')"
      ]
     },
     "execution_count": 79,
     "metadata": {},
     "output_type": "execute_result"
    }
   ],
   "source": [
    "df.columns  #열의 index를 리스트형으로 불러옴."
   ]
  },
  {
   "cell_type": "code",
   "execution_count": 93,
   "id": "c8159504-752a-417a-96ae-286bafd87afd",
   "metadata": {
    "tags": []
   },
   "outputs": [
    {
     "data": {
      "text/plain": [
       "'Unnamed: 13'"
      ]
     },
     "execution_count": 93,
     "metadata": {},
     "output_type": "execute_result"
    }
   ],
   "source": [
    "df.columns[-1]  #df.columns리스트에서 -1자리의 값을 불러옴."
   ]
  },
  {
   "cell_type": "code",
   "execution_count": 71,
   "id": "a5569263-1b2d-4754-ad66-ea6ad6e8001e",
   "metadata": {
    "tags": []
   },
   "outputs": [
    {
     "data": {
      "text/plain": [
       "14"
      ]
     },
     "execution_count": 71,
     "metadata": {},
     "output_type": "execute_result"
    }
   ],
   "source": [
    "df.columns\n",
    "len(df.columns)\n",
    "df.shape[1]\n",
    "df.columns.size"
   ]
  },
  {
   "cell_type": "code",
   "execution_count": 91,
   "id": "bd1d193d-01cd-4b6f-b389-10f2eab73553",
   "metadata": {
    "tags": []
   },
   "outputs": [
    {
     "data": {
      "text/plain": [
       "array([ 0,  1,  2,  3,  4,  5,  6,  7,  8,  9, 10, 11, 12])"
      ]
     },
     "execution_count": 91,
     "metadata": {},
     "output_type": "execute_result"
    }
   ],
   "source": [
    "np.arange(13)"
   ]
  },
  {
   "cell_type": "code",
   "execution_count": 92,
   "id": "71554838-1bb1-42e5-a83d-858a682e5ed4",
   "metadata": {
    "tags": []
   },
   "outputs": [
    {
     "data": {
      "text/plain": [
       "array([False,  True, False, False, False, False, False, False, False,\n",
       "       False, False, False, False])"
      ]
     },
     "execution_count": 92,
     "metadata": {},
     "output_type": "execute_result"
    }
   ],
   "source": [
    "np.arange(13) == 1"
   ]
  },
  {
   "cell_type": "code",
   "execution_count": 96,
   "id": "8f132a25-5c8e-4341-be1a-ecd0d4b54ebf",
   "metadata": {
    "tags": []
   },
   "outputs": [
    {
     "data": {
      "text/plain": [
       "array([False, False, False, False, False, False, False, False, False,\n",
       "       False, False, False, False,  True])"
      ]
     },
     "execution_count": 96,
     "metadata": {},
     "output_type": "execute_result"
    }
   ],
   "source": [
    "df.columns == df.columns[-1]"
   ]
  },
  {
   "cell_type": "code",
   "execution_count": 97,
   "id": "8b2a8731-361a-461f-abad-6cdeb747d77b",
   "metadata": {
    "tags": []
   },
   "outputs": [
    {
     "data": {
      "text/plain": [
       "array([ True,  True,  True,  True,  True,  True,  True,  True,  True,\n",
       "        True,  True,  True,  True, False])"
      ]
     },
     "execution_count": 97,
     "metadata": {},
     "output_type": "execute_result"
    }
   ],
   "source": [
    "~(df.columns == df.columns[-1])"
   ]
  },
  {
   "cell_type": "code",
   "execution_count": 85,
   "id": "2dc51ac1-c2ad-484a-bd23-7707151cdbc7",
   "metadata": {
    "tags": []
   },
   "outputs": [
    {
     "data": {
      "text/plain": [
       "[True,\n",
       " True,\n",
       " True,\n",
       " True,\n",
       " True,\n",
       " True,\n",
       " True,\n",
       " True,\n",
       " True,\n",
       " True,\n",
       " True,\n",
       " True,\n",
       " True,\n",
       " False]"
      ]
     },
     "execution_count": 85,
     "metadata": {},
     "output_type": "execute_result"
    }
   ],
   "source": [
    "[True]*13+[False]"
   ]
  },
  {
   "cell_type": "code",
   "execution_count": 90,
   "id": "e90a4cc4-a535-4398-8be9-d617a8501b9c",
   "metadata": {
    "tags": []
   },
   "outputs": [
    {
     "data": {
      "text/html": [
       "<div>\n",
       "<style scoped>\n",
       "    .dataframe tbody tr th:only-of-type {\n",
       "        vertical-align: middle;\n",
       "    }\n",
       "\n",
       "    .dataframe tbody tr th {\n",
       "        vertical-align: top;\n",
       "    }\n",
       "\n",
       "    .dataframe thead th {\n",
       "        text-align: right;\n",
       "    }\n",
       "</style>\n",
       "<table border=\"1\" class=\"dataframe\">\n",
       "  <thead>\n",
       "    <tr style=\"text-align: right;\">\n",
       "      <th></th>\n",
       "      <th>번호</th>\n",
       "      <th>도서명</th>\n",
       "      <th>저자</th>\n",
       "      <th>출판사</th>\n",
       "      <th>발행년도</th>\n",
       "      <th>ISBN</th>\n",
       "      <th>세트 ISBN</th>\n",
       "      <th>부가기호</th>\n",
       "      <th>권</th>\n",
       "      <th>주제분류번호</th>\n",
       "      <th>도서권수</th>\n",
       "      <th>대출건수</th>\n",
       "      <th>등록일자</th>\n",
       "    </tr>\n",
       "  </thead>\n",
       "  <tbody>\n",
       "    <tr>\n",
       "      <th>0</th>\n",
       "      <td>1</td>\n",
       "      <td>인공지능과 흙</td>\n",
       "      <td>김동훈 지음</td>\n",
       "      <td>민음사</td>\n",
       "      <td>2021</td>\n",
       "      <td>9788937444319</td>\n",
       "      <td>NaN</td>\n",
       "      <td>NaN</td>\n",
       "      <td>NaN</td>\n",
       "      <td>NaN</td>\n",
       "      <td>1</td>\n",
       "      <td>0</td>\n",
       "      <td>2021-03-19</td>\n",
       "    </tr>\n",
       "    <tr>\n",
       "      <th>1</th>\n",
       "      <td>2</td>\n",
       "      <td>가짜 행복 권하는 사회</td>\n",
       "      <td>김태형 지음</td>\n",
       "      <td>갈매나무</td>\n",
       "      <td>2021</td>\n",
       "      <td>9791190123969</td>\n",
       "      <td>NaN</td>\n",
       "      <td>NaN</td>\n",
       "      <td>NaN</td>\n",
       "      <td>NaN</td>\n",
       "      <td>1</td>\n",
       "      <td>0</td>\n",
       "      <td>2021-03-19</td>\n",
       "    </tr>\n",
       "    <tr>\n",
       "      <th>2</th>\n",
       "      <td>3</td>\n",
       "      <td>나도 한 문장 잘 쓰면 바랄 게 없겠네</td>\n",
       "      <td>김선영 지음</td>\n",
       "      <td>블랙피쉬</td>\n",
       "      <td>2021</td>\n",
       "      <td>9788968332982</td>\n",
       "      <td>NaN</td>\n",
       "      <td>NaN</td>\n",
       "      <td>NaN</td>\n",
       "      <td>NaN</td>\n",
       "      <td>1</td>\n",
       "      <td>0</td>\n",
       "      <td>2021-03-19</td>\n",
       "    </tr>\n",
       "    <tr>\n",
       "      <th>3</th>\n",
       "      <td>4</td>\n",
       "      <td>예루살렘 해변</td>\n",
       "      <td>이도 게펜 지음, 임재희 옮김</td>\n",
       "      <td>문학세계사</td>\n",
       "      <td>2021</td>\n",
       "      <td>9788970759906</td>\n",
       "      <td>NaN</td>\n",
       "      <td>NaN</td>\n",
       "      <td>NaN</td>\n",
       "      <td>NaN</td>\n",
       "      <td>1</td>\n",
       "      <td>0</td>\n",
       "      <td>2021-03-19</td>\n",
       "    </tr>\n",
       "    <tr>\n",
       "      <th>4</th>\n",
       "      <td>5</td>\n",
       "      <td>김성곤의 중국한시기행 : 장강·황하 편</td>\n",
       "      <td>김성곤 지음</td>\n",
       "      <td>김영사</td>\n",
       "      <td>2021</td>\n",
       "      <td>9788934990833</td>\n",
       "      <td>NaN</td>\n",
       "      <td>NaN</td>\n",
       "      <td>NaN</td>\n",
       "      <td>NaN</td>\n",
       "      <td>1</td>\n",
       "      <td>0</td>\n",
       "      <td>2021-03-19</td>\n",
       "    </tr>\n",
       "  </tbody>\n",
       "</table>\n",
       "</div>"
      ],
      "text/plain": [
       "   번호                    도서명                저자    출판사  발행년도           ISBN  \\\n",
       "0   1                인공지능과 흙            김동훈 지음    민음사  2021  9788937444319   \n",
       "1   2           가짜 행복 권하는 사회            김태형 지음   갈매나무  2021  9791190123969   \n",
       "2   3  나도 한 문장 잘 쓰면 바랄 게 없겠네            김선영 지음   블랙피쉬  2021  9788968332982   \n",
       "3   4                예루살렘 해변  이도 게펜 지음, 임재희 옮김  문학세계사  2021  9788970759906   \n",
       "4   5  김성곤의 중국한시기행 : 장강·황하 편            김성곤 지음    김영사  2021  9788934990833   \n",
       "\n",
       "  세트 ISBN 부가기호    권 주제분류번호  도서권수  대출건수        등록일자  \n",
       "0     NaN  NaN  NaN    NaN     1     0  2021-03-19  \n",
       "1     NaN  NaN  NaN    NaN     1     0  2021-03-19  \n",
       "2     NaN  NaN  NaN    NaN     1     0  2021-03-19  \n",
       "3     NaN  NaN  NaN    NaN     1     0  2021-03-19  \n",
       "4     NaN  NaN  NaN    NaN     1     0  2021-03-19  "
      ]
     },
     "execution_count": 90,
     "metadata": {},
     "output_type": "execute_result"
    }
   ],
   "source": [
    "# iloc은 index를 기준으로 범위를 잡는다.\n",
    "# df.iloc[:,:-1] 은 [행 전체, 열은 0부터 -1번까지]로 범위를 잡는다는 뜻이다.\n",
    "\n",
    "df.iloc[:,:-1].head()\n",
    "df.iloc[:,:df.columns.size-1].head()\n",
    "df.iloc[:,np.arange(13)].head()"
   ]
  },
  {
   "cell_type": "code",
   "execution_count": 102,
   "id": "a75238d0-914e-4d02-a718-c246befa3aeb",
   "metadata": {
    "tags": []
   },
   "outputs": [
    {
     "data": {
      "text/html": [
       "<div>\n",
       "<style scoped>\n",
       "    .dataframe tbody tr th:only-of-type {\n",
       "        vertical-align: middle;\n",
       "    }\n",
       "\n",
       "    .dataframe tbody tr th {\n",
       "        vertical-align: top;\n",
       "    }\n",
       "\n",
       "    .dataframe thead th {\n",
       "        text-align: right;\n",
       "    }\n",
       "</style>\n",
       "<table border=\"1\" class=\"dataframe\">\n",
       "  <thead>\n",
       "    <tr style=\"text-align: right;\">\n",
       "      <th></th>\n",
       "      <th>번호</th>\n",
       "      <th>도서명</th>\n",
       "      <th>저자</th>\n",
       "      <th>출판사</th>\n",
       "      <th>발행년도</th>\n",
       "      <th>ISBN</th>\n",
       "      <th>세트 ISBN</th>\n",
       "      <th>부가기호</th>\n",
       "      <th>권</th>\n",
       "      <th>주제분류번호</th>\n",
       "      <th>도서권수</th>\n",
       "      <th>대출건수</th>\n",
       "      <th>등록일자</th>\n",
       "    </tr>\n",
       "  </thead>\n",
       "  <tbody>\n",
       "    <tr>\n",
       "      <th>0</th>\n",
       "      <td>1</td>\n",
       "      <td>인공지능과 흙</td>\n",
       "      <td>김동훈 지음</td>\n",
       "      <td>민음사</td>\n",
       "      <td>2021</td>\n",
       "      <td>9788937444319</td>\n",
       "      <td>NaN</td>\n",
       "      <td>NaN</td>\n",
       "      <td>NaN</td>\n",
       "      <td>NaN</td>\n",
       "      <td>1</td>\n",
       "      <td>0</td>\n",
       "      <td>2021-03-19</td>\n",
       "    </tr>\n",
       "    <tr>\n",
       "      <th>1</th>\n",
       "      <td>2</td>\n",
       "      <td>가짜 행복 권하는 사회</td>\n",
       "      <td>김태형 지음</td>\n",
       "      <td>갈매나무</td>\n",
       "      <td>2021</td>\n",
       "      <td>9791190123969</td>\n",
       "      <td>NaN</td>\n",
       "      <td>NaN</td>\n",
       "      <td>NaN</td>\n",
       "      <td>NaN</td>\n",
       "      <td>1</td>\n",
       "      <td>0</td>\n",
       "      <td>2021-03-19</td>\n",
       "    </tr>\n",
       "    <tr>\n",
       "      <th>2</th>\n",
       "      <td>3</td>\n",
       "      <td>나도 한 문장 잘 쓰면 바랄 게 없겠네</td>\n",
       "      <td>김선영 지음</td>\n",
       "      <td>블랙피쉬</td>\n",
       "      <td>2021</td>\n",
       "      <td>9788968332982</td>\n",
       "      <td>NaN</td>\n",
       "      <td>NaN</td>\n",
       "      <td>NaN</td>\n",
       "      <td>NaN</td>\n",
       "      <td>1</td>\n",
       "      <td>0</td>\n",
       "      <td>2021-03-19</td>\n",
       "    </tr>\n",
       "    <tr>\n",
       "      <th>3</th>\n",
       "      <td>4</td>\n",
       "      <td>예루살렘 해변</td>\n",
       "      <td>이도 게펜 지음, 임재희 옮김</td>\n",
       "      <td>문학세계사</td>\n",
       "      <td>2021</td>\n",
       "      <td>9788970759906</td>\n",
       "      <td>NaN</td>\n",
       "      <td>NaN</td>\n",
       "      <td>NaN</td>\n",
       "      <td>NaN</td>\n",
       "      <td>1</td>\n",
       "      <td>0</td>\n",
       "      <td>2021-03-19</td>\n",
       "    </tr>\n",
       "    <tr>\n",
       "      <th>4</th>\n",
       "      <td>5</td>\n",
       "      <td>김성곤의 중국한시기행 : 장강·황하 편</td>\n",
       "      <td>김성곤 지음</td>\n",
       "      <td>김영사</td>\n",
       "      <td>2021</td>\n",
       "      <td>9788934990833</td>\n",
       "      <td>NaN</td>\n",
       "      <td>NaN</td>\n",
       "      <td>NaN</td>\n",
       "      <td>NaN</td>\n",
       "      <td>1</td>\n",
       "      <td>0</td>\n",
       "      <td>2021-03-19</td>\n",
       "    </tr>\n",
       "  </tbody>\n",
       "</table>\n",
       "</div>"
      ],
      "text/plain": [
       "   번호                    도서명                저자    출판사  발행년도           ISBN  \\\n",
       "0   1                인공지능과 흙            김동훈 지음    민음사  2021  9788937444319   \n",
       "1   2           가짜 행복 권하는 사회            김태형 지음   갈매나무  2021  9791190123969   \n",
       "2   3  나도 한 문장 잘 쓰면 바랄 게 없겠네            김선영 지음   블랙피쉬  2021  9788968332982   \n",
       "3   4                예루살렘 해변  이도 게펜 지음, 임재희 옮김  문학세계사  2021  9788970759906   \n",
       "4   5  김성곤의 중국한시기행 : 장강·황하 편            김성곤 지음    김영사  2021  9788934990833   \n",
       "\n",
       "  세트 ISBN 부가기호    권 주제분류번호  도서권수  대출건수        등록일자  \n",
       "0     NaN  NaN  NaN    NaN     1     0  2021-03-19  \n",
       "1     NaN  NaN  NaN    NaN     1     0  2021-03-19  \n",
       "2     NaN  NaN  NaN    NaN     1     0  2021-03-19  \n",
       "3     NaN  NaN  NaN    NaN     1     0  2021-03-19  \n",
       "4     NaN  NaN  NaN    NaN     1     0  2021-03-19  "
      ]
     },
     "execution_count": 102,
     "metadata": {},
     "output_type": "execute_result"
    }
   ],
   "source": [
    "# loc은 column명 index을 기준으로 범위를 잡아 보여준다.\n",
    "# df.loc[:,'번호':'등록일자'] 은 [행 전체, 열은 번호부터 등록일자까지]로 범위를 잡는다는 뜻이다.\n",
    "# loc은 column이 True인 경우에 출력함.\n",
    "\n",
    "df.loc[:,'번호':'등록일자'].head()\n",
    "df.loc[:,:'등록일자'].head()\n",
    "df.loc[:,df.columns[:-1]].head()\n",
    "df.loc[:,[True]*13+[False]].head()\n",
    "df.loc[:,~(df.columns == df.columns[-1])].head()\n",
    "df.loc[:,df.columns != df.columns[-1]].head()"
   ]
  },
  {
   "cell_type": "code",
   "execution_count": 117,
   "id": "a5beef7a-4bce-4d46-b39a-b5b62c49a104",
   "metadata": {
    "tags": []
   },
   "outputs": [
    {
     "data": {
      "text/html": [
       "<div>\n",
       "<style scoped>\n",
       "    .dataframe tbody tr th:only-of-type {\n",
       "        vertical-align: middle;\n",
       "    }\n",
       "\n",
       "    .dataframe tbody tr th {\n",
       "        vertical-align: top;\n",
       "    }\n",
       "\n",
       "    .dataframe thead th {\n",
       "        text-align: right;\n",
       "    }\n",
       "</style>\n",
       "<table border=\"1\" class=\"dataframe\">\n",
       "  <thead>\n",
       "    <tr style=\"text-align: right;\">\n",
       "      <th></th>\n",
       "      <th>번호</th>\n",
       "      <th>도서명</th>\n",
       "      <th>저자</th>\n",
       "      <th>출판사</th>\n",
       "      <th>발행년도</th>\n",
       "      <th>ISBN</th>\n",
       "      <th>세트 ISBN</th>\n",
       "      <th>부가기호</th>\n",
       "      <th>권</th>\n",
       "      <th>주제분류번호</th>\n",
       "      <th>도서권수</th>\n",
       "      <th>대출건수</th>\n",
       "      <th>등록일자</th>\n",
       "    </tr>\n",
       "  </thead>\n",
       "  <tbody>\n",
       "    <tr>\n",
       "      <th>0</th>\n",
       "      <td>1</td>\n",
       "      <td>인공지능과 흙</td>\n",
       "      <td>김동훈 지음</td>\n",
       "      <td>민음사</td>\n",
       "      <td>2021</td>\n",
       "      <td>9788937444319</td>\n",
       "      <td>NaN</td>\n",
       "      <td>NaN</td>\n",
       "      <td>NaN</td>\n",
       "      <td>NaN</td>\n",
       "      <td>1</td>\n",
       "      <td>0</td>\n",
       "      <td>2021-03-19</td>\n",
       "    </tr>\n",
       "    <tr>\n",
       "      <th>1</th>\n",
       "      <td>2</td>\n",
       "      <td>가짜 행복 권하는 사회</td>\n",
       "      <td>김태형 지음</td>\n",
       "      <td>갈매나무</td>\n",
       "      <td>2021</td>\n",
       "      <td>9791190123969</td>\n",
       "      <td>NaN</td>\n",
       "      <td>NaN</td>\n",
       "      <td>NaN</td>\n",
       "      <td>NaN</td>\n",
       "      <td>1</td>\n",
       "      <td>0</td>\n",
       "      <td>2021-03-19</td>\n",
       "    </tr>\n",
       "    <tr>\n",
       "      <th>2</th>\n",
       "      <td>3</td>\n",
       "      <td>나도 한 문장 잘 쓰면 바랄 게 없겠네</td>\n",
       "      <td>김선영 지음</td>\n",
       "      <td>블랙피쉬</td>\n",
       "      <td>2021</td>\n",
       "      <td>9788968332982</td>\n",
       "      <td>NaN</td>\n",
       "      <td>NaN</td>\n",
       "      <td>NaN</td>\n",
       "      <td>NaN</td>\n",
       "      <td>1</td>\n",
       "      <td>0</td>\n",
       "      <td>2021-03-19</td>\n",
       "    </tr>\n",
       "    <tr>\n",
       "      <th>3</th>\n",
       "      <td>4</td>\n",
       "      <td>예루살렘 해변</td>\n",
       "      <td>이도 게펜 지음, 임재희 옮김</td>\n",
       "      <td>문학세계사</td>\n",
       "      <td>2021</td>\n",
       "      <td>9788970759906</td>\n",
       "      <td>NaN</td>\n",
       "      <td>NaN</td>\n",
       "      <td>NaN</td>\n",
       "      <td>NaN</td>\n",
       "      <td>1</td>\n",
       "      <td>0</td>\n",
       "      <td>2021-03-19</td>\n",
       "    </tr>\n",
       "    <tr>\n",
       "      <th>4</th>\n",
       "      <td>5</td>\n",
       "      <td>김성곤의 중국한시기행 : 장강·황하 편</td>\n",
       "      <td>김성곤 지음</td>\n",
       "      <td>김영사</td>\n",
       "      <td>2021</td>\n",
       "      <td>9788934990833</td>\n",
       "      <td>NaN</td>\n",
       "      <td>NaN</td>\n",
       "      <td>NaN</td>\n",
       "      <td>NaN</td>\n",
       "      <td>1</td>\n",
       "      <td>0</td>\n",
       "      <td>2021-03-19</td>\n",
       "    </tr>\n",
       "  </tbody>\n",
       "</table>\n",
       "</div>"
      ],
      "text/plain": [
       "   번호                    도서명                저자    출판사  발행년도           ISBN  \\\n",
       "0   1                인공지능과 흙            김동훈 지음    민음사  2021  9788937444319   \n",
       "1   2           가짜 행복 권하는 사회            김태형 지음   갈매나무  2021  9791190123969   \n",
       "2   3  나도 한 문장 잘 쓰면 바랄 게 없겠네            김선영 지음   블랙피쉬  2021  9788968332982   \n",
       "3   4                예루살렘 해변  이도 게펜 지음, 임재희 옮김  문학세계사  2021  9788970759906   \n",
       "4   5  김성곤의 중국한시기행 : 장강·황하 편            김성곤 지음    김영사  2021  9788934990833   \n",
       "\n",
       "  세트 ISBN 부가기호    권 주제분류번호  도서권수  대출건수        등록일자  \n",
       "0     NaN  NaN  NaN    NaN     1     0  2021-03-19  \n",
       "1     NaN  NaN  NaN    NaN     1     0  2021-03-19  \n",
       "2     NaN  NaN  NaN    NaN     1     0  2021-03-19  \n",
       "3     NaN  NaN  NaN    NaN     1     0  2021-03-19  \n",
       "4     NaN  NaN  NaN    NaN     1     0  2021-03-19  "
      ]
     },
     "execution_count": 117,
     "metadata": {},
     "output_type": "execute_result"
    }
   ],
   "source": [
    "# drop은 빼고 싶은 것을 적어준다.\n",
    "\n",
    "df.drop(columns=['Unnamed: 13']).head()\n",
    "df.drop(columns=df.columns[-1]).head()\n",
    "df.drop(['Unnamed: 13'], axis=1).head()"
   ]
  },
  {
   "cell_type": "code",
   "execution_count": null,
   "id": "96367679-d435-4435-bdc7-6d90d488f625",
   "metadata": {},
   "outputs": [],
   "source": [
    "df.iloc[:,'번호':'등록일자'].head  ##불가"
   ]
  },
  {
   "cell_type": "code",
   "execution_count": null,
   "id": "937db9e9-ea5c-466e-acd0-90daf9849368",
   "metadata": {},
   "outputs": [],
   "source": [
    "df.iloc[:,:].head()"
   ]
  },
  {
   "cell_type": "code",
   "execution_count": 16,
   "id": "a37cd27d-1968-483e-a38b-3fd29f4f4483",
   "metadata": {
    "tags": []
   },
   "outputs": [
    {
     "data": {
      "text/plain": [
       "번호                  0\n",
       "도서명               403\n",
       "저자                201\n",
       "출판사              4795\n",
       "발행년도               17\n",
       "ISBN                0\n",
       "세트 ISBN        339811\n",
       "부가기호            76648\n",
       "권              333415\n",
       "주제분류번호          20322\n",
       "도서권수                0\n",
       "대출건수                0\n",
       "등록일자                0\n",
       "Unnamed: 13    401682\n",
       "dtype: int64"
      ]
     },
     "execution_count": 16,
     "metadata": {},
     "output_type": "execute_result"
    }
   ],
   "source": [
    "df.isna().sum()"
   ]
  },
  {
   "cell_type": "code",
   "execution_count": 17,
   "id": "fd78f448-5107-4a94-b462-fc24d7d14bc4",
   "metadata": {
    "tags": []
   },
   "outputs": [
    {
     "data": {
      "text/plain": [
       "번호             False\n",
       "도서명            False\n",
       "저자             False\n",
       "출판사            False\n",
       "발행년도           False\n",
       "ISBN           False\n",
       "세트 ISBN         True\n",
       "부가기호           False\n",
       "권               True\n",
       "주제분류번호         False\n",
       "도서권수           False\n",
       "대출건수           False\n",
       "등록일자           False\n",
       "Unnamed: 13     True\n",
       "dtype: bool"
      ]
     },
     "execution_count": 17,
     "metadata": {},
     "output_type": "execute_result"
    }
   ],
   "source": [
    "df.isna().sum()/df.shape[0] > 0.7"
   ]
  },
  {
   "cell_type": "code",
   "execution_count": 18,
   "id": "1b542a6a-93e0-4914-92a2-ec50ee705893",
   "metadata": {
    "tags": []
   },
   "outputs": [
    {
     "data": {
      "text/plain": [
       "Index(['세트 ISBN', '권', 'Unnamed: 13'], dtype='object')"
      ]
     },
     "execution_count": 18,
     "metadata": {},
     "output_type": "execute_result"
    }
   ],
   "source": [
    "df.columns[df.isna().sum()/df.shape[0] > 0.7]"
   ]
  },
  {
   "cell_type": "code",
   "execution_count": 24,
   "id": "8ac6e6d6-2d73-4268-94d1-fccc068c1060",
   "metadata": {
    "tags": []
   },
   "outputs": [
    {
     "data": {
      "text/html": [
       "<div>\n",
       "<style scoped>\n",
       "    .dataframe tbody tr th:only-of-type {\n",
       "        vertical-align: middle;\n",
       "    }\n",
       "\n",
       "    .dataframe tbody tr th {\n",
       "        vertical-align: top;\n",
       "    }\n",
       "\n",
       "    .dataframe thead th {\n",
       "        text-align: right;\n",
       "    }\n",
       "</style>\n",
       "<table border=\"1\" class=\"dataframe\">\n",
       "  <thead>\n",
       "    <tr style=\"text-align: right;\">\n",
       "      <th></th>\n",
       "      <th>번호</th>\n",
       "      <th>도서명</th>\n",
       "      <th>저자</th>\n",
       "      <th>출판사</th>\n",
       "      <th>발행년도</th>\n",
       "      <th>ISBN</th>\n",
       "      <th>부가기호</th>\n",
       "      <th>주제분류번호</th>\n",
       "      <th>도서권수</th>\n",
       "      <th>대출건수</th>\n",
       "      <th>등록일자</th>\n",
       "    </tr>\n",
       "  </thead>\n",
       "  <tbody>\n",
       "    <tr>\n",
       "      <th>0</th>\n",
       "      <td>1</td>\n",
       "      <td>인공지능과 흙</td>\n",
       "      <td>김동훈 지음</td>\n",
       "      <td>민음사</td>\n",
       "      <td>2021</td>\n",
       "      <td>9788937444319</td>\n",
       "      <td>NaN</td>\n",
       "      <td>NaN</td>\n",
       "      <td>1</td>\n",
       "      <td>0</td>\n",
       "      <td>2021-03-19</td>\n",
       "    </tr>\n",
       "    <tr>\n",
       "      <th>1</th>\n",
       "      <td>2</td>\n",
       "      <td>가짜 행복 권하는 사회</td>\n",
       "      <td>김태형 지음</td>\n",
       "      <td>갈매나무</td>\n",
       "      <td>2021</td>\n",
       "      <td>9791190123969</td>\n",
       "      <td>NaN</td>\n",
       "      <td>NaN</td>\n",
       "      <td>1</td>\n",
       "      <td>0</td>\n",
       "      <td>2021-03-19</td>\n",
       "    </tr>\n",
       "    <tr>\n",
       "      <th>2</th>\n",
       "      <td>3</td>\n",
       "      <td>나도 한 문장 잘 쓰면 바랄 게 없겠네</td>\n",
       "      <td>김선영 지음</td>\n",
       "      <td>블랙피쉬</td>\n",
       "      <td>2021</td>\n",
       "      <td>9788968332982</td>\n",
       "      <td>NaN</td>\n",
       "      <td>NaN</td>\n",
       "      <td>1</td>\n",
       "      <td>0</td>\n",
       "      <td>2021-03-19</td>\n",
       "    </tr>\n",
       "    <tr>\n",
       "      <th>3</th>\n",
       "      <td>4</td>\n",
       "      <td>예루살렘 해변</td>\n",
       "      <td>이도 게펜 지음, 임재희 옮김</td>\n",
       "      <td>문학세계사</td>\n",
       "      <td>2021</td>\n",
       "      <td>9788970759906</td>\n",
       "      <td>NaN</td>\n",
       "      <td>NaN</td>\n",
       "      <td>1</td>\n",
       "      <td>0</td>\n",
       "      <td>2021-03-19</td>\n",
       "    </tr>\n",
       "    <tr>\n",
       "      <th>4</th>\n",
       "      <td>5</td>\n",
       "      <td>김성곤의 중국한시기행 : 장강·황하 편</td>\n",
       "      <td>김성곤 지음</td>\n",
       "      <td>김영사</td>\n",
       "      <td>2021</td>\n",
       "      <td>9788934990833</td>\n",
       "      <td>NaN</td>\n",
       "      <td>NaN</td>\n",
       "      <td>1</td>\n",
       "      <td>0</td>\n",
       "      <td>2021-03-19</td>\n",
       "    </tr>\n",
       "    <tr>\n",
       "      <th>...</th>\n",
       "      <td>...</td>\n",
       "      <td>...</td>\n",
       "      <td>...</td>\n",
       "      <td>...</td>\n",
       "      <td>...</td>\n",
       "      <td>...</td>\n",
       "      <td>...</td>\n",
       "      <td>...</td>\n",
       "      <td>...</td>\n",
       "      <td>...</td>\n",
       "      <td>...</td>\n",
       "    </tr>\n",
       "    <tr>\n",
       "      <th>401677</th>\n",
       "      <td>401678</td>\n",
       "      <td>韓國現代詩大系</td>\n",
       "      <td>채만묵 編著</td>\n",
       "      <td>한국문화사</td>\n",
       "      <td>1996</td>\n",
       "      <td>9788977352971</td>\n",
       "      <td>NaN</td>\n",
       "      <td>811.608</td>\n",
       "      <td>1</td>\n",
       "      <td>0</td>\n",
       "      <td>1970-01-01</td>\n",
       "    </tr>\n",
       "    <tr>\n",
       "      <th>401678</th>\n",
       "      <td>401679</td>\n",
       "      <td>뉴 웨이브</td>\n",
       "      <td>제임스 모나코 지음</td>\n",
       "      <td>한나래</td>\n",
       "      <td>1996</td>\n",
       "      <td>9788985367448</td>\n",
       "      <td>NaN</td>\n",
       "      <td>688.04</td>\n",
       "      <td>1</td>\n",
       "      <td>0</td>\n",
       "      <td>1970-01-01</td>\n",
       "    </tr>\n",
       "    <tr>\n",
       "      <th>401679</th>\n",
       "      <td>401680</td>\n",
       "      <td>(최인훈 장편소설)화두</td>\n",
       "      <td>최인훈 지음</td>\n",
       "      <td>민음사</td>\n",
       "      <td>1994</td>\n",
       "      <td>9788937401596</td>\n",
       "      <td>NaN</td>\n",
       "      <td>813.6</td>\n",
       "      <td>1</td>\n",
       "      <td>0</td>\n",
       "      <td>1970-01-01</td>\n",
       "    </tr>\n",
       "    <tr>\n",
       "      <th>401680</th>\n",
       "      <td>401681</td>\n",
       "      <td>독일 문학과 세계 문학</td>\n",
       "      <td>吳漢鎭 編著</td>\n",
       "      <td>벽호</td>\n",
       "      <td>1995</td>\n",
       "      <td>9788947700368</td>\n",
       "      <td>NaN</td>\n",
       "      <td>809.05</td>\n",
       "      <td>2</td>\n",
       "      <td>0</td>\n",
       "      <td>1970-01-01</td>\n",
       "    </tr>\n",
       "    <tr>\n",
       "      <th>401681</th>\n",
       "      <td>401682</td>\n",
       "      <td>참으로 소중한 생각</td>\n",
       "      <td>김일상 지음</td>\n",
       "      <td>동문사</td>\n",
       "      <td>1995</td>\n",
       "      <td>9788970610092</td>\n",
       "      <td>0</td>\n",
       "      <td>814.6</td>\n",
       "      <td>0</td>\n",
       "      <td>0</td>\n",
       "      <td>1970-01-01</td>\n",
       "    </tr>\n",
       "  </tbody>\n",
       "</table>\n",
       "<p>401682 rows × 11 columns</p>\n",
       "</div>"
      ],
      "text/plain": [
       "            번호                    도서명                저자    출판사  발행년도  \\\n",
       "0            1                인공지능과 흙            김동훈 지음    민음사  2021   \n",
       "1            2           가짜 행복 권하는 사회            김태형 지음   갈매나무  2021   \n",
       "2            3  나도 한 문장 잘 쓰면 바랄 게 없겠네            김선영 지음   블랙피쉬  2021   \n",
       "3            4                예루살렘 해변  이도 게펜 지음, 임재희 옮김  문학세계사  2021   \n",
       "4            5  김성곤의 중국한시기행 : 장강·황하 편            김성곤 지음    김영사  2021   \n",
       "...        ...                    ...               ...    ...   ...   \n",
       "401677  401678                韓國現代詩大系            채만묵 編著  한국문화사  1996   \n",
       "401678  401679                  뉴 웨이브        제임스 모나코 지음    한나래  1996   \n",
       "401679  401680           (최인훈 장편소설)화두            최인훈 지음    민음사  1994   \n",
       "401680  401681           독일 문학과 세계 문학            吳漢鎭 編著     벽호  1995   \n",
       "401681  401682             참으로 소중한 생각            김일상 지음    동문사  1995   \n",
       "\n",
       "                 ISBN 부가기호   주제분류번호  도서권수  대출건수        등록일자  \n",
       "0       9788937444319  NaN      NaN     1     0  2021-03-19  \n",
       "1       9791190123969  NaN      NaN     1     0  2021-03-19  \n",
       "2       9788968332982  NaN      NaN     1     0  2021-03-19  \n",
       "3       9788970759906  NaN      NaN     1     0  2021-03-19  \n",
       "4       9788934990833  NaN      NaN     1     0  2021-03-19  \n",
       "...               ...  ...      ...   ...   ...         ...  \n",
       "401677  9788977352971  NaN  811.608     1     0  1970-01-01  \n",
       "401678  9788985367448  NaN   688.04     1     0  1970-01-01  \n",
       "401679  9788937401596  NaN    813.6     1     0  1970-01-01  \n",
       "401680  9788947700368  NaN   809.05     2     0  1970-01-01  \n",
       "401681  9788970610092    0    814.6     0     0  1970-01-01  \n",
       "\n",
       "[401682 rows x 11 columns]"
      ]
     },
     "execution_count": 24,
     "metadata": {},
     "output_type": "execute_result"
    }
   ],
   "source": [
    "df.drop(columns = df.columns[df.isna().sum()/df.shape[0] > 0.7])"
   ]
  },
  {
   "cell_type": "code",
   "execution_count": 25,
   "id": "05faf11e-f29c-46b5-9c5d-826db7e60bac",
   "metadata": {
    "tags": []
   },
   "outputs": [],
   "source": [
    "new_df = df.drop(columns = df.columns[df.isna().sum()/df.shape[0] > 0.7])"
   ]
  },
  {
   "cell_type": "code",
   "execution_count": 26,
   "id": "120634ad-7f3c-4db0-b7a7-da2cb9837a0d",
   "metadata": {
    "tags": []
   },
   "outputs": [
    {
     "data": {
      "text/plain": [
       "0         2\n",
       "1         2\n",
       "2         2\n",
       "3         2\n",
       "4         2\n",
       "         ..\n",
       "401677    1\n",
       "401678    1\n",
       "401679    1\n",
       "401680    1\n",
       "401681    0\n",
       "Length: 401682, dtype: int64"
      ]
     },
     "execution_count": 26,
     "metadata": {},
     "output_type": "execute_result"
    }
   ],
   "source": [
    "new_df.isna().sum(1)"
   ]
  },
  {
   "cell_type": "code",
   "execution_count": 27,
   "id": "cee13087-6ca1-49a9-90cb-55688c3c6be9",
   "metadata": {
    "tags": []
   },
   "outputs": [
    {
     "data": {
      "text/plain": [
       "0         False\n",
       "1         False\n",
       "2         False\n",
       "3         False\n",
       "4         False\n",
       "          ...  \n",
       "401677    False\n",
       "401678    False\n",
       "401679    False\n",
       "401680    False\n",
       "401681    False\n",
       "Length: 401682, dtype: bool"
      ]
     },
     "execution_count": 27,
     "metadata": {},
     "output_type": "execute_result"
    }
   ],
   "source": [
    "new_df.isna().sum(1)/df.shape[1] > 0.2"
   ]
  },
  {
   "cell_type": "code",
   "execution_count": 28,
   "id": "51e0e322-43ad-4f48-b56c-c6a152966173",
   "metadata": {
    "tags": []
   },
   "outputs": [
    {
     "data": {
      "text/html": [
       "<div>\n",
       "<style scoped>\n",
       "    .dataframe tbody tr th:only-of-type {\n",
       "        vertical-align: middle;\n",
       "    }\n",
       "\n",
       "    .dataframe tbody tr th {\n",
       "        vertical-align: top;\n",
       "    }\n",
       "\n",
       "    .dataframe thead th {\n",
       "        text-align: right;\n",
       "    }\n",
       "</style>\n",
       "<table border=\"1\" class=\"dataframe\">\n",
       "  <thead>\n",
       "    <tr style=\"text-align: right;\">\n",
       "      <th></th>\n",
       "      <th>번호</th>\n",
       "      <th>도서명</th>\n",
       "      <th>저자</th>\n",
       "      <th>출판사</th>\n",
       "      <th>발행년도</th>\n",
       "      <th>ISBN</th>\n",
       "      <th>부가기호</th>\n",
       "      <th>주제분류번호</th>\n",
       "      <th>도서권수</th>\n",
       "      <th>대출건수</th>\n",
       "      <th>등록일자</th>\n",
       "    </tr>\n",
       "  </thead>\n",
       "  <tbody>\n",
       "    <tr>\n",
       "      <th>277</th>\n",
       "      <td>278</td>\n",
       "      <td>골목의 시간을 그리다</td>\n",
       "      <td>정명섭.김효찬 지음</td>\n",
       "      <td>NaN</td>\n",
       "      <td>2021</td>\n",
       "      <td>9791191266054</td>\n",
       "      <td>NaN</td>\n",
       "      <td>NaN</td>\n",
       "      <td>1</td>\n",
       "      <td>0</td>\n",
       "      <td>2021-03-12</td>\n",
       "    </tr>\n",
       "    <tr>\n",
       "      <th>366</th>\n",
       "      <td>367</td>\n",
       "      <td>한국인의 맛</td>\n",
       "      <td>정명섭 지음</td>\n",
       "      <td>NaN</td>\n",
       "      <td>2021</td>\n",
       "      <td>9791155401804</td>\n",
       "      <td>NaN</td>\n",
       "      <td>NaN</td>\n",
       "      <td>1</td>\n",
       "      <td>0</td>\n",
       "      <td>2021-03-12</td>\n",
       "    </tr>\n",
       "    <tr>\n",
       "      <th>551</th>\n",
       "      <td>552</td>\n",
       "      <td>한성부, 달 밝은 밤에</td>\n",
       "      <td>김이삭 지음</td>\n",
       "      <td>NaN</td>\n",
       "      <td>2021</td>\n",
       "      <td>9791163161479</td>\n",
       "      <td>NaN</td>\n",
       "      <td>NaN</td>\n",
       "      <td>1</td>\n",
       "      <td>0</td>\n",
       "      <td>2021-03-12</td>\n",
       "    </tr>\n",
       "    <tr>\n",
       "      <th>619</th>\n",
       "      <td>620</td>\n",
       "      <td>100일 완성 마그마 러시아어 중고급 단어장</td>\n",
       "      <td>러포자 구제 연구소 외 지음</td>\n",
       "      <td>NaN</td>\n",
       "      <td>2021</td>\n",
       "      <td>9788974829193</td>\n",
       "      <td>NaN</td>\n",
       "      <td>NaN</td>\n",
       "      <td>1</td>\n",
       "      <td>0</td>\n",
       "      <td>2021-03-12</td>\n",
       "    </tr>\n",
       "    <tr>\n",
       "      <th>658</th>\n",
       "      <td>659</td>\n",
       "      <td>수채 과슈로 그리는 나의 반려식물</td>\n",
       "      <td>송현미 지음</td>\n",
       "      <td>NaN</td>\n",
       "      <td>2021</td>\n",
       "      <td>9791187616986</td>\n",
       "      <td>NaN</td>\n",
       "      <td>NaN</td>\n",
       "      <td>1</td>\n",
       "      <td>0</td>\n",
       "      <td>2021-03-12</td>\n",
       "    </tr>\n",
       "    <tr>\n",
       "      <th>...</th>\n",
       "      <td>...</td>\n",
       "      <td>...</td>\n",
       "      <td>...</td>\n",
       "      <td>...</td>\n",
       "      <td>...</td>\n",
       "      <td>...</td>\n",
       "      <td>...</td>\n",
       "      <td>...</td>\n",
       "      <td>...</td>\n",
       "      <td>...</td>\n",
       "      <td>...</td>\n",
       "    </tr>\n",
       "    <tr>\n",
       "      <th>400367</th>\n",
       "      <td>400368</td>\n",
       "      <td>아무도 모를거야 내가 누군지</td>\n",
       "      <td>김향금 글 ; 이혜리 그림</td>\n",
       "      <td>NaN</td>\n",
       "      <td>1999</td>\n",
       "      <td>9788943303483</td>\n",
       "      <td>NaN</td>\n",
       "      <td>NaN</td>\n",
       "      <td>1</td>\n",
       "      <td>0</td>\n",
       "      <td>1970-01-01</td>\n",
       "    </tr>\n",
       "    <tr>\n",
       "      <th>400374</th>\n",
       "      <td>400375</td>\n",
       "      <td>바람과 물</td>\n",
       "      <td>임억규</td>\n",
       "      <td>NaN</td>\n",
       "      <td>2011</td>\n",
       "      <td>9788989358855</td>\n",
       "      <td>NaN</td>\n",
       "      <td>NaN</td>\n",
       "      <td>1</td>\n",
       "      <td>0</td>\n",
       "      <td>1970-01-01</td>\n",
       "    </tr>\n",
       "    <tr>\n",
       "      <th>400375</th>\n",
       "      <td>400376</td>\n",
       "      <td>자기분석</td>\n",
       "      <td>L. 론 허버드</td>\n",
       "      <td>NaN</td>\n",
       "      <td>2009</td>\n",
       "      <td>9781403172662</td>\n",
       "      <td>NaN</td>\n",
       "      <td>NaN</td>\n",
       "      <td>2</td>\n",
       "      <td>0</td>\n",
       "      <td>1970-01-01</td>\n",
       "    </tr>\n",
       "    <tr>\n",
       "      <th>400395</th>\n",
       "      <td>400396</td>\n",
       "      <td>인천문화예술연감</td>\n",
       "      <td>인천문화재단</td>\n",
       "      <td>NaN</td>\n",
       "      <td>2010</td>\n",
       "      <td>9788992678278</td>\n",
       "      <td>NaN</td>\n",
       "      <td>NaN</td>\n",
       "      <td>1</td>\n",
       "      <td>0</td>\n",
       "      <td>1970-01-01</td>\n",
       "    </tr>\n",
       "    <tr>\n",
       "      <th>400408</th>\n",
       "      <td>400409</td>\n",
       "      <td>걸어오길 잘했어요</td>\n",
       "      <td>전세중</td>\n",
       "      <td>NaN</td>\n",
       "      <td>2010</td>\n",
       "      <td>3000000000182</td>\n",
       "      <td>NaN</td>\n",
       "      <td>NaN</td>\n",
       "      <td>1</td>\n",
       "      <td>0</td>\n",
       "      <td>1970-01-01</td>\n",
       "    </tr>\n",
       "  </tbody>\n",
       "</table>\n",
       "<p>607 rows × 11 columns</p>\n",
       "</div>"
      ],
      "text/plain": [
       "            번호                       도서명               저자  출판사  발행년도  \\\n",
       "277        278               골목의 시간을 그리다       정명섭.김효찬 지음  NaN  2021   \n",
       "366        367                    한국인의 맛           정명섭 지음  NaN  2021   \n",
       "551        552              한성부, 달 밝은 밤에           김이삭 지음  NaN  2021   \n",
       "619        620  100일 완성 마그마 러시아어 중고급 단어장  러포자 구제 연구소 외 지음  NaN  2021   \n",
       "658        659        수채 과슈로 그리는 나의 반려식물           송현미 지음  NaN  2021   \n",
       "...        ...                       ...              ...  ...   ...   \n",
       "400367  400368           아무도 모를거야 내가 누군지   김향금 글 ; 이혜리 그림  NaN  1999   \n",
       "400374  400375                     바람과 물              임억규  NaN  2011   \n",
       "400375  400376                      자기분석         L. 론 허버드  NaN  2009   \n",
       "400395  400396                  인천문화예술연감           인천문화재단  NaN  2010   \n",
       "400408  400409                 걸어오길 잘했어요              전세중  NaN  2010   \n",
       "\n",
       "                 ISBN 부가기호 주제분류번호  도서권수  대출건수        등록일자  \n",
       "277     9791191266054  NaN    NaN     1     0  2021-03-12  \n",
       "366     9791155401804  NaN    NaN     1     0  2021-03-12  \n",
       "551     9791163161479  NaN    NaN     1     0  2021-03-12  \n",
       "619     9788974829193  NaN    NaN     1     0  2021-03-12  \n",
       "658     9791187616986  NaN    NaN     1     0  2021-03-12  \n",
       "...               ...  ...    ...   ...   ...         ...  \n",
       "400367  9788943303483  NaN    NaN     1     0  1970-01-01  \n",
       "400374  9788989358855  NaN    NaN     1     0  1970-01-01  \n",
       "400375  9781403172662  NaN    NaN     2     0  1970-01-01  \n",
       "400395  9788992678278  NaN    NaN     1     0  1970-01-01  \n",
       "400408  3000000000182  NaN    NaN     1     0  1970-01-01  \n",
       "\n",
       "[607 rows x 11 columns]"
      ]
     },
     "execution_count": 28,
     "metadata": {},
     "output_type": "execute_result"
    }
   ],
   "source": [
    "new_df.loc[new_df.isna().sum(1)/df.shape[1] > 0.2]"
   ]
  },
  {
   "cell_type": "code",
   "execution_count": null,
   "id": "74b386ad-1d2c-4f0a-ab4e-3ebf533c4b15",
   "metadata": {},
   "outputs": [],
   "source": [
    "#########################"
   ]
  },
  {
   "cell_type": "code",
   "execution_count": 29,
   "id": "d8ea7971-14d3-4425-801a-10f9ea52ee6b",
   "metadata": {
    "tags": []
   },
   "outputs": [
    {
     "data": {
      "text/plain": [
       "번호             0.000000\n",
       "도서명            0.001003\n",
       "저자             0.000500\n",
       "출판사            0.011937\n",
       "발행년도           0.000042\n",
       "ISBN           0.000000\n",
       "세트 ISBN        0.845970\n",
       "부가기호           0.190818\n",
       "권              0.830047\n",
       "주제분류번호         0.050592\n",
       "도서권수           0.000000\n",
       "대출건수           0.000000\n",
       "등록일자           0.000000\n",
       "Unnamed: 13    1.000000\n",
       "dtype: float64"
      ]
     },
     "execution_count": 29,
     "metadata": {},
     "output_type": "execute_result"
    }
   ],
   "source": [
    "df.isna().sum()/df.shape[0]"
   ]
  },
  {
   "cell_type": "code",
   "execution_count": 30,
   "id": "f89b9395-1170-40cf-b8bb-ccdde1767e9f",
   "metadata": {
    "tags": []
   },
   "outputs": [],
   "source": [
    "remove_cols = df.columns[df.isna().sum()/df.shape[0]>0.7]"
   ]
  },
  {
   "cell_type": "code",
   "execution_count": 32,
   "id": "93a2a60e-255e-4c5c-98a2-6257de79de24",
   "metadata": {
    "tags": []
   },
   "outputs": [],
   "source": [
    "df.drop(columns = remove_cols, inplace = True)"
   ]
  },
  {
   "cell_type": "code",
   "execution_count": 33,
   "id": "e461757d-1f91-40b5-96ad-f8aff60b91d2",
   "metadata": {
    "tags": []
   },
   "outputs": [],
   "source": [
    "remove_row = ((df.isna().sum(axis = 1)/df.shape[1]) > 0.2)"
   ]
  },
  {
   "cell_type": "code",
   "execution_count": null,
   "id": "c6614acf-1444-451e-81b2-d3b4336e4354",
   "metadata": {},
   "outputs": [],
   "source": [
    "df = df.loc[remove_raw, :]"
   ]
  },
  {
   "cell_type": "code",
   "execution_count": 34,
   "id": "ab2bf39a-04e4-4dac-b3d7-60e615f44255",
   "metadata": {
    "tags": []
   },
   "outputs": [],
   "source": [
    "test= pd.read_csv('test.csv')  #데이터프레임 형태로 가져온다."
   ]
  },
  {
   "cell_type": "code",
   "execution_count": 118,
   "id": "10875e66-a483-40f9-92f7-16c105285669",
   "metadata": {
    "tags": []
   },
   "outputs": [
    {
     "data": {
      "text/html": [
       "<div>\n",
       "<style scoped>\n",
       "    .dataframe tbody tr th:only-of-type {\n",
       "        vertical-align: middle;\n",
       "    }\n",
       "\n",
       "    .dataframe tbody tr th {\n",
       "        vertical-align: top;\n",
       "    }\n",
       "\n",
       "    .dataframe thead th {\n",
       "        text-align: right;\n",
       "    }\n",
       "</style>\n",
       "<table border=\"1\" class=\"dataframe\">\n",
       "  <thead>\n",
       "    <tr style=\"text-align: right;\">\n",
       "      <th></th>\n",
       "      <th>이름</th>\n",
       "      <th>나이</th>\n",
       "      <th>방문횟수</th>\n",
       "      <th>방문횟수비율</th>\n",
       "      <th>성별</th>\n",
       "    </tr>\n",
       "  </thead>\n",
       "  <tbody>\n",
       "    <tr>\n",
       "      <th>0</th>\n",
       "      <td>김담향</td>\n",
       "      <td>33</td>\n",
       "      <td>5</td>\n",
       "      <td>0.15</td>\n",
       "      <td>여자</td>\n",
       "    </tr>\n",
       "    <tr>\n",
       "      <th>1</th>\n",
       "      <td>이재빈</td>\n",
       "      <td>25</td>\n",
       "      <td>10</td>\n",
       "      <td>0.40</td>\n",
       "      <td>남자</td>\n",
       "    </tr>\n",
       "    <tr>\n",
       "      <th>2</th>\n",
       "      <td>김나영</td>\n",
       "      <td>26</td>\n",
       "      <td>4</td>\n",
       "      <td>0.15</td>\n",
       "      <td>여자</td>\n",
       "    </tr>\n",
       "  </tbody>\n",
       "</table>\n",
       "</div>"
      ],
      "text/plain": [
       "    이름  나이  방문횟수  방문횟수비율  성별\n",
       "0  김담향  33     5    0.15  여자\n",
       "1  이재빈  25    10    0.40  남자\n",
       "2  김나영  26     4    0.15  여자"
      ]
     },
     "execution_count": 118,
     "metadata": {},
     "output_type": "execute_result"
    }
   ],
   "source": [
    "#눈으로 데이터값 확인\n",
    "test.head()"
   ]
  },
  {
   "cell_type": "code",
   "execution_count": 119,
   "id": "6d842407-0d06-475a-8008-c1fe72fdd1b7",
   "metadata": {
    "tags": []
   },
   "outputs": [
    {
     "data": {
      "text/plain": [
       "(3, 5)"
      ]
     },
     "execution_count": 119,
     "metadata": {},
     "output_type": "execute_result"
    }
   ],
   "source": [
    "#dataframe의 정체를 확인\n",
    "test.shape"
   ]
  },
  {
   "cell_type": "code",
   "execution_count": null,
   "id": "a4dd4f79-bf02-4f0b-97c5-f4ab80b0485a",
   "metadata": {},
   "outputs": [],
   "source": [
    "#data구성\n",
    "test.dtypes\n",
    "\n",
    "#변수 구성\n",
    "test.columns\n",
    "\n",
    "#변수 가져오기\n",
    "test.나이\n",
    "type(test.나이)\n",
    "\n",
    "#연평균방문횟수\n",
    "test.방문횟수 / test.나이\n",
    "\n",
    "#딕셔너리(dic) {key : value}\n",
    "#dic[key] -> value\n",
    "#dic[value] = key -> 딕에 추가\n",
    "\n",
    "test['방문횟수비율'] = test.방문횟수 / test.나이\n",
    "\n",
    "#소수점자릿수 지정하기 \n",
    "#round(10.333 , 2)  -> 10.33\n",
    "\n",
    "round(test.방문횟수비율,2) # ->가능\n",
    "test\n",
    "\n",
    "test['방문횟수비율'] = round(test.방문횟수비율,2) \n",
    "\n",
    "#성별 추가하기 #열 추가(column을 추가시킴.) 인덱스를 기준으로 매칭시킨다.\n",
    "test['성별'] = '여자'\n",
    "\n",
    "test"
   ]
  },
  {
   "cell_type": "code",
   "execution_count": 48,
   "id": "dc1271b7-1544-4e0e-a0c4-390a3d8ae3bf",
   "metadata": {
    "tags": []
   },
   "outputs": [
    {
     "data": {
      "text/plain": [
       "'여자'"
      ]
     },
     "execution_count": 48,
     "metadata": {},
     "output_type": "execute_result"
    }
   ],
   "source": [
    "\n",
    "test.iloc[1,4]"
   ]
  },
  {
   "cell_type": "code",
   "execution_count": 49,
   "id": "bcc7421a-b234-46ce-922e-f10a4c86008b",
   "metadata": {
    "tags": []
   },
   "outputs": [
    {
     "data": {
      "text/html": [
       "<div>\n",
       "<style scoped>\n",
       "    .dataframe tbody tr th:only-of-type {\n",
       "        vertical-align: middle;\n",
       "    }\n",
       "\n",
       "    .dataframe tbody tr th {\n",
       "        vertical-align: top;\n",
       "    }\n",
       "\n",
       "    .dataframe thead th {\n",
       "        text-align: right;\n",
       "    }\n",
       "</style>\n",
       "<table border=\"1\" class=\"dataframe\">\n",
       "  <thead>\n",
       "    <tr style=\"text-align: right;\">\n",
       "      <th></th>\n",
       "      <th>이름</th>\n",
       "      <th>나이</th>\n",
       "      <th>방문횟수</th>\n",
       "      <th>방문횟수비율</th>\n",
       "      <th>성별</th>\n",
       "    </tr>\n",
       "  </thead>\n",
       "  <tbody>\n",
       "    <tr>\n",
       "      <th>0</th>\n",
       "      <td>김담향</td>\n",
       "      <td>33</td>\n",
       "      <td>5</td>\n",
       "      <td>0.15</td>\n",
       "      <td>여자</td>\n",
       "    </tr>\n",
       "    <tr>\n",
       "      <th>1</th>\n",
       "      <td>이재빈</td>\n",
       "      <td>25</td>\n",
       "      <td>10</td>\n",
       "      <td>0.40</td>\n",
       "      <td>남성</td>\n",
       "    </tr>\n",
       "    <tr>\n",
       "      <th>2</th>\n",
       "      <td>김나영</td>\n",
       "      <td>26</td>\n",
       "      <td>4</td>\n",
       "      <td>0.15</td>\n",
       "      <td>여자</td>\n",
       "    </tr>\n",
       "  </tbody>\n",
       "</table>\n",
       "</div>"
      ],
      "text/plain": [
       "    이름  나이  방문횟수  방문횟수비율  성별\n",
       "0  김담향  33     5    0.15  여자\n",
       "1  이재빈  25    10    0.40  남성\n",
       "2  김나영  26     4    0.15  여자"
      ]
     },
     "execution_count": 49,
     "metadata": {},
     "output_type": "execute_result"
    }
   ],
   "source": [
    "#고치기\n",
    "test.iloc[1,4] = '남성'\n",
    "test"
   ]
  },
  {
   "cell_type": "code",
   "execution_count": 50,
   "id": "d0c60f23-e793-45ac-a4d1-d9c79c0042f7",
   "metadata": {
    "tags": []
   },
   "outputs": [
    {
     "data": {
      "text/html": [
       "<div>\n",
       "<style scoped>\n",
       "    .dataframe tbody tr th:only-of-type {\n",
       "        vertical-align: middle;\n",
       "    }\n",
       "\n",
       "    .dataframe tbody tr th {\n",
       "        vertical-align: top;\n",
       "    }\n",
       "\n",
       "    .dataframe thead th {\n",
       "        text-align: right;\n",
       "    }\n",
       "</style>\n",
       "<table border=\"1\" class=\"dataframe\">\n",
       "  <thead>\n",
       "    <tr style=\"text-align: right;\">\n",
       "      <th></th>\n",
       "      <th>이름</th>\n",
       "      <th>나이</th>\n",
       "      <th>방문횟수</th>\n",
       "      <th>방문횟수비율</th>\n",
       "      <th>성별</th>\n",
       "    </tr>\n",
       "  </thead>\n",
       "  <tbody>\n",
       "    <tr>\n",
       "      <th>1</th>\n",
       "      <td>이재빈</td>\n",
       "      <td>25</td>\n",
       "      <td>10</td>\n",
       "      <td>0.4</td>\n",
       "      <td>남성</td>\n",
       "    </tr>\n",
       "  </tbody>\n",
       "</table>\n",
       "</div>"
      ],
      "text/plain": [
       "    이름  나이  방문횟수  방문횟수비율  성별\n",
       "1  이재빈  25    10     0.4  남성"
      ]
     },
     "execution_count": 50,
     "metadata": {},
     "output_type": "execute_result"
    }
   ],
   "source": [
    "#고치기\n",
    "test.loc[[False, True, False], :]"
   ]
  },
  {
   "cell_type": "code",
   "execution_count": 51,
   "id": "87308684-d550-4360-9cc8-9b2a84530a45",
   "metadata": {
    "tags": []
   },
   "outputs": [
    {
     "data": {
      "text/plain": [
       "1    남성\n",
       "Name: 성별, dtype: object"
      ]
     },
     "execution_count": 51,
     "metadata": {},
     "output_type": "execute_result"
    }
   ],
   "source": [
    "test.loc[[False, True, False], '성별']"
   ]
  },
  {
   "cell_type": "code",
   "execution_count": 55,
   "id": "39da6cbd-ec8f-4310-80c8-01697b092166",
   "metadata": {
    "tags": []
   },
   "outputs": [
    {
     "name": "stdout",
     "output_type": "stream",
     "text": [
      "    이름  나이  방문횟수  방문횟수비율  성별\n",
      "0  김담향  33     5    0.15  여자\n",
      "1  이재빈  25    10    0.40  남성\n",
      "2  김나영  26     4    0.15  여자\n"
     ]
    },
    {
     "data": {
      "text/plain": [
       "1    남성\n",
       "Name: 성별, dtype: object"
      ]
     },
     "execution_count": 55,
     "metadata": {},
     "output_type": "execute_result"
    }
   ],
   "source": [
    "print(test)\n",
    "test.loc[test.이름 =='이재빈', '성별'] "
   ]
  },
  {
   "cell_type": "code",
   "execution_count": 120,
   "id": "48926e16-a847-4579-ba0f-1b7fd535ff99",
   "metadata": {
    "tags": []
   },
   "outputs": [
    {
     "name": "stdout",
     "output_type": "stream",
     "text": [
      "    이름  나이  방문횟수  방문횟수비율  성별\n",
      "0  김담향  33     5    0.15  여자\n",
      "1  이재빈  25    10    0.40  남자\n",
      "2  김나영  26     4    0.15  여자\n"
     ]
    }
   ],
   "source": [
    "test.loc[test.이름 =='이재빈', '성별'] = '남자'\n",
    "print(test)"
   ]
  },
  {
   "cell_type": "code",
   "execution_count": 122,
   "id": "c778df15-b36b-4cbf-9d94-59734771918a",
   "metadata": {
    "tags": []
   },
   "outputs": [],
   "source": [
    "#행추가 컬럼명을 기준으로 매칭시킨다.\n",
    "new_dic = {'이름':['김건우'], \n",
    "'나이':[28],\n",
    "'방문횟수': [10],\n",
    "'방문횟수비율' : [10/28],\n",
    "'성별':['남자']}\n",
    "\n",
    "new_member = pd.DataFrame(new_dic)"
   ]
  },
  {
   "cell_type": "code",
   "execution_count": null,
   "id": "b3960819-580a-4dbe-8add-3ab3dfdc9b8b",
   "metadata": {},
   "outputs": [],
   "source": [
    "test['성별']  # 시리즈 데이터\n",
    "test['성별'].shape\n",
    "test[['성별']]#데이터 프레임 \n",
    "test[['성별']].shape"
   ]
  },
  {
   "cell_type": "code",
   "execution_count": 123,
   "id": "8054ec52-2702-460b-a02a-ae9b629fce08",
   "metadata": {
    "tags": []
   },
   "outputs": [
    {
     "data": {
      "text/html": [
       "<div>\n",
       "<style scoped>\n",
       "    .dataframe tbody tr th:only-of-type {\n",
       "        vertical-align: middle;\n",
       "    }\n",
       "\n",
       "    .dataframe tbody tr th {\n",
       "        vertical-align: top;\n",
       "    }\n",
       "\n",
       "    .dataframe thead th {\n",
       "        text-align: right;\n",
       "    }\n",
       "</style>\n",
       "<table border=\"1\" class=\"dataframe\">\n",
       "  <thead>\n",
       "    <tr style=\"text-align: right;\">\n",
       "      <th></th>\n",
       "      <th>이름</th>\n",
       "      <th>나이</th>\n",
       "      <th>방문횟수</th>\n",
       "    </tr>\n",
       "  </thead>\n",
       "  <tbody>\n",
       "    <tr>\n",
       "      <th>0</th>\n",
       "      <td>명하영</td>\n",
       "      <td>27</td>\n",
       "      <td>8.0</td>\n",
       "    </tr>\n",
       "    <tr>\n",
       "      <th>1</th>\n",
       "      <td>강다솜</td>\n",
       "      <td>28</td>\n",
       "      <td>9.0</td>\n",
       "    </tr>\n",
       "    <tr>\n",
       "      <th>2</th>\n",
       "      <td>조가영</td>\n",
       "      <td>27</td>\n",
       "      <td>NaN</td>\n",
       "    </tr>\n",
       "  </tbody>\n",
       "</table>\n",
       "</div>"
      ],
      "text/plain": [
       "    이름  나이  방문횟수\n",
       "0  명하영  27   8.0\n",
       "1  강다솜  28   9.0\n",
       "2  조가영  27   NaN"
      ]
     },
     "execution_count": 123,
     "metadata": {},
     "output_type": "execute_result"
    }
   ],
   "source": [
    "test1 =pd.DataFrame(\n",
    "                    {\n",
    "                        '이름':['명하영', '강다솜', '조가영'], \n",
    "                        '나이':[27,28,27],\n",
    "                        '방문횟수':[8,9,np.nan]\n",
    "                    }\n",
    "                    )\n",
    "test1"
   ]
  },
  {
   "cell_type": "code",
   "execution_count": null,
   "id": "0e69747e-7c4c-4301-8982-5f110d9a8c5b",
   "metadata": {},
   "outputs": [],
   "source": [
    "##90이상은 'A'\n"
   ]
  }
 ],
 "metadata": {
  "kernelspec": {
   "display_name": "Python 3 (ipykernel)",
   "language": "python",
   "name": "python3"
  },
  "language_info": {
   "codemirror_mode": {
    "name": "ipython",
    "version": 3
   },
   "file_extension": ".py",
   "mimetype": "text/x-python",
   "name": "python",
   "nbconvert_exporter": "python",
   "pygments_lexer": "ipython3",
   "version": "3.11.4"
  }
 },
 "nbformat": 4,
 "nbformat_minor": 5
}
