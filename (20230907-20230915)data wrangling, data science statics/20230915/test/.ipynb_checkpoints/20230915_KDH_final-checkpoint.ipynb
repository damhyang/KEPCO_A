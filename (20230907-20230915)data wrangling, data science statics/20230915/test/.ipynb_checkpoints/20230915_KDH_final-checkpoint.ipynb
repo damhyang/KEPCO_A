{
 "cells": [
  {
   "cell_type": "code",
   "execution_count": 25,
   "id": "67805ea4-123f-40d3-8251-3dc196bd8dd9",
   "metadata": {
    "tags": []
   },
   "outputs": [],
   "source": [
    "import numpy as np\n",
    "import pandas as pd\n",
    "\n",
    "from urllib.request import urlopen\n",
    "from bs4 import BeautifulSoup as bs\n",
    "\n",
    "import warnings\n",
    "warnings.filterwarnings(action='ignore')\n",
    "\n",
    "import matplotlib.pyplot as plt"
   ]
  },
  {
   "cell_type": "code",
   "execution_count": 2,
   "id": "17fcda53-6249-4d9d-9e10-417df6fc80db",
   "metadata": {},
   "outputs": [
    {
     "data": {
      "text/plain": [
       "'1. 수집\\n전자신문 섹션 중 산업에너지환경에서  \\n(https://www.etnews.com/news/section.html?id1=20)\\n과학,에너지 소분야를 선택하여 크롤링하여 다음과 같이 csv 파일을 작성한다.\\n================================\\n분야 | 발행일 | 제목 | 내용'"
      ]
     },
     "execution_count": 2,
     "metadata": {},
     "output_type": "execute_result"
    }
   ],
   "source": [
    "\"\"\"1. 수집\n",
    "전자신문 섹션 중 산업에너지환경에서  \n",
    "(https://www.etnews.com/news/section.html?id1=20)\n",
    "과학,에너지 소분야를 선택하여 크롤링하여 다음과 같이 csv 파일을 작성한다.\n",
    "================================\n",
    "분야 | 발행일 | 제목 | 내용\"\"\""
   ]
  },
  {
   "cell_type": "code",
   "execution_count": 3,
   "id": "14e4ee68-2621-40ec-aab8-03831020caa8",
   "metadata": {
    "tags": []
   },
   "outputs": [],
   "source": [
    "#1-1 소분야_과학\n",
    "#1-1-1소분야 과학 카테고리의 최대 페이지 수(last_page) 찾기.\n",
    "url = 'https://www.etnews.com/news/section.html?id1=20&id2=020&page=1000'\n",
    "html = urlopen(url)\n",
    "soup = bs(html.read(),\"html.parser\")\n",
    "last_page = soup.find('a',{'href':'javascript:;'}).text"
   ]
  },
  {
   "cell_type": "code",
   "execution_count": 4,
   "id": "544b5cf6-6c21-4adc-96b5-b2a1c04aec4c",
   "metadata": {
    "tags": []
   },
   "outputs": [],
   "source": [
    "#1-1-2소분야 과학 카테고리의 기사들의 링크(link_url) 찾기\n",
    "link_url = []\n",
    "base_url = \"https://www.etnews.com\"\n",
    "\n",
    "for page in range(1,int(last_page)+1):\n",
    "    url = \"https://www.etnews.com/news/section.html?id1=20&id2=020&page=\" + str(page)\n",
    "    html = urlopen(url)\n",
    "    soup = bs(html.read(),\"html.parser\")\n",
    "    \n",
    "    for links in soup.select('p > a'):\n",
    "        link = links.attrs['href']\n",
    "        if \"https\" not in link:\n",
    "            link_url.append(base_url+link)"
   ]
  },
  {
   "cell_type": "code",
   "execution_count": 5,
   "id": "0b4566f1-1fdf-47c8-a63f-bc2fe0edb75a",
   "metadata": {
    "tags": []
   },
   "outputs": [
    {
     "data": {
      "text/plain": [
       "301"
      ]
     },
     "execution_count": 5,
     "metadata": {},
     "output_type": "execute_result"
    }
   ],
   "source": [
    "len(link_url)"
   ]
  },
  {
   "cell_type": "code",
   "execution_count": 6,
   "id": "6539c509-57f3-41c3-b0a0-606bff36d5c2",
   "metadata": {
    "tags": []
   },
   "outputs": [],
   "source": [
    "#1-1-3소분야 과학 카테고리의 기사 각각의 '분야','발행일','제목','내용' 찾기\n",
    "crawl_df = pd.DataFrame(columns=['분야','발행일','제목','내용'])\n",
    "\n",
    "for link in link_url:\n",
    "    html = urlopen(link)\n",
    "    soup = bs(html.read(),'html.parser')\n",
    "    \n",
    "    category = '과학'\n",
    "    \n",
    "    date = soup.find_all('time', {'class':'date'})[0].text[6:16]\n",
    "\n",
    "    title = soup.find_all('h2')[0].text\n",
    "    \n",
    "    draft = soup.find_all('p')\n",
    "    context = ''   \n",
    "    for i in draft:\n",
    "        if i.a == None: #연관기사 없애기\n",
    "            i = i.text.replace(\"\\n\",\"\")\n",
    "            context += i\n",
    "            \n",
    "    tmp_df = pd.DataFrame([[category,date,title,context]],columns=crawl_df.columns)\n",
    "    crawl_df = pd.concat([crawl_df, tmp_df])"
   ]
  },
  {
   "cell_type": "code",
   "execution_count": 7,
   "id": "6d335f2c-f86e-410c-b1c2-1ab5fd8692e9",
   "metadata": {
    "collapsed": true,
    "jupyter": {
     "outputs_hidden": true
    },
    "tags": []
   },
   "outputs": [
    {
     "data": {
      "text/html": [
       "<div>\n",
       "<style scoped>\n",
       "    .dataframe tbody tr th:only-of-type {\n",
       "        vertical-align: middle;\n",
       "    }\n",
       "\n",
       "    .dataframe tbody tr th {\n",
       "        vertical-align: top;\n",
       "    }\n",
       "\n",
       "    .dataframe thead th {\n",
       "        text-align: right;\n",
       "    }\n",
       "</style>\n",
       "<table border=\"1\" class=\"dataframe\">\n",
       "  <thead>\n",
       "    <tr style=\"text-align: right;\">\n",
       "      <th></th>\n",
       "      <th>분야</th>\n",
       "      <th>발행일</th>\n",
       "      <th>제목</th>\n",
       "      <th>내용</th>\n",
       "    </tr>\n",
       "  </thead>\n",
       "  <tbody>\n",
       "    <tr>\n",
       "      <th>0</th>\n",
       "      <td>과학</td>\n",
       "      <td>2023-09-13</td>\n",
       "      <td>[과학기술이 미래다] 〈102〉국내 첫 퍼스널 컴퓨터 경진대회</td>\n",
       "      <td>1984년 4월 22일. 제1회 퍼스널 컴퓨터 경진대회가 이날 오전 9시 서울 송파...</td>\n",
       "    </tr>\n",
       "    <tr>\n",
       "      <th>0</th>\n",
       "      <td>과학</td>\n",
       "      <td>2023-09-13</td>\n",
       "      <td>나노·소재 성과공유회</td>\n",
       "      <td>나노·소재분야 R&amp;D 정책 및 우수 연구성과를 발표하고 성과물을 공유하는 나노·소재...</td>\n",
       "    </tr>\n",
       "    <tr>\n",
       "      <th>0</th>\n",
       "      <td>과학</td>\n",
       "      <td>2023-09-12</td>\n",
       "      <td>[알림] 테크비즈코리아 2023</td>\n",
       "      <td>전자신문사가 올해에도 우리 연구 현장의 사업화 유망기술을 민간기업과 투자자에 소개하...</td>\n",
       "    </tr>\n",
       "    <tr>\n",
       "      <th>0</th>\n",
       "      <td>과학</td>\n",
       "      <td>2023-09-12</td>\n",
       "      <td>드럼치는 로봇 '모펫' 입니다</td>\n",
       "      <td>국내 연구진이 음악 빅데이터 기반 인공지능(AI)을 통해 인간과 상호작용하며 합주 ...</td>\n",
       "    </tr>\n",
       "    <tr>\n",
       "      <th>0</th>\n",
       "      <td>과학</td>\n",
       "      <td>2023-09-11</td>\n",
       "      <td>드럼치는 로봇 '모펫' 입니다</td>\n",
       "      <td>국내 연구진이 음악 빅데이터 기반 인공지능(AI)을 통해 인간과 상호작용하며 합주 ...</td>\n",
       "    </tr>\n",
       "    <tr>\n",
       "      <th>...</th>\n",
       "      <td>...</td>\n",
       "      <td>...</td>\n",
       "      <td>...</td>\n",
       "      <td>...</td>\n",
       "    </tr>\n",
       "    <tr>\n",
       "      <th>0</th>\n",
       "      <td>과학</td>\n",
       "      <td>2023-03-19</td>\n",
       "      <td>KAIST, 공학생물학 인재 양성 본격화...- 가을학기 입학 석박사생 3월 31일...</td>\n",
       "      <td></td>\n",
       "    </tr>\n",
       "    <tr>\n",
       "      <th>0</th>\n",
       "      <td>과학</td>\n",
       "      <td>2023-03-19</td>\n",
       "      <td>KAIST 김재철AI대학원 이신의 박사과정, 2023 애플 머신러닝 연구 장학생 선정</td>\n",
       "      <td>한국과학기술원(KAIST·총장 이광형)은 김재철AI대학원 박사과정 이신의 씨(지도교...</td>\n",
       "    </tr>\n",
       "    <tr>\n",
       "      <th>0</th>\n",
       "      <td>과학</td>\n",
       "      <td>2023-03-19</td>\n",
       "      <td>KISTI, 서울여대·공주대와 MOU...SW전문·융합인재 양성 나서</td>\n",
       "      <td>한국과학기술정보연구원(KISTI·원장 김재수) HPC융합플랫폼연구단은 14일 서울여...</td>\n",
       "    </tr>\n",
       "    <tr>\n",
       "      <th>0</th>\n",
       "      <td>과학</td>\n",
       "      <td>2023-03-19</td>\n",
       "      <td>'228년만' 18세기 거북선 실제 모습 복원 성공</td>\n",
       "      <td>그동안 참고문헌 등을 통해서 모습을 추측했던 거북선이 실제 설계자료를 토대로 완벽하...</td>\n",
       "    </tr>\n",
       "    <tr>\n",
       "      <th>0</th>\n",
       "      <td>과학</td>\n",
       "      <td>2023-03-19</td>\n",
       "      <td>우리 아이가 주인공인 소셜 플랫폼 '놀잇' 비대면 놀이터로 부상</td>\n",
       "      <td>수·언어·인지교육 콘텐츠를 주로 다루는 영유아동 전문 에듀테크 플랫폼이 넘쳐나는 가...</td>\n",
       "    </tr>\n",
       "  </tbody>\n",
       "</table>\n",
       "<p>301 rows × 4 columns</p>\n",
       "</div>"
      ],
      "text/plain": [
       "    분야         발행일                                                 제목  \\\n",
       "0   과학  2023-09-13                 [과학기술이 미래다] 〈102〉국내 첫 퍼스널 컴퓨터 경진대회   \n",
       "0   과학  2023-09-13                                        나노·소재 성과공유회   \n",
       "0   과학  2023-09-12                                  [알림] 테크비즈코리아 2023   \n",
       "0   과학  2023-09-12                                   드럼치는 로봇 '모펫' 입니다   \n",
       "0   과학  2023-09-11                                   드럼치는 로봇 '모펫' 입니다   \n",
       "..  ..         ...                                                ...   \n",
       "0   과학  2023-03-19  KAIST, 공학생물학 인재 양성 본격화...- 가을학기 입학 석박사생 3월 31일...   \n",
       "0   과학  2023-03-19    KAIST 김재철AI대학원 이신의 박사과정, 2023 애플 머신러닝 연구 장학생 선정   \n",
       "0   과학  2023-03-19             KISTI, 서울여대·공주대와 MOU...SW전문·융합인재 양성 나서   \n",
       "0   과학  2023-03-19                       '228년만' 18세기 거북선 실제 모습 복원 성공   \n",
       "0   과학  2023-03-19                우리 아이가 주인공인 소셜 플랫폼 '놀잇' 비대면 놀이터로 부상   \n",
       "\n",
       "                                                   내용  \n",
       "0   1984년 4월 22일. 제1회 퍼스널 컴퓨터 경진대회가 이날 오전 9시 서울 송파...  \n",
       "0   나노·소재분야 R&D 정책 및 우수 연구성과를 발표하고 성과물을 공유하는 나노·소재...  \n",
       "0   전자신문사가 올해에도 우리 연구 현장의 사업화 유망기술을 민간기업과 투자자에 소개하...  \n",
       "0   국내 연구진이 음악 빅데이터 기반 인공지능(AI)을 통해 인간과 상호작용하며 합주 ...  \n",
       "0   국내 연구진이 음악 빅데이터 기반 인공지능(AI)을 통해 인간과 상호작용하며 합주 ...  \n",
       "..                                                ...  \n",
       "0                                                      \n",
       "0   한국과학기술원(KAIST·총장 이광형)은 김재철AI대학원 박사과정 이신의 씨(지도교...  \n",
       "0   한국과학기술정보연구원(KISTI·원장 김재수) HPC융합플랫폼연구단은 14일 서울여...  \n",
       "0   그동안 참고문헌 등을 통해서 모습을 추측했던 거북선이 실제 설계자료를 토대로 완벽하...  \n",
       "0   수·언어·인지교육 콘텐츠를 주로 다루는 영유아동 전문 에듀테크 플랫폼이 넘쳐나는 가...  \n",
       "\n",
       "[301 rows x 4 columns]"
      ]
     },
     "execution_count": 7,
     "metadata": {},
     "output_type": "execute_result"
    }
   ],
   "source": [
    "crawl_df"
   ]
  },
  {
   "cell_type": "code",
   "execution_count": 8,
   "id": "cc68e6c0-fa58-48fd-a35e-b04f103bfd3a",
   "metadata": {
    "tags": []
   },
   "outputs": [],
   "source": [
    "#1-1-4소분야 과학 카테고리의 기사에서 수집된 정보를 csv로 내보내기(w)\n",
    "crawl_df.to_csv(\"kimdamhyang_collect.csv\", mode='w')"
   ]
  },
  {
   "cell_type": "code",
   "execution_count": 9,
   "id": "c5ab87c2-95ae-4abd-8050-17a83ea03da8",
   "metadata": {
    "tags": []
   },
   "outputs": [],
   "source": [
    "#1-2 소분야_에너지\n",
    "#1-2-1소분야 에너지 카테고리의 최대 페이지 수(last_page) 찾기.\n",
    "url = 'https://www.etnews.com/news/section.html?id1=20&id2=065&page=1000'\n",
    "html = urlopen(url)\n",
    "soup = bs(html.read(),\"html.parser\")\n",
    "last_page = soup.find('a',{'href':'javascript:;'}).text"
   ]
  },
  {
   "cell_type": "code",
   "execution_count": 10,
   "id": "fa62ca36-1395-4e56-97a7-0c2a26be50be",
   "metadata": {
    "tags": []
   },
   "outputs": [
    {
     "data": {
      "text/plain": [
       "'80'"
      ]
     },
     "execution_count": 10,
     "metadata": {},
     "output_type": "execute_result"
    }
   ],
   "source": [
    "last_page"
   ]
  },
  {
   "cell_type": "code",
   "execution_count": 11,
   "id": "2feffe1c-8949-4daf-bbda-4df429b36d1f",
   "metadata": {
    "tags": []
   },
   "outputs": [],
   "source": [
    "#1-2-2소분야 에너지 카테고리의 기사들의 링크(link_url) 찾기\n",
    "link_url = []\n",
    "base_url = \"https://www.etnews.com\"\n",
    "\n",
    "for page in range(1,int(last_page)+1):\n",
    "    url = \"https://www.etnews.com/news/section.html?id1=20&id2=065&page=\" + str(page)\n",
    "    html = urlopen(url)\n",
    "    soup = bs(html.read(),\"html.parser\")\n",
    "    \n",
    "    for links in soup.select('p > a'):\n",
    "        link = links.attrs['href']\n",
    "        if \"https\" not in link:\n",
    "            link_url.append(base_url+link)"
   ]
  },
  {
   "cell_type": "code",
   "execution_count": 12,
   "id": "286c6397-cf93-4acb-ad69-772d2ad13899",
   "metadata": {
    "tags": []
   },
   "outputs": [
    {
     "data": {
      "text/plain": [
       "1196"
      ]
     },
     "execution_count": 12,
     "metadata": {},
     "output_type": "execute_result"
    }
   ],
   "source": [
    "len(link_url)"
   ]
  },
  {
   "cell_type": "code",
   "execution_count": 13,
   "id": "4b7bbe5e-7707-4d78-80da-ecb4ef79fdcc",
   "metadata": {
    "tags": []
   },
   "outputs": [],
   "source": [
    "#1-2-3소분야 에너지 카테고리의 기사 각각의 '분야','발행일','제목','내용' 찾기\n",
    "crawl_df = pd.DataFrame(columns=['분야','발행일','제목','내용'])\n",
    "for link in link_url:\n",
    "    html = urlopen(link)\n",
    "    soup = bs(html.read(),'html.parser')\n",
    "    \n",
    "    category = '에너지'\n",
    "    \n",
    "    date = soup.find_all('time', {'class':'date'})[0].text[6:16]\n",
    "\n",
    "    title = soup.find_all('h2')[0].text\n",
    "    \n",
    "    draft = soup.find_all('p')\n",
    "    context = ''   \n",
    "    for i in draft:\n",
    "        if i.a == None:  #연관기사 없애기\n",
    "            i = i.text.replace(\"\\n\",\"\")\n",
    "            context += i\n",
    "            \n",
    "    tmp_df = pd.DataFrame([[category,date,title,context]],columns=crawl_df.columns)\n",
    "    crawl_df = pd.concat([crawl_df, tmp_df])"
   ]
  },
  {
   "cell_type": "code",
   "execution_count": 14,
   "id": "8f7b3835-1726-4e70-bdf3-b6990450ddf8",
   "metadata": {
    "collapsed": true,
    "jupyter": {
     "outputs_hidden": true
    },
    "tags": []
   },
   "outputs": [
    {
     "data": {
      "text/html": [
       "<div>\n",
       "<style scoped>\n",
       "    .dataframe tbody tr th:only-of-type {\n",
       "        vertical-align: middle;\n",
       "    }\n",
       "\n",
       "    .dataframe tbody tr th {\n",
       "        vertical-align: top;\n",
       "    }\n",
       "\n",
       "    .dataframe thead th {\n",
       "        text-align: right;\n",
       "    }\n",
       "</style>\n",
       "<table border=\"1\" class=\"dataframe\">\n",
       "  <thead>\n",
       "    <tr style=\"text-align: right;\">\n",
       "      <th></th>\n",
       "      <th>분야</th>\n",
       "      <th>발행일</th>\n",
       "      <th>제목</th>\n",
       "      <th>내용</th>\n",
       "    </tr>\n",
       "  </thead>\n",
       "  <tbody>\n",
       "    <tr>\n",
       "      <th>0</th>\n",
       "      <td>에너지</td>\n",
       "      <td>2023-09-17</td>\n",
       "      <td>GS파워, 다문화 가정과 '글로벌가족 한가WE 한마당' 축제 개최</td>\n",
       "      <td>GS파워가 추석 명절을 맞아 다문화가정을 대상으로 즐거운 축제 한마당과 어르신을 위...</td>\n",
       "    </tr>\n",
       "    <tr>\n",
       "      <th>0</th>\n",
       "      <td>에너지</td>\n",
       "      <td>2023-09-17</td>\n",
       "      <td>전기 트럭, 이산화탄소 저감 효과 적은데 보조금은 전기 승용차의 3배</td>\n",
       "      <td>정부가 2030 r국가온실가스(NDC)목표달성을 위해 강력하게 추진하고 있는 전기 ...</td>\n",
       "    </tr>\n",
       "    <tr>\n",
       "      <th>0</th>\n",
       "      <td>에너지</td>\n",
       "      <td>2023-09-17</td>\n",
       "      <td>롯데케미칼, ESG 실천을 위한 노사 상생 선언식 개최</td>\n",
       "      <td>롯데케미칼 노사가 ESG 실천과 노사 문화 발전을 위해 협력을 강화하기로 했다.롯데...</td>\n",
       "    </tr>\n",
       "    <tr>\n",
       "      <th>0</th>\n",
       "      <td>에너지</td>\n",
       "      <td>2023-09-17</td>\n",
       "      <td>최태원 회장 “급변하는 사회문제, 연결과 협력으로 풀자”</td>\n",
       "      <td>“사회 각계 이해관계자들이 서로 연결하고 협력하면 더 많은 사회문제를 풀 수 있다”...</td>\n",
       "    </tr>\n",
       "    <tr>\n",
       "      <th>0</th>\n",
       "      <td>에너지</td>\n",
       "      <td>2023-09-17</td>\n",
       "      <td>HD현대 정기선 사장, 친환경 선박 시장 선점 행보 가속</td>\n",
       "      <td>HD현대 정기선 사장이 친환경 선박 시장 선점을 위한 행보를 이어가고 있다.HD현대...</td>\n",
       "    </tr>\n",
       "    <tr>\n",
       "      <th>...</th>\n",
       "      <td>...</td>\n",
       "      <td>...</td>\n",
       "      <td>...</td>\n",
       "      <td>...</td>\n",
       "    </tr>\n",
       "    <tr>\n",
       "      <th>0</th>\n",
       "      <td>에너지</td>\n",
       "      <td>2023-03-19</td>\n",
       "      <td>[대한민국 대전환 'ON' 시즌2] '한국형 그린버튼' ICT로 저소비·고효율 백년...</td>\n",
       "      <td>#산업통상자원부와 국회가 추진하는 에너지이용합리화법 전부 개정안은 세계적인 에너지 ...</td>\n",
       "    </tr>\n",
       "    <tr>\n",
       "      <th>0</th>\n",
       "      <td>에너지</td>\n",
       "      <td>2023-03-19</td>\n",
       "      <td>[대한민국 대전환 'ON' 시즌2] ICT 기술로 우리집도 에너지 효율↑</td>\n",
       "      <td>정보통신기술(ICT)을 활용해 가정에서도 에너지 효율 기술이 주목받고 있다. 애플리...</td>\n",
       "    </tr>\n",
       "    <tr>\n",
       "      <th>0</th>\n",
       "      <td>에너지</td>\n",
       "      <td>2023-03-19</td>\n",
       "      <td>[대한민국 대전환 'ON' 시즌2]'사각지대' 중소·중견기업 에너지 효율 개선 주춧...</td>\n",
       "      <td>산업통상자원부는 에너지 효율의 사각지대인 중소·중견기업의 에너지 효율혁신 개선을 위...</td>\n",
       "    </tr>\n",
       "    <tr>\n",
       "      <th>0</th>\n",
       "      <td>에너지</td>\n",
       "      <td>2023-03-19</td>\n",
       "      <td>[르포]역대급 섬 가뭄…해수담수화 선박·지하수 저류댐 '해갈'</td>\n",
       "      <td>#50년만의 최악 가뭄이 광주·전남을 강타했다. 평균강우량이 예년의 67% 수준으로...</td>\n",
       "    </tr>\n",
       "    <tr>\n",
       "      <th>0</th>\n",
       "      <td>에너지</td>\n",
       "      <td>2023-03-19</td>\n",
       "      <td>박정원·박지원 두산그룹 회장·부회장, 美서 건설장비 경영 전략 논의</td>\n",
       "      <td>두산그룹은 박정원 회장과 박지원 부회장 등이 미국 라스베이거스에서 열린 '콘엑스포 ...</td>\n",
       "    </tr>\n",
       "  </tbody>\n",
       "</table>\n",
       "<p>1196 rows × 4 columns</p>\n",
       "</div>"
      ],
      "text/plain": [
       "     분야         발행일                                                 제목  \\\n",
       "0   에너지  2023-09-17               GS파워, 다문화 가정과 '글로벌가족 한가WE 한마당' 축제 개최   \n",
       "0   에너지  2023-09-17             전기 트럭, 이산화탄소 저감 효과 적은데 보조금은 전기 승용차의 3배   \n",
       "0   에너지  2023-09-17                     롯데케미칼, ESG 실천을 위한 노사 상생 선언식 개최   \n",
       "0   에너지  2023-09-17                    최태원 회장 “급변하는 사회문제, 연결과 협력으로 풀자”   \n",
       "0   에너지  2023-09-17                    HD현대 정기선 사장, 친환경 선박 시장 선점 행보 가속   \n",
       "..  ...         ...                                                ...   \n",
       "0   에너지  2023-03-19  [대한민국 대전환 'ON' 시즌2] '한국형 그린버튼' ICT로 저소비·고효율 백년...   \n",
       "0   에너지  2023-03-19           [대한민국 대전환 'ON' 시즌2] ICT 기술로 우리집도 에너지 효율↑   \n",
       "0   에너지  2023-03-19  [대한민국 대전환 'ON' 시즌2]'사각지대' 중소·중견기업 에너지 효율 개선 주춧...   \n",
       "0   에너지  2023-03-19                 [르포]역대급 섬 가뭄…해수담수화 선박·지하수 저류댐 '해갈'   \n",
       "0   에너지  2023-03-19              박정원·박지원 두산그룹 회장·부회장, 美서 건설장비 경영 전략 논의   \n",
       "\n",
       "                                                   내용  \n",
       "0   GS파워가 추석 명절을 맞아 다문화가정을 대상으로 즐거운 축제 한마당과 어르신을 위...  \n",
       "0   정부가 2030 r국가온실가스(NDC)목표달성을 위해 강력하게 추진하고 있는 전기 ...  \n",
       "0   롯데케미칼 노사가 ESG 실천과 노사 문화 발전을 위해 협력을 강화하기로 했다.롯데...  \n",
       "0   “사회 각계 이해관계자들이 서로 연결하고 협력하면 더 많은 사회문제를 풀 수 있다”...  \n",
       "0   HD현대 정기선 사장이 친환경 선박 시장 선점을 위한 행보를 이어가고 있다.HD현대...  \n",
       "..                                                ...  \n",
       "0   #산업통상자원부와 국회가 추진하는 에너지이용합리화법 전부 개정안은 세계적인 에너지 ...  \n",
       "0   정보통신기술(ICT)을 활용해 가정에서도 에너지 효율 기술이 주목받고 있다. 애플리...  \n",
       "0   산업통상자원부는 에너지 효율의 사각지대인 중소·중견기업의 에너지 효율혁신 개선을 위...  \n",
       "0   #50년만의 최악 가뭄이 광주·전남을 강타했다. 평균강우량이 예년의 67% 수준으로...  \n",
       "0   두산그룹은 박정원 회장과 박지원 부회장 등이 미국 라스베이거스에서 열린 '콘엑스포 ...  \n",
       "\n",
       "[1196 rows x 4 columns]"
      ]
     },
     "execution_count": 14,
     "metadata": {},
     "output_type": "execute_result"
    }
   ],
   "source": [
    "crawl_df"
   ]
  },
  {
   "cell_type": "code",
   "execution_count": 15,
   "id": "03409c12-7ed7-4277-9a42-2694bdc31aa5",
   "metadata": {},
   "outputs": [],
   "source": [
    "#1-2-4소분야 에너지 카테고리의 기사에서 수집된 정보를 csv에 추가하기(a)\n",
    "crawl_df.to_csv(\"kimdamhyang_collect.csv\", mode='a', header=False)"
   ]
  },
  {
   "cell_type": "code",
   "execution_count": 16,
   "id": "fe97f4b9-ba69-4461-af57-19b4103f1867",
   "metadata": {},
   "outputs": [
    {
     "data": {
      "text/plain": [
       "'2. 가공 및 처리\\n수집한 csv파일에서 에너지 관련 단어의 빈도수를 도출한다.\\n(전기, 에너지, 원자력, 수력, 화력)\\n=======================================================================\\n분야 | 발행일 | 제목 | 내용 | 전기(빈도수) | 에너지(빈도수) | 수력(빈도수)....'"
      ]
     },
     "execution_count": 16,
     "metadata": {},
     "output_type": "execute_result"
    }
   ],
   "source": [
    "\"\"\"2. 가공 및 처리\n",
    "수집한 csv파일에서 에너지 관련 단어의 빈도수를 도출한다.\n",
    "(전기, 에너지, 원자력, 수력, 화력)\n",
    "=======================================================================\n",
    "분야 | 발행일 | 제목 | 내용 | 전기(빈도수) | 에너지(빈도수) | 수력(빈도수)....\"\"\""
   ]
  },
  {
   "cell_type": "code",
   "execution_count": 7,
   "id": "c905314c-22bc-4d8d-8b4c-6c8b1e212827",
   "metadata": {
    "tags": []
   },
   "outputs": [],
   "source": [
    "df = pd.read_csv('kimdamhyang_collect.csv')"
   ]
  },
  {
   "cell_type": "code",
   "execution_count": 18,
   "id": "3b014c25-af56-498b-8f1d-74437956c130",
   "metadata": {
    "tags": []
   },
   "outputs": [
    {
     "data": {
      "text/plain": [
       "(1497, 5)"
      ]
     },
     "execution_count": 18,
     "metadata": {},
     "output_type": "execute_result"
    }
   ],
   "source": [
    "df.shape"
   ]
  },
  {
   "cell_type": "code",
   "execution_count": 19,
   "id": "3dcd61c8-0148-4881-a11a-eeedd75f47a8",
   "metadata": {
    "collapsed": true,
    "jupyter": {
     "outputs_hidden": true
    },
    "tags": []
   },
   "outputs": [
    {
     "data": {
      "text/html": [
       "<div>\n",
       "<style scoped>\n",
       "    .dataframe tbody tr th:only-of-type {\n",
       "        vertical-align: middle;\n",
       "    }\n",
       "\n",
       "    .dataframe tbody tr th {\n",
       "        vertical-align: top;\n",
       "    }\n",
       "\n",
       "    .dataframe thead th {\n",
       "        text-align: right;\n",
       "    }\n",
       "</style>\n",
       "<table border=\"1\" class=\"dataframe\">\n",
       "  <thead>\n",
       "    <tr style=\"text-align: right;\">\n",
       "      <th></th>\n",
       "      <th>Unnamed: 0</th>\n",
       "      <th>분야</th>\n",
       "      <th>발행일</th>\n",
       "      <th>제목</th>\n",
       "      <th>내용</th>\n",
       "    </tr>\n",
       "  </thead>\n",
       "  <tbody>\n",
       "    <tr>\n",
       "      <th>0</th>\n",
       "      <td>0</td>\n",
       "      <td>과학</td>\n",
       "      <td>2023-09-13</td>\n",
       "      <td>[과학기술이 미래다] 〈102〉국내 첫 퍼스널 컴퓨터 경진대회</td>\n",
       "      <td>1984년 4월 22일. 제1회 퍼스널 컴퓨터 경진대회가 이날 오전 9시 서울 송파...</td>\n",
       "    </tr>\n",
       "    <tr>\n",
       "      <th>1</th>\n",
       "      <td>0</td>\n",
       "      <td>과학</td>\n",
       "      <td>2023-09-13</td>\n",
       "      <td>나노·소재 성과공유회</td>\n",
       "      <td>나노·소재분야 R&amp;D 정책 및 우수 연구성과를 발표하고 성과물을 공유하는 나노·소재...</td>\n",
       "    </tr>\n",
       "    <tr>\n",
       "      <th>2</th>\n",
       "      <td>0</td>\n",
       "      <td>과학</td>\n",
       "      <td>2023-09-12</td>\n",
       "      <td>[알림] 테크비즈코리아 2023</td>\n",
       "      <td>전자신문사가 올해에도 우리 연구 현장의 사업화 유망기술을 민간기업과 투자자에 소개하...</td>\n",
       "    </tr>\n",
       "    <tr>\n",
       "      <th>3</th>\n",
       "      <td>0</td>\n",
       "      <td>과학</td>\n",
       "      <td>2023-09-12</td>\n",
       "      <td>드럼치는 로봇 '모펫' 입니다</td>\n",
       "      <td>국내 연구진이 음악 빅데이터 기반 인공지능(AI)을 통해 인간과 상호작용하며 합주 ...</td>\n",
       "    </tr>\n",
       "    <tr>\n",
       "      <th>4</th>\n",
       "      <td>0</td>\n",
       "      <td>과학</td>\n",
       "      <td>2023-09-11</td>\n",
       "      <td>드럼치는 로봇 '모펫' 입니다</td>\n",
       "      <td>국내 연구진이 음악 빅데이터 기반 인공지능(AI)을 통해 인간과 상호작용하며 합주 ...</td>\n",
       "    </tr>\n",
       "  </tbody>\n",
       "</table>\n",
       "</div>"
      ],
      "text/plain": [
       "   Unnamed: 0  분야         발행일                                  제목  \\\n",
       "0           0  과학  2023-09-13  [과학기술이 미래다] 〈102〉국내 첫 퍼스널 컴퓨터 경진대회   \n",
       "1           0  과학  2023-09-13                         나노·소재 성과공유회   \n",
       "2           0  과학  2023-09-12                   [알림] 테크비즈코리아 2023   \n",
       "3           0  과학  2023-09-12                    드럼치는 로봇 '모펫' 입니다   \n",
       "4           0  과학  2023-09-11                    드럼치는 로봇 '모펫' 입니다   \n",
       "\n",
       "                                                  내용  \n",
       "0  1984년 4월 22일. 제1회 퍼스널 컴퓨터 경진대회가 이날 오전 9시 서울 송파...  \n",
       "1  나노·소재분야 R&D 정책 및 우수 연구성과를 발표하고 성과물을 공유하는 나노·소재...  \n",
       "2  전자신문사가 올해에도 우리 연구 현장의 사업화 유망기술을 민간기업과 투자자에 소개하...  \n",
       "3  국내 연구진이 음악 빅데이터 기반 인공지능(AI)을 통해 인간과 상호작용하며 합주 ...  \n",
       "4  국내 연구진이 음악 빅데이터 기반 인공지능(AI)을 통해 인간과 상호작용하며 합주 ...  "
      ]
     },
     "execution_count": 19,
     "metadata": {},
     "output_type": "execute_result"
    }
   ],
   "source": [
    "df.head()"
   ]
  },
  {
   "cell_type": "code",
   "execution_count": 8,
   "id": "4f5856ea-3b92-4e06-a8cc-b03dddbe2d92",
   "metadata": {
    "tags": []
   },
   "outputs": [],
   "source": [
    "#2-1 불필요한 데이터 삭제하기\n",
    "#2-1-1 불필요한 데이터 삭제하기 : df[Unnamed: 0]은 필요없는 열을 삭제\n",
    "df = df.iloc[:,1:]"
   ]
  },
  {
   "cell_type": "code",
   "execution_count": 21,
   "id": "35a6c668-8c54-4488-84f8-755af40e4ac0",
   "metadata": {
    "collapsed": true,
    "jupyter": {
     "outputs_hidden": true
    },
    "tags": []
   },
   "outputs": [
    {
     "data": {
      "text/html": [
       "<div>\n",
       "<style scoped>\n",
       "    .dataframe tbody tr th:only-of-type {\n",
       "        vertical-align: middle;\n",
       "    }\n",
       "\n",
       "    .dataframe tbody tr th {\n",
       "        vertical-align: top;\n",
       "    }\n",
       "\n",
       "    .dataframe thead th {\n",
       "        text-align: right;\n",
       "    }\n",
       "</style>\n",
       "<table border=\"1\" class=\"dataframe\">\n",
       "  <thead>\n",
       "    <tr style=\"text-align: right;\">\n",
       "      <th></th>\n",
       "      <th>분야</th>\n",
       "      <th>발행일</th>\n",
       "      <th>제목</th>\n",
       "      <th>내용</th>\n",
       "    </tr>\n",
       "  </thead>\n",
       "  <tbody>\n",
       "    <tr>\n",
       "      <th>0</th>\n",
       "      <td>과학</td>\n",
       "      <td>2023-09-13</td>\n",
       "      <td>[과학기술이 미래다] 〈102〉국내 첫 퍼스널 컴퓨터 경진대회</td>\n",
       "      <td>1984년 4월 22일. 제1회 퍼스널 컴퓨터 경진대회가 이날 오전 9시 서울 송파...</td>\n",
       "    </tr>\n",
       "    <tr>\n",
       "      <th>1</th>\n",
       "      <td>과학</td>\n",
       "      <td>2023-09-13</td>\n",
       "      <td>나노·소재 성과공유회</td>\n",
       "      <td>나노·소재분야 R&amp;D 정책 및 우수 연구성과를 발표하고 성과물을 공유하는 나노·소재...</td>\n",
       "    </tr>\n",
       "    <tr>\n",
       "      <th>2</th>\n",
       "      <td>과학</td>\n",
       "      <td>2023-09-12</td>\n",
       "      <td>[알림] 테크비즈코리아 2023</td>\n",
       "      <td>전자신문사가 올해에도 우리 연구 현장의 사업화 유망기술을 민간기업과 투자자에 소개하...</td>\n",
       "    </tr>\n",
       "    <tr>\n",
       "      <th>3</th>\n",
       "      <td>과학</td>\n",
       "      <td>2023-09-12</td>\n",
       "      <td>드럼치는 로봇 '모펫' 입니다</td>\n",
       "      <td>국내 연구진이 음악 빅데이터 기반 인공지능(AI)을 통해 인간과 상호작용하며 합주 ...</td>\n",
       "    </tr>\n",
       "    <tr>\n",
       "      <th>4</th>\n",
       "      <td>과학</td>\n",
       "      <td>2023-09-11</td>\n",
       "      <td>드럼치는 로봇 '모펫' 입니다</td>\n",
       "      <td>국내 연구진이 음악 빅데이터 기반 인공지능(AI)을 통해 인간과 상호작용하며 합주 ...</td>\n",
       "    </tr>\n",
       "  </tbody>\n",
       "</table>\n",
       "</div>"
      ],
      "text/plain": [
       "   분야         발행일                                  제목  \\\n",
       "0  과학  2023-09-13  [과학기술이 미래다] 〈102〉국내 첫 퍼스널 컴퓨터 경진대회   \n",
       "1  과학  2023-09-13                         나노·소재 성과공유회   \n",
       "2  과학  2023-09-12                   [알림] 테크비즈코리아 2023   \n",
       "3  과학  2023-09-12                    드럼치는 로봇 '모펫' 입니다   \n",
       "4  과학  2023-09-11                    드럼치는 로봇 '모펫' 입니다   \n",
       "\n",
       "                                                  내용  \n",
       "0  1984년 4월 22일. 제1회 퍼스널 컴퓨터 경진대회가 이날 오전 9시 서울 송파...  \n",
       "1  나노·소재분야 R&D 정책 및 우수 연구성과를 발표하고 성과물을 공유하는 나노·소재...  \n",
       "2  전자신문사가 올해에도 우리 연구 현장의 사업화 유망기술을 민간기업과 투자자에 소개하...  \n",
       "3  국내 연구진이 음악 빅데이터 기반 인공지능(AI)을 통해 인간과 상호작용하며 합주 ...  \n",
       "4  국내 연구진이 음악 빅데이터 기반 인공지능(AI)을 통해 인간과 상호작용하며 합주 ...  "
      ]
     },
     "execution_count": 21,
     "metadata": {},
     "output_type": "execute_result"
    }
   ],
   "source": [
    "df.head()"
   ]
  },
  {
   "cell_type": "code",
   "execution_count": 22,
   "id": "ee696b73-6f15-4454-9189-e619386f2cba",
   "metadata": {
    "tags": []
   },
   "outputs": [
    {
     "data": {
      "text/plain": [
       "분야      0\n",
       "발행일     0\n",
       "제목      0\n",
       "내용     10\n",
       "dtype: int64"
      ]
     },
     "execution_count": 22,
     "metadata": {},
     "output_type": "execute_result"
    }
   ],
   "source": [
    "df.isna().sum()"
   ]
  },
  {
   "cell_type": "code",
   "execution_count": 9,
   "id": "756f8a43-8028-45b5-a532-28b96acda9b3",
   "metadata": {
    "tags": []
   },
   "outputs": [],
   "source": [
    "#2-1-2 불필요한 데이터 삭제하기 : 행에서 nan인 데이터를 '없음'으로 수정.\n",
    "df1= df.replace(np.nan, '없음')"
   ]
  },
  {
   "cell_type": "code",
   "execution_count": 24,
   "id": "3769ea99-15e4-47a4-aad2-b6a233f3df1c",
   "metadata": {
    "collapsed": true,
    "jupyter": {
     "outputs_hidden": true
    },
    "tags": []
   },
   "outputs": [
    {
     "data": {
      "text/html": [
       "<div>\n",
       "<style scoped>\n",
       "    .dataframe tbody tr th:only-of-type {\n",
       "        vertical-align: middle;\n",
       "    }\n",
       "\n",
       "    .dataframe tbody tr th {\n",
       "        vertical-align: top;\n",
       "    }\n",
       "\n",
       "    .dataframe thead th {\n",
       "        text-align: right;\n",
       "    }\n",
       "</style>\n",
       "<table border=\"1\" class=\"dataframe\">\n",
       "  <thead>\n",
       "    <tr style=\"text-align: right;\">\n",
       "      <th></th>\n",
       "      <th>분야</th>\n",
       "      <th>발행일</th>\n",
       "      <th>제목</th>\n",
       "      <th>내용</th>\n",
       "    </tr>\n",
       "  </thead>\n",
       "  <tbody>\n",
       "    <tr>\n",
       "      <th>0</th>\n",
       "      <td>과학</td>\n",
       "      <td>2023-09-13</td>\n",
       "      <td>[과학기술이 미래다] 〈102〉국내 첫 퍼스널 컴퓨터 경진대회</td>\n",
       "      <td>1984년 4월 22일. 제1회 퍼스널 컴퓨터 경진대회가 이날 오전 9시 서울 송파...</td>\n",
       "    </tr>\n",
       "    <tr>\n",
       "      <th>1</th>\n",
       "      <td>과학</td>\n",
       "      <td>2023-09-13</td>\n",
       "      <td>나노·소재 성과공유회</td>\n",
       "      <td>나노·소재분야 R&amp;D 정책 및 우수 연구성과를 발표하고 성과물을 공유하는 나노·소재...</td>\n",
       "    </tr>\n",
       "    <tr>\n",
       "      <th>2</th>\n",
       "      <td>과학</td>\n",
       "      <td>2023-09-12</td>\n",
       "      <td>[알림] 테크비즈코리아 2023</td>\n",
       "      <td>전자신문사가 올해에도 우리 연구 현장의 사업화 유망기술을 민간기업과 투자자에 소개하...</td>\n",
       "    </tr>\n",
       "    <tr>\n",
       "      <th>3</th>\n",
       "      <td>과학</td>\n",
       "      <td>2023-09-12</td>\n",
       "      <td>드럼치는 로봇 '모펫' 입니다</td>\n",
       "      <td>국내 연구진이 음악 빅데이터 기반 인공지능(AI)을 통해 인간과 상호작용하며 합주 ...</td>\n",
       "    </tr>\n",
       "    <tr>\n",
       "      <th>4</th>\n",
       "      <td>과학</td>\n",
       "      <td>2023-09-11</td>\n",
       "      <td>드럼치는 로봇 '모펫' 입니다</td>\n",
       "      <td>국내 연구진이 음악 빅데이터 기반 인공지능(AI)을 통해 인간과 상호작용하며 합주 ...</td>\n",
       "    </tr>\n",
       "  </tbody>\n",
       "</table>\n",
       "</div>"
      ],
      "text/plain": [
       "   분야         발행일                                  제목  \\\n",
       "0  과학  2023-09-13  [과학기술이 미래다] 〈102〉국내 첫 퍼스널 컴퓨터 경진대회   \n",
       "1  과학  2023-09-13                         나노·소재 성과공유회   \n",
       "2  과학  2023-09-12                   [알림] 테크비즈코리아 2023   \n",
       "3  과학  2023-09-12                    드럼치는 로봇 '모펫' 입니다   \n",
       "4  과학  2023-09-11                    드럼치는 로봇 '모펫' 입니다   \n",
       "\n",
       "                                                  내용  \n",
       "0  1984년 4월 22일. 제1회 퍼스널 컴퓨터 경진대회가 이날 오전 9시 서울 송파...  \n",
       "1  나노·소재분야 R&D 정책 및 우수 연구성과를 발표하고 성과물을 공유하는 나노·소재...  \n",
       "2  전자신문사가 올해에도 우리 연구 현장의 사업화 유망기술을 민간기업과 투자자에 소개하...  \n",
       "3  국내 연구진이 음악 빅데이터 기반 인공지능(AI)을 통해 인간과 상호작용하며 합주 ...  \n",
       "4  국내 연구진이 음악 빅데이터 기반 인공지능(AI)을 통해 인간과 상호작용하며 합주 ...  "
      ]
     },
     "execution_count": 24,
     "metadata": {},
     "output_type": "execute_result"
    }
   ],
   "source": [
    "df1.head()"
   ]
  },
  {
   "cell_type": "code",
   "execution_count": 25,
   "id": "cae75047-8e66-496d-9a29-8a9522443135",
   "metadata": {
    "tags": []
   },
   "outputs": [
    {
     "data": {
      "text/plain": [
       "Index(['분야', '발행일', '제목', '내용'], dtype='object')"
      ]
     },
     "execution_count": 25,
     "metadata": {},
     "output_type": "execute_result"
    }
   ],
   "source": [
    "df1.columns"
   ]
  },
  {
   "cell_type": "code",
   "execution_count": 26,
   "id": "ddecade0-d8b8-4164-82ba-66bb9e433afc",
   "metadata": {
    "tags": []
   },
   "outputs": [
    {
     "data": {
      "text/plain": [
       "(1497, 4)"
      ]
     },
     "execution_count": 26,
     "metadata": {},
     "output_type": "execute_result"
    }
   ],
   "source": [
    "df1.shape"
   ]
  },
  {
   "cell_type": "code",
   "execution_count": 27,
   "id": "68f46ee0-5842-44f6-bc48-325a1c7386e6",
   "metadata": {
    "tags": []
   },
   "outputs": [
    {
     "data": {
      "text/plain": [
       "17"
      ]
     },
     "execution_count": 27,
     "metadata": {},
     "output_type": "execute_result"
    }
   ],
   "source": [
    "sum(df1.duplicated(subset = ['제목', '내용']))"
   ]
  },
  {
   "cell_type": "code",
   "execution_count": 10,
   "id": "81ff3810-7a34-4bcb-b0fc-ae9fe3afcb71",
   "metadata": {
    "tags": []
   },
   "outputs": [],
   "source": [
    "#2-1-3 불필요한 데이터 삭제하기 : 행의 중복된 내용을 찾아 1개만 남기고 삭제하기\n",
    "df2 = df1.drop_duplicates(['제목', '내용'],keep='first')"
   ]
  },
  {
   "cell_type": "code",
   "execution_count": 29,
   "id": "0f2be6d5-8e95-4a29-a6db-38954df18cd3",
   "metadata": {
    "collapsed": true,
    "jupyter": {
     "outputs_hidden": true
    },
    "tags": []
   },
   "outputs": [
    {
     "data": {
      "text/html": [
       "<div>\n",
       "<style scoped>\n",
       "    .dataframe tbody tr th:only-of-type {\n",
       "        vertical-align: middle;\n",
       "    }\n",
       "\n",
       "    .dataframe tbody tr th {\n",
       "        vertical-align: top;\n",
       "    }\n",
       "\n",
       "    .dataframe thead th {\n",
       "        text-align: right;\n",
       "    }\n",
       "</style>\n",
       "<table border=\"1\" class=\"dataframe\">\n",
       "  <thead>\n",
       "    <tr style=\"text-align: right;\">\n",
       "      <th></th>\n",
       "      <th>분야</th>\n",
       "      <th>발행일</th>\n",
       "      <th>제목</th>\n",
       "      <th>내용</th>\n",
       "    </tr>\n",
       "  </thead>\n",
       "  <tbody>\n",
       "    <tr>\n",
       "      <th>0</th>\n",
       "      <td>과학</td>\n",
       "      <td>2023-09-13</td>\n",
       "      <td>[과학기술이 미래다] 〈102〉국내 첫 퍼스널 컴퓨터 경진대회</td>\n",
       "      <td>1984년 4월 22일. 제1회 퍼스널 컴퓨터 경진대회가 이날 오전 9시 서울 송파...</td>\n",
       "    </tr>\n",
       "    <tr>\n",
       "      <th>1</th>\n",
       "      <td>과학</td>\n",
       "      <td>2023-09-13</td>\n",
       "      <td>나노·소재 성과공유회</td>\n",
       "      <td>나노·소재분야 R&amp;D 정책 및 우수 연구성과를 발표하고 성과물을 공유하는 나노·소재...</td>\n",
       "    </tr>\n",
       "    <tr>\n",
       "      <th>2</th>\n",
       "      <td>과학</td>\n",
       "      <td>2023-09-12</td>\n",
       "      <td>[알림] 테크비즈코리아 2023</td>\n",
       "      <td>전자신문사가 올해에도 우리 연구 현장의 사업화 유망기술을 민간기업과 투자자에 소개하...</td>\n",
       "    </tr>\n",
       "    <tr>\n",
       "      <th>3</th>\n",
       "      <td>과학</td>\n",
       "      <td>2023-09-12</td>\n",
       "      <td>드럼치는 로봇 '모펫' 입니다</td>\n",
       "      <td>국내 연구진이 음악 빅데이터 기반 인공지능(AI)을 통해 인간과 상호작용하며 합주 ...</td>\n",
       "    </tr>\n",
       "    <tr>\n",
       "      <th>4</th>\n",
       "      <td>과학</td>\n",
       "      <td>2023-09-11</td>\n",
       "      <td>드럼치는 로봇 '모펫' 입니다</td>\n",
       "      <td>국내 연구진이 음악 빅데이터 기반 인공지능(AI)을 통해 인간과 상호작용하며 합주 ...</td>\n",
       "    </tr>\n",
       "  </tbody>\n",
       "</table>\n",
       "</div>"
      ],
      "text/plain": [
       "   분야         발행일                                  제목  \\\n",
       "0  과학  2023-09-13  [과학기술이 미래다] 〈102〉국내 첫 퍼스널 컴퓨터 경진대회   \n",
       "1  과학  2023-09-13                         나노·소재 성과공유회   \n",
       "2  과학  2023-09-12                   [알림] 테크비즈코리아 2023   \n",
       "3  과학  2023-09-12                    드럼치는 로봇 '모펫' 입니다   \n",
       "4  과학  2023-09-11                    드럼치는 로봇 '모펫' 입니다   \n",
       "\n",
       "                                                  내용  \n",
       "0  1984년 4월 22일. 제1회 퍼스널 컴퓨터 경진대회가 이날 오전 9시 서울 송파...  \n",
       "1  나노·소재분야 R&D 정책 및 우수 연구성과를 발표하고 성과물을 공유하는 나노·소재...  \n",
       "2  전자신문사가 올해에도 우리 연구 현장의 사업화 유망기술을 민간기업과 투자자에 소개하...  \n",
       "3  국내 연구진이 음악 빅데이터 기반 인공지능(AI)을 통해 인간과 상호작용하며 합주 ...  \n",
       "4  국내 연구진이 음악 빅데이터 기반 인공지능(AI)을 통해 인간과 상호작용하며 합주 ...  "
      ]
     },
     "execution_count": 29,
     "metadata": {},
     "output_type": "execute_result"
    }
   ],
   "source": [
    "df2.head()"
   ]
  },
  {
   "cell_type": "code",
   "execution_count": 30,
   "id": "b22f51a2-c82d-4151-ae98-14e659e08569",
   "metadata": {
    "tags": []
   },
   "outputs": [
    {
     "data": {
      "text/plain": [
       "(1480, 4)"
      ]
     },
     "execution_count": 30,
     "metadata": {},
     "output_type": "execute_result"
    }
   ],
   "source": [
    "df2.shape"
   ]
  },
  {
   "cell_type": "code",
   "execution_count": 11,
   "id": "f0763a06-cde1-4730-8f53-95955a0aadbd",
   "metadata": {
    "tags": []
   },
   "outputs": [],
   "source": [
    "#2-2 에너지 관련 단어의 빈도수를 도출하기\n",
    "freq_electrocity=df2['내용'].str.count('전기')\n",
    "freq_energy=df2['내용'].str.count('에너지')\n",
    "freq_nuclear=df2['내용'].str.count('원자력')\n",
    "freq_water=df2['내용'].str.count('수력')\n",
    "freq_fire=df2['내용'].str.count('화력')"
   ]
  },
  {
   "cell_type": "code",
   "execution_count": 12,
   "id": "06bb7905-c040-40b1-b6c2-f95b44d2098f",
   "metadata": {
    "tags": []
   },
   "outputs": [
    {
     "data": {
      "text/plain": [
       "0       3\n",
       "1       0\n",
       "2       1\n",
       "3       0\n",
       "4       0\n",
       "       ..\n",
       "1492    0\n",
       "1493    2\n",
       "1494    0\n",
       "1495    0\n",
       "1496    0\n",
       "Name: 내용, Length: 1480, dtype: int64"
      ]
     },
     "execution_count": 12,
     "metadata": {},
     "output_type": "execute_result"
    }
   ],
   "source": [
    "freq_electrocity"
   ]
  },
  {
   "cell_type": "code",
   "execution_count": 13,
   "id": "01512fe0-161b-432e-ba03-a990c5c5e0a7",
   "metadata": {},
   "outputs": [],
   "source": [
    "freq_electrocity.name = '전기(빈도수)'\n",
    "freq_energy.name = '에너지(빈도수)'\n",
    "freq_nuclear.name = '원자력(빈도수)'\n",
    "freq_water.name = '수력(빈도수)'\n",
    "freq_fire.name = '화력(빈도수)'"
   ]
  },
  {
   "cell_type": "code",
   "execution_count": 14,
   "id": "6238fa9b-0f09-4891-9ce7-9e0ab72ec822",
   "metadata": {},
   "outputs": [
    {
     "data": {
      "text/plain": [
       "0       3\n",
       "1       0\n",
       "2       1\n",
       "3       0\n",
       "4       0\n",
       "       ..\n",
       "1492    0\n",
       "1493    2\n",
       "1494    0\n",
       "1495    0\n",
       "1496    0\n",
       "Name: 전기(빈도수), Length: 1480, dtype: int64"
      ]
     },
     "execution_count": 14,
     "metadata": {},
     "output_type": "execute_result"
    }
   ],
   "source": [
    "freq_electrocity"
   ]
  },
  {
   "cell_type": "code",
   "execution_count": 17,
   "id": "0285ac98-fa8a-43a6-98ca-58cba149c7f0",
   "metadata": {
    "tags": []
   },
   "outputs": [],
   "source": [
    "df_new=pd.merge(df2, freq_electrocity,\n",
    "                left_index=True, right_index=True)"
   ]
  },
  {
   "cell_type": "code",
   "execution_count": 18,
   "id": "0c72b7de-e768-4f3e-b8a4-2f50b4fb2fe9",
   "metadata": {
    "collapsed": true,
    "jupyter": {
     "outputs_hidden": true
    },
    "tags": []
   },
   "outputs": [
    {
     "data": {
      "text/html": [
       "<div>\n",
       "<style scoped>\n",
       "    .dataframe tbody tr th:only-of-type {\n",
       "        vertical-align: middle;\n",
       "    }\n",
       "\n",
       "    .dataframe tbody tr th {\n",
       "        vertical-align: top;\n",
       "    }\n",
       "\n",
       "    .dataframe thead th {\n",
       "        text-align: right;\n",
       "    }\n",
       "</style>\n",
       "<table border=\"1\" class=\"dataframe\">\n",
       "  <thead>\n",
       "    <tr style=\"text-align: right;\">\n",
       "      <th></th>\n",
       "      <th>분야</th>\n",
       "      <th>발행일</th>\n",
       "      <th>제목</th>\n",
       "      <th>내용</th>\n",
       "      <th>전기(빈도수)</th>\n",
       "    </tr>\n",
       "  </thead>\n",
       "  <tbody>\n",
       "    <tr>\n",
       "      <th>0</th>\n",
       "      <td>과학</td>\n",
       "      <td>2023-09-13</td>\n",
       "      <td>[과학기술이 미래다] 〈102〉국내 첫 퍼스널 컴퓨터 경진대회</td>\n",
       "      <td>1984년 4월 22일. 제1회 퍼스널 컴퓨터 경진대회가 이날 오전 9시 서울 송파...</td>\n",
       "      <td>3</td>\n",
       "    </tr>\n",
       "    <tr>\n",
       "      <th>1</th>\n",
       "      <td>과학</td>\n",
       "      <td>2023-09-13</td>\n",
       "      <td>나노·소재 성과공유회</td>\n",
       "      <td>나노·소재분야 R&amp;D 정책 및 우수 연구성과를 발표하고 성과물을 공유하는 나노·소재...</td>\n",
       "      <td>0</td>\n",
       "    </tr>\n",
       "    <tr>\n",
       "      <th>2</th>\n",
       "      <td>과학</td>\n",
       "      <td>2023-09-12</td>\n",
       "      <td>[알림] 테크비즈코리아 2023</td>\n",
       "      <td>전자신문사가 올해에도 우리 연구 현장의 사업화 유망기술을 민간기업과 투자자에 소개하...</td>\n",
       "      <td>1</td>\n",
       "    </tr>\n",
       "    <tr>\n",
       "      <th>3</th>\n",
       "      <td>과학</td>\n",
       "      <td>2023-09-12</td>\n",
       "      <td>드럼치는 로봇 '모펫' 입니다</td>\n",
       "      <td>국내 연구진이 음악 빅데이터 기반 인공지능(AI)을 통해 인간과 상호작용하며 합주 ...</td>\n",
       "      <td>0</td>\n",
       "    </tr>\n",
       "    <tr>\n",
       "      <th>4</th>\n",
       "      <td>과학</td>\n",
       "      <td>2023-09-11</td>\n",
       "      <td>드럼치는 로봇 '모펫' 입니다</td>\n",
       "      <td>국내 연구진이 음악 빅데이터 기반 인공지능(AI)을 통해 인간과 상호작용하며 합주 ...</td>\n",
       "      <td>0</td>\n",
       "    </tr>\n",
       "  </tbody>\n",
       "</table>\n",
       "</div>"
      ],
      "text/plain": [
       "   분야         발행일                                  제목  \\\n",
       "0  과학  2023-09-13  [과학기술이 미래다] 〈102〉국내 첫 퍼스널 컴퓨터 경진대회   \n",
       "1  과학  2023-09-13                         나노·소재 성과공유회   \n",
       "2  과학  2023-09-12                   [알림] 테크비즈코리아 2023   \n",
       "3  과학  2023-09-12                    드럼치는 로봇 '모펫' 입니다   \n",
       "4  과학  2023-09-11                    드럼치는 로봇 '모펫' 입니다   \n",
       "\n",
       "                                                  내용  전기(빈도수)  \n",
       "0  1984년 4월 22일. 제1회 퍼스널 컴퓨터 경진대회가 이날 오전 9시 서울 송파...        3  \n",
       "1  나노·소재분야 R&D 정책 및 우수 연구성과를 발표하고 성과물을 공유하는 나노·소재...        0  \n",
       "2  전자신문사가 올해에도 우리 연구 현장의 사업화 유망기술을 민간기업과 투자자에 소개하...        1  \n",
       "3  국내 연구진이 음악 빅데이터 기반 인공지능(AI)을 통해 인간과 상호작용하며 합주 ...        0  \n",
       "4  국내 연구진이 음악 빅데이터 기반 인공지능(AI)을 통해 인간과 상호작용하며 합주 ...        0  "
      ]
     },
     "execution_count": 18,
     "metadata": {},
     "output_type": "execute_result"
    }
   ],
   "source": [
    "df_new.head()"
   ]
  },
  {
   "cell_type": "code",
   "execution_count": 19,
   "id": "2cd30df8-d87b-42f5-befc-6288d7a646fa",
   "metadata": {
    "tags": []
   },
   "outputs": [],
   "source": [
    "df_new=pd.merge(df_new, freq_energy,\n",
    "                left_index=True, right_index=True)\n",
    "\n",
    "df_new=pd.merge(df_new, freq_nuclear,\n",
    "                left_index=True, right_index=True)\n",
    "\n",
    "df_new=pd.merge(df_new, freq_water,\n",
    "                left_index=True, right_index=True)\n",
    "\n",
    "df_new=pd.merge(df_new, freq_fire,\n",
    "                left_index=True, right_index=True)"
   ]
  },
  {
   "cell_type": "code",
   "execution_count": 20,
   "id": "c44016b0-316a-489c-afa5-92dbd273aeb5",
   "metadata": {
    "tags": []
   },
   "outputs": [
    {
     "data": {
      "text/html": [
       "<div>\n",
       "<style scoped>\n",
       "    .dataframe tbody tr th:only-of-type {\n",
       "        vertical-align: middle;\n",
       "    }\n",
       "\n",
       "    .dataframe tbody tr th {\n",
       "        vertical-align: top;\n",
       "    }\n",
       "\n",
       "    .dataframe thead th {\n",
       "        text-align: right;\n",
       "    }\n",
       "</style>\n",
       "<table border=\"1\" class=\"dataframe\">\n",
       "  <thead>\n",
       "    <tr style=\"text-align: right;\">\n",
       "      <th></th>\n",
       "      <th>분야</th>\n",
       "      <th>발행일</th>\n",
       "      <th>제목</th>\n",
       "      <th>내용</th>\n",
       "      <th>전기(빈도수)</th>\n",
       "      <th>에너지(빈도수)</th>\n",
       "      <th>원자력(빈도수)</th>\n",
       "      <th>수력(빈도수)</th>\n",
       "      <th>화력(빈도수)</th>\n",
       "    </tr>\n",
       "  </thead>\n",
       "  <tbody>\n",
       "    <tr>\n",
       "      <th>0</th>\n",
       "      <td>과학</td>\n",
       "      <td>2023-09-13</td>\n",
       "      <td>[과학기술이 미래다] 〈102〉국내 첫 퍼스널 컴퓨터 경진대회</td>\n",
       "      <td>1984년 4월 22일. 제1회 퍼스널 컴퓨터 경진대회가 이날 오전 9시 서울 송파...</td>\n",
       "      <td>3</td>\n",
       "      <td>0</td>\n",
       "      <td>0</td>\n",
       "      <td>0</td>\n",
       "      <td>0</td>\n",
       "    </tr>\n",
       "    <tr>\n",
       "      <th>1</th>\n",
       "      <td>과학</td>\n",
       "      <td>2023-09-13</td>\n",
       "      <td>나노·소재 성과공유회</td>\n",
       "      <td>나노·소재분야 R&amp;D 정책 및 우수 연구성과를 발표하고 성과물을 공유하는 나노·소재...</td>\n",
       "      <td>0</td>\n",
       "      <td>0</td>\n",
       "      <td>0</td>\n",
       "      <td>0</td>\n",
       "      <td>0</td>\n",
       "    </tr>\n",
       "    <tr>\n",
       "      <th>2</th>\n",
       "      <td>과학</td>\n",
       "      <td>2023-09-12</td>\n",
       "      <td>[알림] 테크비즈코리아 2023</td>\n",
       "      <td>전자신문사가 올해에도 우리 연구 현장의 사업화 유망기술을 민간기업과 투자자에 소개하...</td>\n",
       "      <td>1</td>\n",
       "      <td>1</td>\n",
       "      <td>2</td>\n",
       "      <td>0</td>\n",
       "      <td>0</td>\n",
       "    </tr>\n",
       "    <tr>\n",
       "      <th>3</th>\n",
       "      <td>과학</td>\n",
       "      <td>2023-09-12</td>\n",
       "      <td>드럼치는 로봇 '모펫' 입니다</td>\n",
       "      <td>국내 연구진이 음악 빅데이터 기반 인공지능(AI)을 통해 인간과 상호작용하며 합주 ...</td>\n",
       "      <td>0</td>\n",
       "      <td>0</td>\n",
       "      <td>0</td>\n",
       "      <td>0</td>\n",
       "      <td>0</td>\n",
       "    </tr>\n",
       "    <tr>\n",
       "      <th>4</th>\n",
       "      <td>과학</td>\n",
       "      <td>2023-09-11</td>\n",
       "      <td>드럼치는 로봇 '모펫' 입니다</td>\n",
       "      <td>국내 연구진이 음악 빅데이터 기반 인공지능(AI)을 통해 인간과 상호작용하며 합주 ...</td>\n",
       "      <td>0</td>\n",
       "      <td>0</td>\n",
       "      <td>0</td>\n",
       "      <td>0</td>\n",
       "      <td>0</td>\n",
       "    </tr>\n",
       "  </tbody>\n",
       "</table>\n",
       "</div>"
      ],
      "text/plain": [
       "   분야         발행일                                  제목  \\\n",
       "0  과학  2023-09-13  [과학기술이 미래다] 〈102〉국내 첫 퍼스널 컴퓨터 경진대회   \n",
       "1  과학  2023-09-13                         나노·소재 성과공유회   \n",
       "2  과학  2023-09-12                   [알림] 테크비즈코리아 2023   \n",
       "3  과학  2023-09-12                    드럼치는 로봇 '모펫' 입니다   \n",
       "4  과학  2023-09-11                    드럼치는 로봇 '모펫' 입니다   \n",
       "\n",
       "                                                  내용  전기(빈도수)  에너지(빈도수)  \\\n",
       "0  1984년 4월 22일. 제1회 퍼스널 컴퓨터 경진대회가 이날 오전 9시 서울 송파...        3         0   \n",
       "1  나노·소재분야 R&D 정책 및 우수 연구성과를 발표하고 성과물을 공유하는 나노·소재...        0         0   \n",
       "2  전자신문사가 올해에도 우리 연구 현장의 사업화 유망기술을 민간기업과 투자자에 소개하...        1         1   \n",
       "3  국내 연구진이 음악 빅데이터 기반 인공지능(AI)을 통해 인간과 상호작용하며 합주 ...        0         0   \n",
       "4  국내 연구진이 음악 빅데이터 기반 인공지능(AI)을 통해 인간과 상호작용하며 합주 ...        0         0   \n",
       "\n",
       "   원자력(빈도수)  수력(빈도수)  화력(빈도수)  \n",
       "0         0        0        0  \n",
       "1         0        0        0  \n",
       "2         2        0        0  \n",
       "3         0        0        0  \n",
       "4         0        0        0  "
      ]
     },
     "execution_count": 20,
     "metadata": {},
     "output_type": "execute_result"
    }
   ],
   "source": [
    "df_new.head()"
   ]
  },
  {
   "cell_type": "code",
   "execution_count": 21,
   "id": "d6829f06-e0a8-4f4f-9d55-00de1e01d146",
   "metadata": {},
   "outputs": [],
   "source": [
    "#2-3 불필요한 데이터를 삭제하고, 에너지관련 용어의 빈도수가 도출된 자료를 csv로 내보내기(w)\n",
    "df_new.to_csv(\"kimdamhyang_processing.csv\", mode='w')"
   ]
  },
  {
   "cell_type": "code",
   "execution_count": null,
   "id": "ef61976e-c50c-41f5-9e75-6d422a6065b9",
   "metadata": {},
   "outputs": [],
   "source": [
    "\"\"\"3. 통계분석\n",
    "에너지 관련 단어에 대하여 적절한 통계량(평균, 표준편차, 최빈단어)를 구한다\"\"\""
   ]
  },
  {
   "cell_type": "code",
   "execution_count": 5,
   "id": "d80ce3b8-235c-4a9e-b3bc-41daf45f6865",
   "metadata": {
    "tags": []
   },
   "outputs": [],
   "source": [
    "df_prosessed = pd.read_csv(\"kimdamhyang_processing.csv\")"
   ]
  },
  {
   "cell_type": "code",
   "execution_count": 12,
   "id": "3d8b929c-abf5-47d0-b8c3-6b31df28c70c",
   "metadata": {
    "tags": []
   },
   "outputs": [
    {
     "data": {
      "text/plain": [
       "(1480, 10)"
      ]
     },
     "execution_count": 12,
     "metadata": {},
     "output_type": "execute_result"
    }
   ],
   "source": [
    "df_prosessed.shape"
   ]
  },
  {
   "cell_type": "code",
   "execution_count": 13,
   "id": "07703b49-1639-42e6-b8eb-9a994e1157ac",
   "metadata": {
    "tags": []
   },
   "outputs": [
    {
     "data": {
      "text/html": [
       "<div>\n",
       "<style scoped>\n",
       "    .dataframe tbody tr th:only-of-type {\n",
       "        vertical-align: middle;\n",
       "    }\n",
       "\n",
       "    .dataframe tbody tr th {\n",
       "        vertical-align: top;\n",
       "    }\n",
       "\n",
       "    .dataframe thead th {\n",
       "        text-align: right;\n",
       "    }\n",
       "</style>\n",
       "<table border=\"1\" class=\"dataframe\">\n",
       "  <thead>\n",
       "    <tr style=\"text-align: right;\">\n",
       "      <th></th>\n",
       "      <th>Unnamed: 0</th>\n",
       "      <th>분야</th>\n",
       "      <th>발행일</th>\n",
       "      <th>제목</th>\n",
       "      <th>내용</th>\n",
       "      <th>전기(빈도수)</th>\n",
       "      <th>에너지(빈도수)</th>\n",
       "      <th>원자력(빈도수)</th>\n",
       "      <th>수력(빈도수)</th>\n",
       "      <th>화력(빈도수)</th>\n",
       "    </tr>\n",
       "  </thead>\n",
       "  <tbody>\n",
       "    <tr>\n",
       "      <th>0</th>\n",
       "      <td>0</td>\n",
       "      <td>과학</td>\n",
       "      <td>2023-09-13</td>\n",
       "      <td>[과학기술이 미래다] 〈102〉국내 첫 퍼스널 컴퓨터 경진대회</td>\n",
       "      <td>1984년 4월 22일. 제1회 퍼스널 컴퓨터 경진대회가 이날 오전 9시 서울 송파...</td>\n",
       "      <td>3</td>\n",
       "      <td>0</td>\n",
       "      <td>0</td>\n",
       "      <td>0</td>\n",
       "      <td>0</td>\n",
       "    </tr>\n",
       "    <tr>\n",
       "      <th>1</th>\n",
       "      <td>1</td>\n",
       "      <td>과학</td>\n",
       "      <td>2023-09-13</td>\n",
       "      <td>나노·소재 성과공유회</td>\n",
       "      <td>나노·소재분야 R&amp;D 정책 및 우수 연구성과를 발표하고 성과물을 공유하는 나노·소재...</td>\n",
       "      <td>0</td>\n",
       "      <td>0</td>\n",
       "      <td>0</td>\n",
       "      <td>0</td>\n",
       "      <td>0</td>\n",
       "    </tr>\n",
       "    <tr>\n",
       "      <th>2</th>\n",
       "      <td>2</td>\n",
       "      <td>과학</td>\n",
       "      <td>2023-09-12</td>\n",
       "      <td>[알림] 테크비즈코리아 2023</td>\n",
       "      <td>전자신문사가 올해에도 우리 연구 현장의 사업화 유망기술을 민간기업과 투자자에 소개하...</td>\n",
       "      <td>1</td>\n",
       "      <td>1</td>\n",
       "      <td>2</td>\n",
       "      <td>0</td>\n",
       "      <td>0</td>\n",
       "    </tr>\n",
       "    <tr>\n",
       "      <th>3</th>\n",
       "      <td>3</td>\n",
       "      <td>과학</td>\n",
       "      <td>2023-09-12</td>\n",
       "      <td>드럼치는 로봇 '모펫' 입니다</td>\n",
       "      <td>국내 연구진이 음악 빅데이터 기반 인공지능(AI)을 통해 인간과 상호작용하며 합주 ...</td>\n",
       "      <td>0</td>\n",
       "      <td>0</td>\n",
       "      <td>0</td>\n",
       "      <td>0</td>\n",
       "      <td>0</td>\n",
       "    </tr>\n",
       "    <tr>\n",
       "      <th>4</th>\n",
       "      <td>4</td>\n",
       "      <td>과학</td>\n",
       "      <td>2023-09-11</td>\n",
       "      <td>드럼치는 로봇 '모펫' 입니다</td>\n",
       "      <td>국내 연구진이 음악 빅데이터 기반 인공지능(AI)을 통해 인간과 상호작용하며 합주 ...</td>\n",
       "      <td>0</td>\n",
       "      <td>0</td>\n",
       "      <td>0</td>\n",
       "      <td>0</td>\n",
       "      <td>0</td>\n",
       "    </tr>\n",
       "  </tbody>\n",
       "</table>\n",
       "</div>"
      ],
      "text/plain": [
       "   Unnamed: 0  분야         발행일                                  제목  \\\n",
       "0           0  과학  2023-09-13  [과학기술이 미래다] 〈102〉국내 첫 퍼스널 컴퓨터 경진대회   \n",
       "1           1  과학  2023-09-13                         나노·소재 성과공유회   \n",
       "2           2  과학  2023-09-12                   [알림] 테크비즈코리아 2023   \n",
       "3           3  과학  2023-09-12                    드럼치는 로봇 '모펫' 입니다   \n",
       "4           4  과학  2023-09-11                    드럼치는 로봇 '모펫' 입니다   \n",
       "\n",
       "                                                  내용  전기(빈도수)  에너지(빈도수)  \\\n",
       "0  1984년 4월 22일. 제1회 퍼스널 컴퓨터 경진대회가 이날 오전 9시 서울 송파...        3         0   \n",
       "1  나노·소재분야 R&D 정책 및 우수 연구성과를 발표하고 성과물을 공유하는 나노·소재...        0         0   \n",
       "2  전자신문사가 올해에도 우리 연구 현장의 사업화 유망기술을 민간기업과 투자자에 소개하...        1         1   \n",
       "3  국내 연구진이 음악 빅데이터 기반 인공지능(AI)을 통해 인간과 상호작용하며 합주 ...        0         0   \n",
       "4  국내 연구진이 음악 빅데이터 기반 인공지능(AI)을 통해 인간과 상호작용하며 합주 ...        0         0   \n",
       "\n",
       "   원자력(빈도수)  수력(빈도수)  화력(빈도수)  \n",
       "0         0        0        0  \n",
       "1         0        0        0  \n",
       "2         2        0        0  \n",
       "3         0        0        0  \n",
       "4         0        0        0  "
      ]
     },
     "execution_count": 13,
     "metadata": {},
     "output_type": "execute_result"
    }
   ],
   "source": [
    "df_prosessed.head()"
   ]
  },
  {
   "cell_type": "code",
   "execution_count": 6,
   "id": "814f92bb-e7a1-43aa-963a-19bcbe447500",
   "metadata": {
    "tags": []
   },
   "outputs": [],
   "source": [
    "df_prosessed = df_prosessed.iloc[:,1:]  #불필요한 열 제거"
   ]
  },
  {
   "cell_type": "code",
   "execution_count": 7,
   "id": "ee151694-e54d-478c-ac10-eb30d5ed8da3",
   "metadata": {
    "tags": []
   },
   "outputs": [
    {
     "data": {
      "text/html": [
       "<div>\n",
       "<style scoped>\n",
       "    .dataframe tbody tr th:only-of-type {\n",
       "        vertical-align: middle;\n",
       "    }\n",
       "\n",
       "    .dataframe tbody tr th {\n",
       "        vertical-align: top;\n",
       "    }\n",
       "\n",
       "    .dataframe thead th {\n",
       "        text-align: right;\n",
       "    }\n",
       "</style>\n",
       "<table border=\"1\" class=\"dataframe\">\n",
       "  <thead>\n",
       "    <tr style=\"text-align: right;\">\n",
       "      <th></th>\n",
       "      <th>분야</th>\n",
       "      <th>발행일</th>\n",
       "      <th>제목</th>\n",
       "      <th>내용</th>\n",
       "      <th>전기(빈도수)</th>\n",
       "      <th>에너지(빈도수)</th>\n",
       "      <th>원자력(빈도수)</th>\n",
       "      <th>수력(빈도수)</th>\n",
       "      <th>화력(빈도수)</th>\n",
       "    </tr>\n",
       "  </thead>\n",
       "  <tbody>\n",
       "    <tr>\n",
       "      <th>0</th>\n",
       "      <td>과학</td>\n",
       "      <td>2023-09-13</td>\n",
       "      <td>[과학기술이 미래다] 〈102〉국내 첫 퍼스널 컴퓨터 경진대회</td>\n",
       "      <td>1984년 4월 22일. 제1회 퍼스널 컴퓨터 경진대회가 이날 오전 9시 서울 송파...</td>\n",
       "      <td>3</td>\n",
       "      <td>0</td>\n",
       "      <td>0</td>\n",
       "      <td>0</td>\n",
       "      <td>0</td>\n",
       "    </tr>\n",
       "    <tr>\n",
       "      <th>1</th>\n",
       "      <td>과학</td>\n",
       "      <td>2023-09-13</td>\n",
       "      <td>나노·소재 성과공유회</td>\n",
       "      <td>나노·소재분야 R&amp;D 정책 및 우수 연구성과를 발표하고 성과물을 공유하는 나노·소재...</td>\n",
       "      <td>0</td>\n",
       "      <td>0</td>\n",
       "      <td>0</td>\n",
       "      <td>0</td>\n",
       "      <td>0</td>\n",
       "    </tr>\n",
       "    <tr>\n",
       "      <th>2</th>\n",
       "      <td>과학</td>\n",
       "      <td>2023-09-12</td>\n",
       "      <td>[알림] 테크비즈코리아 2023</td>\n",
       "      <td>전자신문사가 올해에도 우리 연구 현장의 사업화 유망기술을 민간기업과 투자자에 소개하...</td>\n",
       "      <td>1</td>\n",
       "      <td>1</td>\n",
       "      <td>2</td>\n",
       "      <td>0</td>\n",
       "      <td>0</td>\n",
       "    </tr>\n",
       "    <tr>\n",
       "      <th>3</th>\n",
       "      <td>과학</td>\n",
       "      <td>2023-09-12</td>\n",
       "      <td>드럼치는 로봇 '모펫' 입니다</td>\n",
       "      <td>국내 연구진이 음악 빅데이터 기반 인공지능(AI)을 통해 인간과 상호작용하며 합주 ...</td>\n",
       "      <td>0</td>\n",
       "      <td>0</td>\n",
       "      <td>0</td>\n",
       "      <td>0</td>\n",
       "      <td>0</td>\n",
       "    </tr>\n",
       "    <tr>\n",
       "      <th>4</th>\n",
       "      <td>과학</td>\n",
       "      <td>2023-09-11</td>\n",
       "      <td>드럼치는 로봇 '모펫' 입니다</td>\n",
       "      <td>국내 연구진이 음악 빅데이터 기반 인공지능(AI)을 통해 인간과 상호작용하며 합주 ...</td>\n",
       "      <td>0</td>\n",
       "      <td>0</td>\n",
       "      <td>0</td>\n",
       "      <td>0</td>\n",
       "      <td>0</td>\n",
       "    </tr>\n",
       "  </tbody>\n",
       "</table>\n",
       "</div>"
      ],
      "text/plain": [
       "   분야         발행일                                  제목  \\\n",
       "0  과학  2023-09-13  [과학기술이 미래다] 〈102〉국내 첫 퍼스널 컴퓨터 경진대회   \n",
       "1  과학  2023-09-13                         나노·소재 성과공유회   \n",
       "2  과학  2023-09-12                   [알림] 테크비즈코리아 2023   \n",
       "3  과학  2023-09-12                    드럼치는 로봇 '모펫' 입니다   \n",
       "4  과학  2023-09-11                    드럼치는 로봇 '모펫' 입니다   \n",
       "\n",
       "                                                  내용  전기(빈도수)  에너지(빈도수)  \\\n",
       "0  1984년 4월 22일. 제1회 퍼스널 컴퓨터 경진대회가 이날 오전 9시 서울 송파...        3         0   \n",
       "1  나노·소재분야 R&D 정책 및 우수 연구성과를 발표하고 성과물을 공유하는 나노·소재...        0         0   \n",
       "2  전자신문사가 올해에도 우리 연구 현장의 사업화 유망기술을 민간기업과 투자자에 소개하...        1         1   \n",
       "3  국내 연구진이 음악 빅데이터 기반 인공지능(AI)을 통해 인간과 상호작용하며 합주 ...        0         0   \n",
       "4  국내 연구진이 음악 빅데이터 기반 인공지능(AI)을 통해 인간과 상호작용하며 합주 ...        0         0   \n",
       "\n",
       "   원자력(빈도수)  수력(빈도수)  화력(빈도수)  \n",
       "0         0        0        0  \n",
       "1         0        0        0  \n",
       "2         2        0        0  \n",
       "3         0        0        0  \n",
       "4         0        0        0  "
      ]
     },
     "execution_count": 7,
     "metadata": {},
     "output_type": "execute_result"
    }
   ],
   "source": [
    "df_prosessed.head()"
   ]
  },
  {
   "cell_type": "code",
   "execution_count": 26,
   "id": "ebd4e498-c563-4d35-8793-86c72b1d3d12",
   "metadata": {
    "tags": []
   },
   "outputs": [
    {
     "name": "stdout",
     "output_type": "stream",
     "text": [
      "<class 'pandas.core.frame.DataFrame'>\n",
      "RangeIndex: 1480 entries, 0 to 1479\n",
      "Data columns (total 8 columns):\n",
      " #   Column    Non-Null Count  Dtype \n",
      "---  ------    --------------  ----- \n",
      " 0   발행일       1480 non-null   object\n",
      " 1   제목        1480 non-null   object\n",
      " 2   내용        1480 non-null   object\n",
      " 3   전기(빈도수)   1480 non-null   int64 \n",
      " 4   에너지(빈도수)  1480 non-null   int64 \n",
      " 5   원자력(빈도수)  1480 non-null   int64 \n",
      " 6   수력(빈도수)   1480 non-null   int64 \n",
      " 7   화력(빈도수)   1480 non-null   int64 \n",
      "dtypes: int64(5), object(3)\n",
      "memory usage: 92.6+ KB\n"
     ]
    }
   ],
   "source": [
    "df_prosessed.info()"
   ]
  },
  {
   "cell_type": "code",
   "execution_count": 8,
   "id": "31c64730-9fbf-47e3-866f-1fbca337de06",
   "metadata": {
    "tags": []
   },
   "outputs": [
    {
     "data": {
      "text/html": [
       "<div>\n",
       "<style scoped>\n",
       "    .dataframe tbody tr th:only-of-type {\n",
       "        vertical-align: middle;\n",
       "    }\n",
       "\n",
       "    .dataframe tbody tr th {\n",
       "        vertical-align: top;\n",
       "    }\n",
       "\n",
       "    .dataframe thead th {\n",
       "        text-align: right;\n",
       "    }\n",
       "</style>\n",
       "<table border=\"1\" class=\"dataframe\">\n",
       "  <thead>\n",
       "    <tr style=\"text-align: right;\">\n",
       "      <th></th>\n",
       "      <th>분야</th>\n",
       "      <th>발행일</th>\n",
       "      <th>제목</th>\n",
       "      <th>내용</th>\n",
       "      <th>전기(빈도수)</th>\n",
       "      <th>에너지(빈도수)</th>\n",
       "      <th>원자력(빈도수)</th>\n",
       "      <th>수력(빈도수)</th>\n",
       "      <th>화력(빈도수)</th>\n",
       "    </tr>\n",
       "  </thead>\n",
       "  <tbody>\n",
       "    <tr>\n",
       "      <th>count</th>\n",
       "      <td>1480</td>\n",
       "      <td>1480</td>\n",
       "      <td>1480</td>\n",
       "      <td>1480</td>\n",
       "      <td>1480.000000</td>\n",
       "      <td>1480.000000</td>\n",
       "      <td>1480.000000</td>\n",
       "      <td>1480.000000</td>\n",
       "      <td>1480.000000</td>\n",
       "    </tr>\n",
       "    <tr>\n",
       "      <th>unique</th>\n",
       "      <td>2</td>\n",
       "      <td>157</td>\n",
       "      <td>1473</td>\n",
       "      <td>1439</td>\n",
       "      <td>NaN</td>\n",
       "      <td>NaN</td>\n",
       "      <td>NaN</td>\n",
       "      <td>NaN</td>\n",
       "      <td>NaN</td>\n",
       "    </tr>\n",
       "    <tr>\n",
       "      <th>top</th>\n",
       "      <td>에너지</td>\n",
       "      <td>2023-05-23</td>\n",
       "      <td>드럼치는 로봇 '모펫' 입니다</td>\n",
       "      <td>없음</td>\n",
       "      <td>NaN</td>\n",
       "      <td>NaN</td>\n",
       "      <td>NaN</td>\n",
       "      <td>NaN</td>\n",
       "      <td>NaN</td>\n",
       "    </tr>\n",
       "    <tr>\n",
       "      <th>freq</th>\n",
       "      <td>1187</td>\n",
       "      <td>27</td>\n",
       "      <td>3</td>\n",
       "      <td>10</td>\n",
       "      <td>NaN</td>\n",
       "      <td>NaN</td>\n",
       "      <td>NaN</td>\n",
       "      <td>NaN</td>\n",
       "      <td>NaN</td>\n",
       "    </tr>\n",
       "    <tr>\n",
       "      <th>mean</th>\n",
       "      <td>NaN</td>\n",
       "      <td>NaN</td>\n",
       "      <td>NaN</td>\n",
       "      <td>NaN</td>\n",
       "      <td>1.080405</td>\n",
       "      <td>2.358108</td>\n",
       "      <td>0.256757</td>\n",
       "      <td>0.043243</td>\n",
       "      <td>0.023649</td>\n",
       "    </tr>\n",
       "    <tr>\n",
       "      <th>std</th>\n",
       "      <td>NaN</td>\n",
       "      <td>NaN</td>\n",
       "      <td>NaN</td>\n",
       "      <td>NaN</td>\n",
       "      <td>3.249115</td>\n",
       "      <td>4.952663</td>\n",
       "      <td>1.282965</td>\n",
       "      <td>0.234358</td>\n",
       "      <td>0.205029</td>\n",
       "    </tr>\n",
       "    <tr>\n",
       "      <th>min</th>\n",
       "      <td>NaN</td>\n",
       "      <td>NaN</td>\n",
       "      <td>NaN</td>\n",
       "      <td>NaN</td>\n",
       "      <td>0.000000</td>\n",
       "      <td>0.000000</td>\n",
       "      <td>0.000000</td>\n",
       "      <td>0.000000</td>\n",
       "      <td>0.000000</td>\n",
       "    </tr>\n",
       "    <tr>\n",
       "      <th>25%</th>\n",
       "      <td>NaN</td>\n",
       "      <td>NaN</td>\n",
       "      <td>NaN</td>\n",
       "      <td>NaN</td>\n",
       "      <td>0.000000</td>\n",
       "      <td>0.000000</td>\n",
       "      <td>0.000000</td>\n",
       "      <td>0.000000</td>\n",
       "      <td>0.000000</td>\n",
       "    </tr>\n",
       "    <tr>\n",
       "      <th>50%</th>\n",
       "      <td>NaN</td>\n",
       "      <td>NaN</td>\n",
       "      <td>NaN</td>\n",
       "      <td>NaN</td>\n",
       "      <td>0.000000</td>\n",
       "      <td>0.000000</td>\n",
       "      <td>0.000000</td>\n",
       "      <td>0.000000</td>\n",
       "      <td>0.000000</td>\n",
       "    </tr>\n",
       "    <tr>\n",
       "      <th>75%</th>\n",
       "      <td>NaN</td>\n",
       "      <td>NaN</td>\n",
       "      <td>NaN</td>\n",
       "      <td>NaN</td>\n",
       "      <td>1.000000</td>\n",
       "      <td>2.000000</td>\n",
       "      <td>0.000000</td>\n",
       "      <td>0.000000</td>\n",
       "      <td>0.000000</td>\n",
       "    </tr>\n",
       "    <tr>\n",
       "      <th>max</th>\n",
       "      <td>NaN</td>\n",
       "      <td>NaN</td>\n",
       "      <td>NaN</td>\n",
       "      <td>NaN</td>\n",
       "      <td>37.000000</td>\n",
       "      <td>56.000000</td>\n",
       "      <td>19.000000</td>\n",
       "      <td>4.000000</td>\n",
       "      <td>4.000000</td>\n",
       "    </tr>\n",
       "  </tbody>\n",
       "</table>\n",
       "</div>"
      ],
      "text/plain": [
       "          분야         발행일                제목    내용      전기(빈도수)     에너지(빈도수)  \\\n",
       "count   1480        1480              1480  1480  1480.000000  1480.000000   \n",
       "unique     2         157              1473  1439          NaN          NaN   \n",
       "top      에너지  2023-05-23  드럼치는 로봇 '모펫' 입니다    없음          NaN          NaN   \n",
       "freq    1187          27                 3    10          NaN          NaN   \n",
       "mean     NaN         NaN               NaN   NaN     1.080405     2.358108   \n",
       "std      NaN         NaN               NaN   NaN     3.249115     4.952663   \n",
       "min      NaN         NaN               NaN   NaN     0.000000     0.000000   \n",
       "25%      NaN         NaN               NaN   NaN     0.000000     0.000000   \n",
       "50%      NaN         NaN               NaN   NaN     0.000000     0.000000   \n",
       "75%      NaN         NaN               NaN   NaN     1.000000     2.000000   \n",
       "max      NaN         NaN               NaN   NaN    37.000000    56.000000   \n",
       "\n",
       "           원자력(빈도수)      수력(빈도수)      화력(빈도수)  \n",
       "count   1480.000000  1480.000000  1480.000000  \n",
       "unique          NaN          NaN          NaN  \n",
       "top             NaN          NaN          NaN  \n",
       "freq            NaN          NaN          NaN  \n",
       "mean       0.256757     0.043243     0.023649  \n",
       "std        1.282965     0.234358     0.205029  \n",
       "min        0.000000     0.000000     0.000000  \n",
       "25%        0.000000     0.000000     0.000000  \n",
       "50%        0.000000     0.000000     0.000000  \n",
       "75%        0.000000     0.000000     0.000000  \n",
       "max       19.000000     4.000000     4.000000  "
      ]
     },
     "execution_count": 8,
     "metadata": {},
     "output_type": "execute_result"
    }
   ],
   "source": [
    "df_prosessed.describe(include = 'all')"
   ]
  },
  {
   "cell_type": "code",
   "execution_count": 23,
   "id": "6630ee89-5d07-48c5-8cc3-f934bd5954bb",
   "metadata": {
    "tags": []
   },
   "outputs": [
    {
     "name": "stderr",
     "output_type": "stream",
     "text": [
      "C:\\Users\\user\\AppData\\Local\\Temp\\ipykernel_9032\\1075025132.py:1: FutureWarning: ['분야', '제목', '내용'] did not aggregate successfully. If any error is raised this will raise in a future version of pandas. Drop these columns/ops to avoid this warning.\n",
      "  df_prosessed.groupby(['발행일']).agg(['mean','sum','count'])\n"
     ]
    },
    {
     "data": {
      "text/html": [
       "<div>\n",
       "<style scoped>\n",
       "    .dataframe tbody tr th:only-of-type {\n",
       "        vertical-align: middle;\n",
       "    }\n",
       "\n",
       "    .dataframe tbody tr th {\n",
       "        vertical-align: top;\n",
       "    }\n",
       "\n",
       "    .dataframe thead tr th {\n",
       "        text-align: left;\n",
       "    }\n",
       "\n",
       "    .dataframe thead tr:last-of-type th {\n",
       "        text-align: right;\n",
       "    }\n",
       "</style>\n",
       "<table border=\"1\" class=\"dataframe\">\n",
       "  <thead>\n",
       "    <tr>\n",
       "      <th></th>\n",
       "      <th colspan=\"3\" halign=\"left\">전기(빈도수)</th>\n",
       "      <th colspan=\"3\" halign=\"left\">에너지(빈도수)</th>\n",
       "      <th colspan=\"3\" halign=\"left\">원자력(빈도수)</th>\n",
       "      <th colspan=\"3\" halign=\"left\">수력(빈도수)</th>\n",
       "      <th colspan=\"3\" halign=\"left\">화력(빈도수)</th>\n",
       "    </tr>\n",
       "    <tr>\n",
       "      <th></th>\n",
       "      <th>mean</th>\n",
       "      <th>sum</th>\n",
       "      <th>count</th>\n",
       "      <th>mean</th>\n",
       "      <th>sum</th>\n",
       "      <th>count</th>\n",
       "      <th>mean</th>\n",
       "      <th>sum</th>\n",
       "      <th>count</th>\n",
       "      <th>mean</th>\n",
       "      <th>sum</th>\n",
       "      <th>count</th>\n",
       "      <th>mean</th>\n",
       "      <th>sum</th>\n",
       "      <th>count</th>\n",
       "    </tr>\n",
       "    <tr>\n",
       "      <th>발행일</th>\n",
       "      <th></th>\n",
       "      <th></th>\n",
       "      <th></th>\n",
       "      <th></th>\n",
       "      <th></th>\n",
       "      <th></th>\n",
       "      <th></th>\n",
       "      <th></th>\n",
       "      <th></th>\n",
       "      <th></th>\n",
       "      <th></th>\n",
       "      <th></th>\n",
       "      <th></th>\n",
       "      <th></th>\n",
       "      <th></th>\n",
       "    </tr>\n",
       "  </thead>\n",
       "  <tbody>\n",
       "    <tr>\n",
       "      <th>2023-03-19</th>\n",
       "      <td>0.307692</td>\n",
       "      <td>4</td>\n",
       "      <td>13</td>\n",
       "      <td>9.692308</td>\n",
       "      <td>126</td>\n",
       "      <td>13</td>\n",
       "      <td>0.000000</td>\n",
       "      <td>0</td>\n",
       "      <td>13</td>\n",
       "      <td>0.000000</td>\n",
       "      <td>0</td>\n",
       "      <td>13</td>\n",
       "      <td>0.00</td>\n",
       "      <td>0</td>\n",
       "      <td>13</td>\n",
       "    </tr>\n",
       "    <tr>\n",
       "      <th>2023-03-20</th>\n",
       "      <td>0.181818</td>\n",
       "      <td>2</td>\n",
       "      <td>11</td>\n",
       "      <td>0.454545</td>\n",
       "      <td>5</td>\n",
       "      <td>11</td>\n",
       "      <td>0.090909</td>\n",
       "      <td>1</td>\n",
       "      <td>11</td>\n",
       "      <td>0.000000</td>\n",
       "      <td>0</td>\n",
       "      <td>11</td>\n",
       "      <td>0.00</td>\n",
       "      <td>0</td>\n",
       "      <td>11</td>\n",
       "    </tr>\n",
       "    <tr>\n",
       "      <th>2023-03-21</th>\n",
       "      <td>0.619048</td>\n",
       "      <td>13</td>\n",
       "      <td>21</td>\n",
       "      <td>2.619048</td>\n",
       "      <td>55</td>\n",
       "      <td>21</td>\n",
       "      <td>0.000000</td>\n",
       "      <td>0</td>\n",
       "      <td>21</td>\n",
       "      <td>0.000000</td>\n",
       "      <td>0</td>\n",
       "      <td>21</td>\n",
       "      <td>0.00</td>\n",
       "      <td>0</td>\n",
       "      <td>21</td>\n",
       "    </tr>\n",
       "    <tr>\n",
       "      <th>2023-03-22</th>\n",
       "      <td>0.320000</td>\n",
       "      <td>8</td>\n",
       "      <td>25</td>\n",
       "      <td>0.360000</td>\n",
       "      <td>9</td>\n",
       "      <td>25</td>\n",
       "      <td>0.040000</td>\n",
       "      <td>1</td>\n",
       "      <td>25</td>\n",
       "      <td>0.000000</td>\n",
       "      <td>0</td>\n",
       "      <td>25</td>\n",
       "      <td>0.04</td>\n",
       "      <td>1</td>\n",
       "      <td>25</td>\n",
       "    </tr>\n",
       "    <tr>\n",
       "      <th>2023-03-23</th>\n",
       "      <td>1.000000</td>\n",
       "      <td>11</td>\n",
       "      <td>11</td>\n",
       "      <td>0.727273</td>\n",
       "      <td>8</td>\n",
       "      <td>11</td>\n",
       "      <td>0.000000</td>\n",
       "      <td>0</td>\n",
       "      <td>11</td>\n",
       "      <td>0.000000</td>\n",
       "      <td>0</td>\n",
       "      <td>11</td>\n",
       "      <td>0.00</td>\n",
       "      <td>0</td>\n",
       "      <td>11</td>\n",
       "    </tr>\n",
       "    <tr>\n",
       "      <th>...</th>\n",
       "      <td>...</td>\n",
       "      <td>...</td>\n",
       "      <td>...</td>\n",
       "      <td>...</td>\n",
       "      <td>...</td>\n",
       "      <td>...</td>\n",
       "      <td>...</td>\n",
       "      <td>...</td>\n",
       "      <td>...</td>\n",
       "      <td>...</td>\n",
       "      <td>...</td>\n",
       "      <td>...</td>\n",
       "      <td>...</td>\n",
       "      <td>...</td>\n",
       "      <td>...</td>\n",
       "    </tr>\n",
       "    <tr>\n",
       "      <th>2023-09-12</th>\n",
       "      <td>0.500000</td>\n",
       "      <td>7</td>\n",
       "      <td>14</td>\n",
       "      <td>0.714286</td>\n",
       "      <td>10</td>\n",
       "      <td>14</td>\n",
       "      <td>0.142857</td>\n",
       "      <td>2</td>\n",
       "      <td>14</td>\n",
       "      <td>0.071429</td>\n",
       "      <td>1</td>\n",
       "      <td>14</td>\n",
       "      <td>0.00</td>\n",
       "      <td>0</td>\n",
       "      <td>14</td>\n",
       "    </tr>\n",
       "    <tr>\n",
       "      <th>2023-09-13</th>\n",
       "      <td>0.444444</td>\n",
       "      <td>4</td>\n",
       "      <td>9</td>\n",
       "      <td>3.555556</td>\n",
       "      <td>32</td>\n",
       "      <td>9</td>\n",
       "      <td>0.000000</td>\n",
       "      <td>0</td>\n",
       "      <td>9</td>\n",
       "      <td>0.000000</td>\n",
       "      <td>0</td>\n",
       "      <td>9</td>\n",
       "      <td>0.00</td>\n",
       "      <td>0</td>\n",
       "      <td>9</td>\n",
       "    </tr>\n",
       "    <tr>\n",
       "      <th>2023-09-14</th>\n",
       "      <td>1.230769</td>\n",
       "      <td>16</td>\n",
       "      <td>13</td>\n",
       "      <td>2.230769</td>\n",
       "      <td>29</td>\n",
       "      <td>13</td>\n",
       "      <td>0.153846</td>\n",
       "      <td>2</td>\n",
       "      <td>13</td>\n",
       "      <td>0.000000</td>\n",
       "      <td>0</td>\n",
       "      <td>13</td>\n",
       "      <td>0.00</td>\n",
       "      <td>0</td>\n",
       "      <td>13</td>\n",
       "    </tr>\n",
       "    <tr>\n",
       "      <th>2023-09-15</th>\n",
       "      <td>0.600000</td>\n",
       "      <td>3</td>\n",
       "      <td>5</td>\n",
       "      <td>1.600000</td>\n",
       "      <td>8</td>\n",
       "      <td>5</td>\n",
       "      <td>0.000000</td>\n",
       "      <td>0</td>\n",
       "      <td>5</td>\n",
       "      <td>0.000000</td>\n",
       "      <td>0</td>\n",
       "      <td>5</td>\n",
       "      <td>0.00</td>\n",
       "      <td>0</td>\n",
       "      <td>5</td>\n",
       "    </tr>\n",
       "    <tr>\n",
       "      <th>2023-09-17</th>\n",
       "      <td>5.666667</td>\n",
       "      <td>34</td>\n",
       "      <td>6</td>\n",
       "      <td>0.166667</td>\n",
       "      <td>1</td>\n",
       "      <td>6</td>\n",
       "      <td>0.000000</td>\n",
       "      <td>0</td>\n",
       "      <td>6</td>\n",
       "      <td>0.000000</td>\n",
       "      <td>0</td>\n",
       "      <td>6</td>\n",
       "      <td>0.00</td>\n",
       "      <td>0</td>\n",
       "      <td>6</td>\n",
       "    </tr>\n",
       "  </tbody>\n",
       "</table>\n",
       "<p>157 rows × 15 columns</p>\n",
       "</div>"
      ],
      "text/plain": [
       "             전기(빈도수)            에너지(빈도수)             원자력(빈도수)            \\\n",
       "                mean sum count      mean  sum count      mean sum count   \n",
       "발행일                                                                       \n",
       "2023-03-19  0.307692   4    13  9.692308  126    13  0.000000   0    13   \n",
       "2023-03-20  0.181818   2    11  0.454545    5    11  0.090909   1    11   \n",
       "2023-03-21  0.619048  13    21  2.619048   55    21  0.000000   0    21   \n",
       "2023-03-22  0.320000   8    25  0.360000    9    25  0.040000   1    25   \n",
       "2023-03-23  1.000000  11    11  0.727273    8    11  0.000000   0    11   \n",
       "...              ...  ..   ...       ...  ...   ...       ...  ..   ...   \n",
       "2023-09-12  0.500000   7    14  0.714286   10    14  0.142857   2    14   \n",
       "2023-09-13  0.444444   4     9  3.555556   32     9  0.000000   0     9   \n",
       "2023-09-14  1.230769  16    13  2.230769   29    13  0.153846   2    13   \n",
       "2023-09-15  0.600000   3     5  1.600000    8     5  0.000000   0     5   \n",
       "2023-09-17  5.666667  34     6  0.166667    1     6  0.000000   0     6   \n",
       "\n",
       "             수력(빈도수)           화력(빈도수)            \n",
       "                mean sum count    mean sum count  \n",
       "발행일                                               \n",
       "2023-03-19  0.000000   0    13    0.00   0    13  \n",
       "2023-03-20  0.000000   0    11    0.00   0    11  \n",
       "2023-03-21  0.000000   0    21    0.00   0    21  \n",
       "2023-03-22  0.000000   0    25    0.04   1    25  \n",
       "2023-03-23  0.000000   0    11    0.00   0    11  \n",
       "...              ...  ..   ...     ...  ..   ...  \n",
       "2023-09-12  0.071429   1    14    0.00   0    14  \n",
       "2023-09-13  0.000000   0     9    0.00   0     9  \n",
       "2023-09-14  0.000000   0    13    0.00   0    13  \n",
       "2023-09-15  0.000000   0     5    0.00   0     5  \n",
       "2023-09-17  0.000000   0     6    0.00   0     6  \n",
       "\n",
       "[157 rows x 15 columns]"
      ]
     },
     "execution_count": 23,
     "metadata": {},
     "output_type": "execute_result"
    }
   ],
   "source": [
    "df_prosessed.groupby(['발행일']).agg(['mean','sum','count'])"
   ]
  },
  {
   "cell_type": "code",
   "execution_count": 26,
   "id": "abf08028-88ab-490f-a5c2-052154bb09a2",
   "metadata": {
    "tags": []
   },
   "outputs": [
    {
     "data": {
      "text/plain": [
       "<BarContainer object of 1 artists>"
      ]
     },
     "execution_count": 26,
     "metadata": {},
     "output_type": "execute_result"
    },
    {
     "data": {
      "image/png": "[encoded data removed]",
      "text/plain": [
       "<Figure size 640x480 with 1 Axes>"
      ]
     },
     "metadata": {},
     "output_type": "display_data"
    }
   ],
   "source": [
    "plt.bar('발행일', '전기(빈도수)')"
   ]
  },
  {
   "cell_type": "code",
   "execution_count": 24,
   "id": "2d3d97bb-434f-42d5-88da-9847f6780b6d",
   "metadata": {
    "tags": []
   },
   "outputs": [
    {
     "name": "stderr",
     "output_type": "stream",
     "text": [
      "C:\\Users\\user\\AppData\\Local\\Temp\\ipykernel_9032\\4221804615.py:1: FutureWarning: The default value of numeric_only in DataFrameGroupBy.sum is deprecated. In a future version, numeric_only will default to False. Either specify numeric_only or select only columns which should be valid for the function.\n",
      "  df_prosessed.groupby(['분야']).sum()\n"
     ]
    },
    {
     "data": {
      "text/html": [
       "<div>\n",
       "<style scoped>\n",
       "    .dataframe tbody tr th:only-of-type {\n",
       "        vertical-align: middle;\n",
       "    }\n",
       "\n",
       "    .dataframe tbody tr th {\n",
       "        vertical-align: top;\n",
       "    }\n",
       "\n",
       "    .dataframe thead th {\n",
       "        text-align: right;\n",
       "    }\n",
       "</style>\n",
       "<table border=\"1\" class=\"dataframe\">\n",
       "  <thead>\n",
       "    <tr style=\"text-align: right;\">\n",
       "      <th></th>\n",
       "      <th>전기(빈도수)</th>\n",
       "      <th>에너지(빈도수)</th>\n",
       "      <th>원자력(빈도수)</th>\n",
       "      <th>수력(빈도수)</th>\n",
       "      <th>화력(빈도수)</th>\n",
       "    </tr>\n",
       "    <tr>\n",
       "      <th>분야</th>\n",
       "      <th></th>\n",
       "      <th></th>\n",
       "      <th></th>\n",
       "      <th></th>\n",
       "      <th></th>\n",
       "    </tr>\n",
       "  </thead>\n",
       "  <tbody>\n",
       "    <tr>\n",
       "      <th>과학</th>\n",
       "      <td>105</td>\n",
       "      <td>101</td>\n",
       "      <td>36</td>\n",
       "      <td>1</td>\n",
       "      <td>2</td>\n",
       "    </tr>\n",
       "    <tr>\n",
       "      <th>에너지</th>\n",
       "      <td>1494</td>\n",
       "      <td>3389</td>\n",
       "      <td>344</td>\n",
       "      <td>63</td>\n",
       "      <td>33</td>\n",
       "    </tr>\n",
       "  </tbody>\n",
       "</table>\n",
       "</div>"
      ],
      "text/plain": [
       "     전기(빈도수)  에너지(빈도수)  원자력(빈도수)  수력(빈도수)  화력(빈도수)\n",
       "분야                                                \n",
       "과학       105       101        36        1        2\n",
       "에너지     1494      3389       344       63       33"
      ]
     },
     "execution_count": 24,
     "metadata": {},
     "output_type": "execute_result"
    }
   ],
   "source": [
    "df_prosessed.groupby(['분야']).sum()"
   ]
  },
  {
   "cell_type": "code",
   "execution_count": null,
   "id": "6caa61f8-8824-419f-9d9a-2683441e2a1d",
   "metadata": {},
   "outputs": [],
   "source": []
  }
 ],
 "metadata": {
  "kernelspec": {
   "display_name": "Python 3 (ipykernel)",
   "language": "python",
   "name": "python3"
  },
  "language_info": {
   "codemirror_mode": {
    "name": "ipython",
    "version": 3
   },
   "file_extension": ".py",
   "mimetype": "text/x-python",
   "name": "python",
   "nbconvert_exporter": "python",
   "pygments_lexer": "ipython3",
   "version": "3.11.4"
  }
 },
 "nbformat": 4,
 "nbformat_minor": 5
}
