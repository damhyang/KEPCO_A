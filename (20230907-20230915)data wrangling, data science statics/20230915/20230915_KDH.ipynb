{
 "cells": [
  {
   "cell_type": "code",
   "execution_count": 1,
   "id": "67805ea4-123f-40d3-8251-3dc196bd8dd9",
   "metadata": {
    "tags": []
   },
   "outputs": [],
   "source": [
    "import numpy as np\n",
    "import pandas as pd\n",
    "\n",
    "from urllib.request import urlopen\n",
    "from bs4 import BeautifulSoup as bs"
   ]
  },
  {
   "cell_type": "code",
   "execution_count": null,
   "id": "17fcda53-6249-4d9d-9e10-417df6fc80db",
   "metadata": {},
   "outputs": [],
   "source": [
    "\"\"\"1. 수집\n",
    "전자신문 섹션 중 산업에너지환경에서  \n",
    "(https://www.etnews.com/news/section.html?id1=20)\n",
    "과학,에너지 소분야를 선택하여 크롤링하여 다음과 같이 csv 파일을 작성한다.\n",
    "================================\n",
    "분야 | 발행일 | 제목 | 내용\"\"\""
   ]
  },
  {
   "cell_type": "code",
   "execution_count": 2,
   "id": "14e4ee68-2621-40ec-aab8-03831020caa8",
   "metadata": {
    "tags": []
   },
   "outputs": [],
   "source": [
    "#1 소분야_과학\n",
    "url = 'https://www.etnews.com/news/section.html?id1=20&id2=020&page=1000'\n",
    "html = urlopen(url)\n",
    "soup = bs(html.read(),\"html.parser\")\n",
    "last_page = soup.find('a',{'href':'javascript:;'}).text"
   ]
  },
  {
   "cell_type": "code",
   "execution_count": 3,
   "id": "544b5cf6-6c21-4adc-96b5-b2a1c04aec4c",
   "metadata": {
    "tags": []
   },
   "outputs": [],
   "source": [
    "link_url = []\n",
    "base_url = \"https://www.etnews.com\"\n",
    "\n",
    "for page in range(1,int(last_page)+1):\n",
    "    url = \"https://www.etnews.com/news/section.html?id1=20&id2=020&page=\" + str(page)\n",
    "    html = urlopen(url)\n",
    "    soup = bs(html.read(),\"html.parser\")\n",
    "    \n",
    "    for links in soup.select('p > a'):\n",
    "        link = links.attrs['href']\n",
    "        if \"https\" not in link:\n",
    "            link_url.append(base_url+link)"
   ]
  },
  {
   "cell_type": "code",
   "execution_count": 4,
   "id": "0b4566f1-1fdf-47c8-a63f-bc2fe0edb75a",
   "metadata": {
    "tags": []
   },
   "outputs": [
    {
     "data": {
      "text/plain": [
       "313"
      ]
     },
     "execution_count": 4,
     "metadata": {},
     "output_type": "execute_result"
    }
   ],
   "source": [
    "len(link_url)"
   ]
  },
  {
   "cell_type": "code",
   "execution_count": 5,
   "id": "6579ba69-6716-4336-9138-0b8edf24363f",
   "metadata": {
    "tags": []
   },
   "outputs": [],
   "source": [
    "crawl_df = pd.DataFrame(columns=['분야','발행일','제목','내용'])"
   ]
  },
  {
   "cell_type": "code",
   "execution_count": 6,
   "id": "6539c509-57f3-41c3-b0a0-606bff36d5c2",
   "metadata": {
    "tags": []
   },
   "outputs": [],
   "source": [
    "for link in link_url:\n",
    "    html = urlopen(link)\n",
    "    soup = bs(html.read(),'html.parser')\n",
    "    \n",
    "    category = '과학'\n",
    "    \n",
    "    date = soup.find_all('time', {'class':'date'})[0].text[6:16]\n",
    "\n",
    "    title = soup.find_all('h2')[0].text\n",
    "    \n",
    "    draft = soup.find_all('p')\n",
    "\n",
    "    context = ''   \n",
    "    for i in draft:\n",
    "        if i.a == None:\n",
    "            i = i.text.replace(\"\\n\",\"\")\n",
    "            context += i\n",
    "            \n",
    "    tmp_df = pd.DataFrame([[category,date,title,context]],columns=crawl_df.columns)\n",
    "    crawl_df = pd.concat([crawl_df, tmp_df])"
   ]
  },
  {
   "cell_type": "code",
   "execution_count": 7,
   "id": "6d335f2c-f86e-410c-b1c2-1ab5fd8692e9",
   "metadata": {
    "tags": []
   },
   "outputs": [
    {
     "data": {
      "text/html": [
       "<div>\n",
       "<style scoped>\n",
       "    .dataframe tbody tr th:only-of-type {\n",
       "        vertical-align: middle;\n",
       "    }\n",
       "\n",
       "    .dataframe tbody tr th {\n",
       "        vertical-align: top;\n",
       "    }\n",
       "\n",
       "    .dataframe thead th {\n",
       "        text-align: right;\n",
       "    }\n",
       "</style>\n",
       "<table border=\"1\" class=\"dataframe\">\n",
       "  <thead>\n",
       "    <tr style=\"text-align: right;\">\n",
       "      <th></th>\n",
       "      <th>분야</th>\n",
       "      <th>발행일</th>\n",
       "      <th>제목</th>\n",
       "      <th>내용</th>\n",
       "    </tr>\n",
       "  </thead>\n",
       "  <tbody>\n",
       "    <tr>\n",
       "      <th>0</th>\n",
       "      <td>과학</td>\n",
       "      <td>2023-09-13</td>\n",
       "      <td>[과학기술이 미래다] 〈102〉국내 첫 퍼스널 컴퓨터 경진대회</td>\n",
       "      <td>1984년 4월 22일. 제1회 퍼스널 컴퓨터 경진대회가 이날 오전 9시 서울 송파...</td>\n",
       "    </tr>\n",
       "    <tr>\n",
       "      <th>0</th>\n",
       "      <td>과학</td>\n",
       "      <td>2023-09-13</td>\n",
       "      <td>나노·소재 성과공유회</td>\n",
       "      <td>나노·소재분야 R&amp;D 정책 및 우수 연구성과를 발표하고 성과물을 공유하는 나노·소재...</td>\n",
       "    </tr>\n",
       "    <tr>\n",
       "      <th>0</th>\n",
       "      <td>과학</td>\n",
       "      <td>2023-09-12</td>\n",
       "      <td>[알림] 테크비즈코리아 2023</td>\n",
       "      <td>전자신문사가 올해에도 우리 연구 현장의 사업화 유망기술을 민간기업과 투자자에 소개하...</td>\n",
       "    </tr>\n",
       "    <tr>\n",
       "      <th>0</th>\n",
       "      <td>과학</td>\n",
       "      <td>2023-09-12</td>\n",
       "      <td>드럼치는 로봇 '모펫' 입니다</td>\n",
       "      <td>국내 연구진이 음악 빅데이터 기반 인공지능(AI)을 통해 인간과 상호작용하며 합주 ...</td>\n",
       "    </tr>\n",
       "    <tr>\n",
       "      <th>0</th>\n",
       "      <td>과학</td>\n",
       "      <td>2023-09-11</td>\n",
       "      <td>드럼치는 로봇 '모펫' 입니다</td>\n",
       "      <td>국내 연구진이 음악 빅데이터 기반 인공지능(AI)을 통해 인간과 상호작용하며 합주 ...</td>\n",
       "    </tr>\n",
       "    <tr>\n",
       "      <th>...</th>\n",
       "      <td>...</td>\n",
       "      <td>...</td>\n",
       "      <td>...</td>\n",
       "      <td>...</td>\n",
       "    </tr>\n",
       "    <tr>\n",
       "      <th>0</th>\n",
       "      <td>과학</td>\n",
       "      <td>2023-03-16</td>\n",
       "      <td>한의학연, 현대화 기술로 '숙지황' 성분·효능 극대화</td>\n",
       "      <td>한국한의학연구원(원장 이진용)은 강영민 한약자원연구센터 박사팀이 현대화 가공 포제(...</td>\n",
       "    </tr>\n",
       "    <tr>\n",
       "      <th>0</th>\n",
       "      <td>과학</td>\n",
       "      <td>2023-03-16</td>\n",
       "      <td>지질연, 리튬 최대 생산지 서호주와 핵심광물 협력 약속</td>\n",
       "      <td>한국지질자원연구원(원장 이평구)은 15일, 서호주 광물자원연구소(MRIWA)와 인터...</td>\n",
       "    </tr>\n",
       "    <tr>\n",
       "      <th>0</th>\n",
       "      <td>과학</td>\n",
       "      <td>2023-03-16</td>\n",
       "      <td>과학영재학교 4대 과기원 조기 진학 가능해진다</td>\n",
       "      <td>이르면 2025학년도부터는 과학영재학교 학생의 4대 과학기술원 조기 진학이 가능해진...</td>\n",
       "    </tr>\n",
       "    <tr>\n",
       "      <th>0</th>\n",
       "      <td>과학</td>\n",
       "      <td>2023-03-16</td>\n",
       "      <td>KAIST, AI로 코로나19 치료제 팍스로비드와 기존 약물 반응 예측 고도화</td>\n",
       "      <td>한국과학기술원(KAIST·총장 이광형)은 이상엽 생명화학공학과 특훈교수팀이 인공지능...</td>\n",
       "    </tr>\n",
       "    <tr>\n",
       "      <th>0</th>\n",
       "      <td>과학</td>\n",
       "      <td>2023-03-16</td>\n",
       "      <td>ETRI, 지난해 국제표준특허 60건 추가…총 1077건 보유</td>\n",
       "      <td>한국전자통신연구원(ETRI)이 지속된 노력으로 국제표준화 부문에서 큰 성과를 거두고...</td>\n",
       "    </tr>\n",
       "  </tbody>\n",
       "</table>\n",
       "<p>313 rows × 4 columns</p>\n",
       "</div>"
      ],
      "text/plain": [
       "    분야         발행일                                           제목  \\\n",
       "0   과학  2023-09-13           [과학기술이 미래다] 〈102〉국내 첫 퍼스널 컴퓨터 경진대회   \n",
       "0   과학  2023-09-13                                  나노·소재 성과공유회   \n",
       "0   과학  2023-09-12                            [알림] 테크비즈코리아 2023   \n",
       "0   과학  2023-09-12                             드럼치는 로봇 '모펫' 입니다   \n",
       "0   과학  2023-09-11                             드럼치는 로봇 '모펫' 입니다   \n",
       "..  ..         ...                                          ...   \n",
       "0   과학  2023-03-16                한의학연, 현대화 기술로 '숙지황' 성분·효능 극대화   \n",
       "0   과학  2023-03-16               지질연, 리튬 최대 생산지 서호주와 핵심광물 협력 약속   \n",
       "0   과학  2023-03-16                    과학영재학교 4대 과기원 조기 진학 가능해진다   \n",
       "0   과학  2023-03-16  KAIST, AI로 코로나19 치료제 팍스로비드와 기존 약물 반응 예측 고도화   \n",
       "0   과학  2023-03-16           ETRI, 지난해 국제표준특허 60건 추가…총 1077건 보유   \n",
       "\n",
       "                                                   내용  \n",
       "0   1984년 4월 22일. 제1회 퍼스널 컴퓨터 경진대회가 이날 오전 9시 서울 송파...  \n",
       "0   나노·소재분야 R&D 정책 및 우수 연구성과를 발표하고 성과물을 공유하는 나노·소재...  \n",
       "0   전자신문사가 올해에도 우리 연구 현장의 사업화 유망기술을 민간기업과 투자자에 소개하...  \n",
       "0   국내 연구진이 음악 빅데이터 기반 인공지능(AI)을 통해 인간과 상호작용하며 합주 ...  \n",
       "0   국내 연구진이 음악 빅데이터 기반 인공지능(AI)을 통해 인간과 상호작용하며 합주 ...  \n",
       "..                                                ...  \n",
       "0   한국한의학연구원(원장 이진용)은 강영민 한약자원연구센터 박사팀이 현대화 가공 포제(...  \n",
       "0   한국지질자원연구원(원장 이평구)은 15일, 서호주 광물자원연구소(MRIWA)와 인터...  \n",
       "0   이르면 2025학년도부터는 과학영재학교 학생의 4대 과학기술원 조기 진학이 가능해진...  \n",
       "0   한국과학기술원(KAIST·총장 이광형)은 이상엽 생명화학공학과 특훈교수팀이 인공지능...  \n",
       "0   한국전자통신연구원(ETRI)이 지속된 노력으로 국제표준화 부문에서 큰 성과를 거두고...  \n",
       "\n",
       "[313 rows x 4 columns]"
      ]
     },
     "execution_count": 7,
     "metadata": {},
     "output_type": "execute_result"
    }
   ],
   "source": [
    "crawl_df"
   ]
  },
  {
   "cell_type": "code",
   "execution_count": 8,
   "id": "cc68e6c0-fa58-48fd-a35e-b04f103bfd3a",
   "metadata": {
    "tags": []
   },
   "outputs": [],
   "source": [
    "crawl_df.to_csv(\"kimdamhyang_collect.csv\", mode='w')"
   ]
  },
  {
   "cell_type": "code",
   "execution_count": 9,
   "id": "c5ab87c2-95ae-4abd-8050-17a83ea03da8",
   "metadata": {
    "tags": []
   },
   "outputs": [],
   "source": [
    "#2 소분야_에너지\n",
    "#1-1. target_url_science의 last_page보다 무조건 큰수(1000)를 가진 url을 입력. 그러면 last_page로 저절로 이동함. 그리고 last_page를 추출함.\n",
    "url = 'https://www.etnews.com/news/section.html?id1=20&id2=065&page=1000'\n",
    "html = urlopen(url)\n",
    "soup = bs(html.read(),\"html.parser\")\n",
    "last_page = soup.find('a',{'href':'javascript:;'}).text"
   ]
  },
  {
   "cell_type": "code",
   "execution_count": 10,
   "id": "fa62ca36-1395-4e56-97a7-0c2a26be50be",
   "metadata": {
    "tags": []
   },
   "outputs": [
    {
     "data": {
      "text/plain": [
       "'81'"
      ]
     },
     "execution_count": 10,
     "metadata": {},
     "output_type": "execute_result"
    }
   ],
   "source": [
    "last_page"
   ]
  },
  {
   "cell_type": "code",
   "execution_count": 11,
   "id": "2feffe1c-8949-4daf-bbda-4df429b36d1f",
   "metadata": {
    "tags": []
   },
   "outputs": [],
   "source": [
    "link_url = []\n",
    "base_url = \"https://www.etnews.com\"\n",
    "\n",
    "for page in range(1,int(last_page)+1):\n",
    "    url = \"https://www.etnews.com/news/section.html?id1=20&id2=065&page=\" + str(page)\n",
    "    html = urlopen(url)\n",
    "    soup = bs(html.read(),\"html.parser\")\n",
    "    \n",
    "    for links in soup.select('p > a'):\n",
    "        link = links.attrs['href']\n",
    "        if \"https\" not in link:\n",
    "            link_url.append(base_url+link)"
   ]
  },
  {
   "cell_type": "code",
   "execution_count": 12,
   "id": "286c6397-cf93-4acb-ad69-772d2ad13899",
   "metadata": {
    "tags": []
   },
   "outputs": [
    {
     "data": {
      "text/plain": [
       "1202"
      ]
     },
     "execution_count": 12,
     "metadata": {},
     "output_type": "execute_result"
    }
   ],
   "source": [
    "len(link_url)"
   ]
  },
  {
   "cell_type": "code",
   "execution_count": 13,
   "id": "f59ccc13-e614-4274-8f7c-12f83c58bc8a",
   "metadata": {
    "tags": []
   },
   "outputs": [],
   "source": [
    "crawl_df = pd.DataFrame(columns=['분야','발행일','제목','내용'])"
   ]
  },
  {
   "cell_type": "code",
   "execution_count": 14,
   "id": "4b7bbe5e-7707-4d78-80da-ecb4ef79fdcc",
   "metadata": {
    "tags": []
   },
   "outputs": [],
   "source": [
    "for link in link_url:\n",
    "    html = urlopen(link)\n",
    "    soup = bs(html.read(),'html.parser')\n",
    "    \n",
    "    category = '에너지'\n",
    "    \n",
    "    date = soup.find_all('time', {'class':'date'})[0].text[6:16]\n",
    "\n",
    "    title = soup.find_all('h2')[0].text\n",
    "    \n",
    "    draft = soup.find_all('p')\n",
    "\n",
    "    context = ''   \n",
    "    for i in draft:\n",
    "        if i.a == None:\n",
    "            i = i.text.replace(\"\\n\",\"\")\n",
    "            context += i\n",
    "            \n",
    "    tmp_df = pd.DataFrame([[category,date,title,context]],columns=crawl_df.columns)\n",
    "    crawl_df = pd.concat([crawl_df, tmp_df])"
   ]
  },
  {
   "cell_type": "code",
   "execution_count": 15,
   "id": "8f7b3835-1726-4e70-bdf3-b6990450ddf8",
   "metadata": {
    "collapsed": true,
    "jupyter": {
     "outputs_hidden": true
    },
    "tags": []
   },
   "outputs": [
    {
     "data": {
      "text/html": [
       "<div>\n",
       "<style scoped>\n",
       "    .dataframe tbody tr th:only-of-type {\n",
       "        vertical-align: middle;\n",
       "    }\n",
       "\n",
       "    .dataframe tbody tr th {\n",
       "        vertical-align: top;\n",
       "    }\n",
       "\n",
       "    .dataframe thead th {\n",
       "        text-align: right;\n",
       "    }\n",
       "</style>\n",
       "<table border=\"1\" class=\"dataframe\">\n",
       "  <thead>\n",
       "    <tr style=\"text-align: right;\">\n",
       "      <th></th>\n",
       "      <th>분야</th>\n",
       "      <th>발행일</th>\n",
       "      <th>제목</th>\n",
       "      <th>내용</th>\n",
       "    </tr>\n",
       "  </thead>\n",
       "  <tbody>\n",
       "    <tr>\n",
       "      <th>0</th>\n",
       "      <td>에너지</td>\n",
       "      <td>2023-09-15</td>\n",
       "      <td>바스티안-유스투스 슈미트 인앱터 회장 “AEM 수전해, 내년까지 경제성 확보”</td>\n",
       "      <td>“인앱터(Enapter)는 2년 안에 음이온교환막(AEM) 수전해 설비의 경제성을 ...</td>\n",
       "    </tr>\n",
       "    <tr>\n",
       "      <th>0</th>\n",
       "      <td>에너지</td>\n",
       "      <td>2023-09-15</td>\n",
       "      <td>E-순환거버넌스, 쌍용씨앤비, 모나리자와 E-waste 자원순환 업무협약 체결</td>\n",
       "      <td>E-순환거버넌스(이사장 정덕기)는 지난 14일 쌍용씨앤비, 모나리자와 E-waste...</td>\n",
       "    </tr>\n",
       "    <tr>\n",
       "      <th>0</th>\n",
       "      <td>에너지</td>\n",
       "      <td>2023-09-15</td>\n",
       "      <td>한양대 ERICA, DC그리드 에너지 혁신연구센터 개소</td>\n",
       "      <td>한양대 ERICA(총장 이기정)가 'DC그리드 에너지 혁신연구센터(센터장 이방욱)'...</td>\n",
       "    </tr>\n",
       "    <tr>\n",
       "      <th>0</th>\n",
       "      <td>에너지</td>\n",
       "      <td>2023-09-15</td>\n",
       "      <td>최태원 SK 회장 “울산, 디지털화로 제조 AI 중심 소프트웨어 메카될 것”</td>\n",
       "      <td>최태원 SK회장이 울산이 인공지능(AI) 중심의 소프트웨어 메카 도시로 재도약할 수...</td>\n",
       "    </tr>\n",
       "    <tr>\n",
       "      <th>0</th>\n",
       "      <td>에너지</td>\n",
       "      <td>2023-09-14</td>\n",
       "      <td>장동민 “이건 개그 아니에요!” [숏폼]</td>\n",
       "      <td>병뚜껑을 돌리는 동시에 페트병 라벨이 동시에 분리된다고? 아파트 분리수거 날이면 제...</td>\n",
       "    </tr>\n",
       "    <tr>\n",
       "      <th>...</th>\n",
       "      <td>...</td>\n",
       "      <td>...</td>\n",
       "      <td>...</td>\n",
       "      <td>...</td>\n",
       "    </tr>\n",
       "    <tr>\n",
       "      <th>0</th>\n",
       "      <td>에너지</td>\n",
       "      <td>2023-03-16</td>\n",
       "      <td>환경부 '플레어스택' 규제 혁신…“탄소배출량 148만톤 감축 기대”</td>\n",
       "      <td>환경부가 '가스연소 굴뚝(플레어스택)' 시설 관리 규정 등을 합리화하는 등 산업현장...</td>\n",
       "    </tr>\n",
       "    <tr>\n",
       "      <th>0</th>\n",
       "      <td>에너지</td>\n",
       "      <td>2023-03-16</td>\n",
       "      <td>전기차 충전기 살펴보는 이재명 대표</td>\n",
       "      <td>한국전기차사용자협회가 주최하는 EVuff@EV트렌드코리아 세미나가 '충전인프라 공급...</td>\n",
       "    </tr>\n",
       "    <tr>\n",
       "      <th>0</th>\n",
       "      <td>에너지</td>\n",
       "      <td>2023-03-16</td>\n",
       "      <td>정부, 올 하반기 수소특화단지 지정 시작</td>\n",
       "      <td>산업통상자원부가 올해 하반기 수소특화단지 지정 절차를 시작한다. 수소기업이 밀집한 ...</td>\n",
       "    </tr>\n",
       "    <tr>\n",
       "      <th>0</th>\n",
       "      <td>에너지</td>\n",
       "      <td>2023-03-16</td>\n",
       "      <td>정부, 신재생에너지 사업자에 2970억원 보증 공급</td>\n",
       "      <td>정부가 올해 신재생에너지 사업자에 2970억원 보증을 공급한다. 자가용 발전까지 지...</td>\n",
       "    </tr>\n",
       "    <tr>\n",
       "      <th>0</th>\n",
       "      <td>에너지</td>\n",
       "      <td>2023-03-16</td>\n",
       "      <td>황주호 한수원 사장, 아프리카 원자력 콘퍼런스서 연설</td>\n",
       "      <td>황주호 한국수력원자력 사장이 15일(현지시간) 우간다 캄팔라에서 개최된 '아프리카 ...</td>\n",
       "    </tr>\n",
       "  </tbody>\n",
       "</table>\n",
       "<p>1202 rows × 4 columns</p>\n",
       "</div>"
      ],
      "text/plain": [
       "     분야         발행일                                           제목  \\\n",
       "0   에너지  2023-09-15  바스티안-유스투스 슈미트 인앱터 회장 “AEM 수전해, 내년까지 경제성 확보”   \n",
       "0   에너지  2023-09-15  E-순환거버넌스, 쌍용씨앤비, 모나리자와 E-waste 자원순환 업무협약 체결   \n",
       "0   에너지  2023-09-15               한양대 ERICA, DC그리드 에너지 혁신연구센터 개소   \n",
       "0   에너지  2023-09-15   최태원 SK 회장 “울산, 디지털화로 제조 AI 중심 소프트웨어 메카될 것”   \n",
       "0   에너지  2023-09-14                       장동민 “이건 개그 아니에요!” [숏폼]   \n",
       "..  ...         ...                                          ...   \n",
       "0   에너지  2023-03-16        환경부 '플레어스택' 규제 혁신…“탄소배출량 148만톤 감축 기대”   \n",
       "0   에너지  2023-03-16                          전기차 충전기 살펴보는 이재명 대표   \n",
       "0   에너지  2023-03-16                       정부, 올 하반기 수소특화단지 지정 시작   \n",
       "0   에너지  2023-03-16                 정부, 신재생에너지 사업자에 2970억원 보증 공급   \n",
       "0   에너지  2023-03-16                황주호 한수원 사장, 아프리카 원자력 콘퍼런스서 연설   \n",
       "\n",
       "                                                   내용  \n",
       "0   “인앱터(Enapter)는 2년 안에 음이온교환막(AEM) 수전해 설비의 경제성을 ...  \n",
       "0   E-순환거버넌스(이사장 정덕기)는 지난 14일 쌍용씨앤비, 모나리자와 E-waste...  \n",
       "0   한양대 ERICA(총장 이기정)가 'DC그리드 에너지 혁신연구센터(센터장 이방욱)'...  \n",
       "0   최태원 SK회장이 울산이 인공지능(AI) 중심의 소프트웨어 메카 도시로 재도약할 수...  \n",
       "0   병뚜껑을 돌리는 동시에 페트병 라벨이 동시에 분리된다고? 아파트 분리수거 날이면 제...  \n",
       "..                                                ...  \n",
       "0   환경부가 '가스연소 굴뚝(플레어스택)' 시설 관리 규정 등을 합리화하는 등 산업현장...  \n",
       "0   한국전기차사용자협회가 주최하는 EVuff@EV트렌드코리아 세미나가 '충전인프라 공급...  \n",
       "0   산업통상자원부가 올해 하반기 수소특화단지 지정 절차를 시작한다. 수소기업이 밀집한 ...  \n",
       "0   정부가 올해 신재생에너지 사업자에 2970억원 보증을 공급한다. 자가용 발전까지 지...  \n",
       "0   황주호 한국수력원자력 사장이 15일(현지시간) 우간다 캄팔라에서 개최된 '아프리카 ...  \n",
       "\n",
       "[1202 rows x 4 columns]"
      ]
     },
     "execution_count": 15,
     "metadata": {},
     "output_type": "execute_result"
    }
   ],
   "source": [
    "crawl_df"
   ]
  },
  {
   "cell_type": "code",
   "execution_count": 78,
   "id": "03409c12-7ed7-4277-9a42-2694bdc31aa5",
   "metadata": {},
   "outputs": [],
   "source": [
    "crawl_df.to_csv(\"kimdamhyang_collect.csv\", mode='a', header=False)"
   ]
  },
  {
   "cell_type": "code",
   "execution_count": null,
   "id": "fe97f4b9-ba69-4461-af57-19b4103f1867",
   "metadata": {},
   "outputs": [],
   "source": [
    "\"\"\"2. 가공 및 처리\n",
    "수집한 csv파일에서 에너지 관련 단어의 빈도수를 도출한다.\n",
    "(전기, 에너지, 원자력, 수력, 화력)\n",
    "=======================================================================\n",
    "분야 | 발행일 | 제목 | 내용 | 전기(빈도수) | 에너지(빈도수) | 수력(빈도수)....\"\"\""
   ]
  },
  {
   "cell_type": "code",
   "execution_count": 109,
   "id": "c905314c-22bc-4d8d-8b4c-6c8b1e212827",
   "metadata": {
    "tags": []
   },
   "outputs": [],
   "source": [
    "df = pd.read_csv('kimdamhyang_collect.csv')"
   ]
  },
  {
   "cell_type": "code",
   "execution_count": 110,
   "id": "3b014c25-af56-498b-8f1d-74437956c130",
   "metadata": {
    "tags": []
   },
   "outputs": [
    {
     "data": {
      "text/plain": [
       "(2717, 5)"
      ]
     },
     "execution_count": 110,
     "metadata": {},
     "output_type": "execute_result"
    }
   ],
   "source": [
    "df.shape"
   ]
  },
  {
   "cell_type": "code",
   "execution_count": 111,
   "id": "3dcd61c8-0148-4881-a11a-eeedd75f47a8",
   "metadata": {
    "tags": []
   },
   "outputs": [
    {
     "data": {
      "text/html": [
       "<div>\n",
       "<style scoped>\n",
       "    .dataframe tbody tr th:only-of-type {\n",
       "        vertical-align: middle;\n",
       "    }\n",
       "\n",
       "    .dataframe tbody tr th {\n",
       "        vertical-align: top;\n",
       "    }\n",
       "\n",
       "    .dataframe thead th {\n",
       "        text-align: right;\n",
       "    }\n",
       "</style>\n",
       "<table border=\"1\" class=\"dataframe\">\n",
       "  <thead>\n",
       "    <tr style=\"text-align: right;\">\n",
       "      <th></th>\n",
       "      <th>Unnamed: 0</th>\n",
       "      <th>분야</th>\n",
       "      <th>발행일</th>\n",
       "      <th>제목</th>\n",
       "      <th>내용</th>\n",
       "    </tr>\n",
       "  </thead>\n",
       "  <tbody>\n",
       "    <tr>\n",
       "      <th>0</th>\n",
       "      <td>0</td>\n",
       "      <td>과학</td>\n",
       "      <td>2023-09-13</td>\n",
       "      <td>[과학기술이 미래다] 〈102〉국내 첫 퍼스널 컴퓨터 경진대회</td>\n",
       "      <td>1984년 4월 22일. 제1회 퍼스널 컴퓨터 경진대회가 이날 오전 9시 서울 송파...</td>\n",
       "    </tr>\n",
       "    <tr>\n",
       "      <th>1</th>\n",
       "      <td>0</td>\n",
       "      <td>과학</td>\n",
       "      <td>2023-09-13</td>\n",
       "      <td>나노·소재 성과공유회</td>\n",
       "      <td>나노·소재분야 R&amp;D 정책 및 우수 연구성과를 발표하고 성과물을 공유하는 나노·소재...</td>\n",
       "    </tr>\n",
       "    <tr>\n",
       "      <th>2</th>\n",
       "      <td>0</td>\n",
       "      <td>과학</td>\n",
       "      <td>2023-09-12</td>\n",
       "      <td>[알림] 테크비즈코리아 2023</td>\n",
       "      <td>전자신문사가 올해에도 우리 연구 현장의 사업화 유망기술을 민간기업과 투자자에 소개하...</td>\n",
       "    </tr>\n",
       "    <tr>\n",
       "      <th>3</th>\n",
       "      <td>0</td>\n",
       "      <td>과학</td>\n",
       "      <td>2023-09-12</td>\n",
       "      <td>드럼치는 로봇 '모펫' 입니다</td>\n",
       "      <td>국내 연구진이 음악 빅데이터 기반 인공지능(AI)을 통해 인간과 상호작용하며 합주 ...</td>\n",
       "    </tr>\n",
       "    <tr>\n",
       "      <th>4</th>\n",
       "      <td>0</td>\n",
       "      <td>과학</td>\n",
       "      <td>2023-09-11</td>\n",
       "      <td>드럼치는 로봇 '모펫' 입니다</td>\n",
       "      <td>국내 연구진이 음악 빅데이터 기반 인공지능(AI)을 통해 인간과 상호작용하며 합주 ...</td>\n",
       "    </tr>\n",
       "  </tbody>\n",
       "</table>\n",
       "</div>"
      ],
      "text/plain": [
       "   Unnamed: 0  분야         발행일                                  제목  \\\n",
       "0           0  과학  2023-09-13  [과학기술이 미래다] 〈102〉국내 첫 퍼스널 컴퓨터 경진대회   \n",
       "1           0  과학  2023-09-13                         나노·소재 성과공유회   \n",
       "2           0  과학  2023-09-12                   [알림] 테크비즈코리아 2023   \n",
       "3           0  과학  2023-09-12                    드럼치는 로봇 '모펫' 입니다   \n",
       "4           0  과학  2023-09-11                    드럼치는 로봇 '모펫' 입니다   \n",
       "\n",
       "                                                  내용  \n",
       "0  1984년 4월 22일. 제1회 퍼스널 컴퓨터 경진대회가 이날 오전 9시 서울 송파...  \n",
       "1  나노·소재분야 R&D 정책 및 우수 연구성과를 발표하고 성과물을 공유하는 나노·소재...  \n",
       "2  전자신문사가 올해에도 우리 연구 현장의 사업화 유망기술을 민간기업과 투자자에 소개하...  \n",
       "3  국내 연구진이 음악 빅데이터 기반 인공지능(AI)을 통해 인간과 상호작용하며 합주 ...  \n",
       "4  국내 연구진이 음악 빅데이터 기반 인공지능(AI)을 통해 인간과 상호작용하며 합주 ...  "
      ]
     },
     "execution_count": 111,
     "metadata": {},
     "output_type": "execute_result"
    }
   ],
   "source": [
    "df.head()"
   ]
  },
  {
   "cell_type": "code",
   "execution_count": 112,
   "id": "4f5856ea-3b92-4e06-a8cc-b03dddbe2d92",
   "metadata": {
    "tags": []
   },
   "outputs": [],
   "source": [
    "df = df.iloc[:,1:]"
   ]
  },
  {
   "cell_type": "code",
   "execution_count": 113,
   "id": "35a6c668-8c54-4488-84f8-755af40e4ac0",
   "metadata": {
    "tags": []
   },
   "outputs": [
    {
     "data": {
      "text/html": [
       "<div>\n",
       "<style scoped>\n",
       "    .dataframe tbody tr th:only-of-type {\n",
       "        vertical-align: middle;\n",
       "    }\n",
       "\n",
       "    .dataframe tbody tr th {\n",
       "        vertical-align: top;\n",
       "    }\n",
       "\n",
       "    .dataframe thead th {\n",
       "        text-align: right;\n",
       "    }\n",
       "</style>\n",
       "<table border=\"1\" class=\"dataframe\">\n",
       "  <thead>\n",
       "    <tr style=\"text-align: right;\">\n",
       "      <th></th>\n",
       "      <th>분야</th>\n",
       "      <th>발행일</th>\n",
       "      <th>제목</th>\n",
       "      <th>내용</th>\n",
       "    </tr>\n",
       "  </thead>\n",
       "  <tbody>\n",
       "    <tr>\n",
       "      <th>0</th>\n",
       "      <td>과학</td>\n",
       "      <td>2023-09-13</td>\n",
       "      <td>[과학기술이 미래다] 〈102〉국내 첫 퍼스널 컴퓨터 경진대회</td>\n",
       "      <td>1984년 4월 22일. 제1회 퍼스널 컴퓨터 경진대회가 이날 오전 9시 서울 송파...</td>\n",
       "    </tr>\n",
       "    <tr>\n",
       "      <th>1</th>\n",
       "      <td>과학</td>\n",
       "      <td>2023-09-13</td>\n",
       "      <td>나노·소재 성과공유회</td>\n",
       "      <td>나노·소재분야 R&amp;D 정책 및 우수 연구성과를 발표하고 성과물을 공유하는 나노·소재...</td>\n",
       "    </tr>\n",
       "    <tr>\n",
       "      <th>2</th>\n",
       "      <td>과학</td>\n",
       "      <td>2023-09-12</td>\n",
       "      <td>[알림] 테크비즈코리아 2023</td>\n",
       "      <td>전자신문사가 올해에도 우리 연구 현장의 사업화 유망기술을 민간기업과 투자자에 소개하...</td>\n",
       "    </tr>\n",
       "    <tr>\n",
       "      <th>3</th>\n",
       "      <td>과학</td>\n",
       "      <td>2023-09-12</td>\n",
       "      <td>드럼치는 로봇 '모펫' 입니다</td>\n",
       "      <td>국내 연구진이 음악 빅데이터 기반 인공지능(AI)을 통해 인간과 상호작용하며 합주 ...</td>\n",
       "    </tr>\n",
       "    <tr>\n",
       "      <th>4</th>\n",
       "      <td>과학</td>\n",
       "      <td>2023-09-11</td>\n",
       "      <td>드럼치는 로봇 '모펫' 입니다</td>\n",
       "      <td>국내 연구진이 음악 빅데이터 기반 인공지능(AI)을 통해 인간과 상호작용하며 합주 ...</td>\n",
       "    </tr>\n",
       "  </tbody>\n",
       "</table>\n",
       "</div>"
      ],
      "text/plain": [
       "   분야         발행일                                  제목  \\\n",
       "0  과학  2023-09-13  [과학기술이 미래다] 〈102〉국내 첫 퍼스널 컴퓨터 경진대회   \n",
       "1  과학  2023-09-13                         나노·소재 성과공유회   \n",
       "2  과학  2023-09-12                   [알림] 테크비즈코리아 2023   \n",
       "3  과학  2023-09-12                    드럼치는 로봇 '모펫' 입니다   \n",
       "4  과학  2023-09-11                    드럼치는 로봇 '모펫' 입니다   \n",
       "\n",
       "                                                  내용  \n",
       "0  1984년 4월 22일. 제1회 퍼스널 컴퓨터 경진대회가 이날 오전 9시 서울 송파...  \n",
       "1  나노·소재분야 R&D 정책 및 우수 연구성과를 발표하고 성과물을 공유하는 나노·소재...  \n",
       "2  전자신문사가 올해에도 우리 연구 현장의 사업화 유망기술을 민간기업과 투자자에 소개하...  \n",
       "3  국내 연구진이 음악 빅데이터 기반 인공지능(AI)을 통해 인간과 상호작용하며 합주 ...  \n",
       "4  국내 연구진이 음악 빅데이터 기반 인공지능(AI)을 통해 인간과 상호작용하며 합주 ...  "
      ]
     },
     "execution_count": 113,
     "metadata": {},
     "output_type": "execute_result"
    }
   ],
   "source": [
    "df.head()"
   ]
  },
  {
   "cell_type": "code",
   "execution_count": 114,
   "id": "ee696b73-6f15-4454-9189-e619386f2cba",
   "metadata": {
    "tags": []
   },
   "outputs": [
    {
     "data": {
      "text/plain": [
       "분야      0\n",
       "발행일     0\n",
       "제목      0\n",
       "내용     12\n",
       "dtype: int64"
      ]
     },
     "execution_count": 114,
     "metadata": {},
     "output_type": "execute_result"
    }
   ],
   "source": [
    "df.isna().sum()"
   ]
  },
  {
   "cell_type": "code",
   "execution_count": 115,
   "id": "756f8a43-8028-45b5-a532-28b96acda9b3",
   "metadata": {
    "tags": []
   },
   "outputs": [],
   "source": [
    "df1= df.replace(np.nan, '없음')"
   ]
  },
  {
   "cell_type": "code",
   "execution_count": 116,
   "id": "3769ea99-15e4-47a4-aad2-b6a233f3df1c",
   "metadata": {
    "tags": []
   },
   "outputs": [
    {
     "data": {
      "text/html": [
       "<div>\n",
       "<style scoped>\n",
       "    .dataframe tbody tr th:only-of-type {\n",
       "        vertical-align: middle;\n",
       "    }\n",
       "\n",
       "    .dataframe tbody tr th {\n",
       "        vertical-align: top;\n",
       "    }\n",
       "\n",
       "    .dataframe thead th {\n",
       "        text-align: right;\n",
       "    }\n",
       "</style>\n",
       "<table border=\"1\" class=\"dataframe\">\n",
       "  <thead>\n",
       "    <tr style=\"text-align: right;\">\n",
       "      <th></th>\n",
       "      <th>분야</th>\n",
       "      <th>발행일</th>\n",
       "      <th>제목</th>\n",
       "      <th>내용</th>\n",
       "    </tr>\n",
       "  </thead>\n",
       "  <tbody>\n",
       "    <tr>\n",
       "      <th>0</th>\n",
       "      <td>과학</td>\n",
       "      <td>2023-09-13</td>\n",
       "      <td>[과학기술이 미래다] 〈102〉국내 첫 퍼스널 컴퓨터 경진대회</td>\n",
       "      <td>1984년 4월 22일. 제1회 퍼스널 컴퓨터 경진대회가 이날 오전 9시 서울 송파...</td>\n",
       "    </tr>\n",
       "    <tr>\n",
       "      <th>1</th>\n",
       "      <td>과학</td>\n",
       "      <td>2023-09-13</td>\n",
       "      <td>나노·소재 성과공유회</td>\n",
       "      <td>나노·소재분야 R&amp;D 정책 및 우수 연구성과를 발표하고 성과물을 공유하는 나노·소재...</td>\n",
       "    </tr>\n",
       "    <tr>\n",
       "      <th>2</th>\n",
       "      <td>과학</td>\n",
       "      <td>2023-09-12</td>\n",
       "      <td>[알림] 테크비즈코리아 2023</td>\n",
       "      <td>전자신문사가 올해에도 우리 연구 현장의 사업화 유망기술을 민간기업과 투자자에 소개하...</td>\n",
       "    </tr>\n",
       "    <tr>\n",
       "      <th>3</th>\n",
       "      <td>과학</td>\n",
       "      <td>2023-09-12</td>\n",
       "      <td>드럼치는 로봇 '모펫' 입니다</td>\n",
       "      <td>국내 연구진이 음악 빅데이터 기반 인공지능(AI)을 통해 인간과 상호작용하며 합주 ...</td>\n",
       "    </tr>\n",
       "    <tr>\n",
       "      <th>4</th>\n",
       "      <td>과학</td>\n",
       "      <td>2023-09-11</td>\n",
       "      <td>드럼치는 로봇 '모펫' 입니다</td>\n",
       "      <td>국내 연구진이 음악 빅데이터 기반 인공지능(AI)을 통해 인간과 상호작용하며 합주 ...</td>\n",
       "    </tr>\n",
       "  </tbody>\n",
       "</table>\n",
       "</div>"
      ],
      "text/plain": [
       "   분야         발행일                                  제목  \\\n",
       "0  과학  2023-09-13  [과학기술이 미래다] 〈102〉국내 첫 퍼스널 컴퓨터 경진대회   \n",
       "1  과학  2023-09-13                         나노·소재 성과공유회   \n",
       "2  과학  2023-09-12                   [알림] 테크비즈코리아 2023   \n",
       "3  과학  2023-09-12                    드럼치는 로봇 '모펫' 입니다   \n",
       "4  과학  2023-09-11                    드럼치는 로봇 '모펫' 입니다   \n",
       "\n",
       "                                                  내용  \n",
       "0  1984년 4월 22일. 제1회 퍼스널 컴퓨터 경진대회가 이날 오전 9시 서울 송파...  \n",
       "1  나노·소재분야 R&D 정책 및 우수 연구성과를 발표하고 성과물을 공유하는 나노·소재...  \n",
       "2  전자신문사가 올해에도 우리 연구 현장의 사업화 유망기술을 민간기업과 투자자에 소개하...  \n",
       "3  국내 연구진이 음악 빅데이터 기반 인공지능(AI)을 통해 인간과 상호작용하며 합주 ...  \n",
       "4  국내 연구진이 음악 빅데이터 기반 인공지능(AI)을 통해 인간과 상호작용하며 합주 ...  "
      ]
     },
     "execution_count": 116,
     "metadata": {},
     "output_type": "execute_result"
    }
   ],
   "source": [
    "df1.head()"
   ]
  },
  {
   "cell_type": "code",
   "execution_count": 117,
   "id": "cae75047-8e66-496d-9a29-8a9522443135",
   "metadata": {
    "tags": []
   },
   "outputs": [
    {
     "data": {
      "text/plain": [
       "Index(['분야', '발행일', '제목', '내용'], dtype='object')"
      ]
     },
     "execution_count": 117,
     "metadata": {},
     "output_type": "execute_result"
    }
   ],
   "source": [
    "df1.columns"
   ]
  },
  {
   "cell_type": "code",
   "execution_count": 118,
   "id": "ddecade0-d8b8-4164-82ba-66bb9e433afc",
   "metadata": {
    "tags": []
   },
   "outputs": [
    {
     "data": {
      "text/plain": [
       "(2717, 4)"
      ]
     },
     "execution_count": 118,
     "metadata": {},
     "output_type": "execute_result"
    }
   ],
   "source": [
    "df1.shape"
   ]
  },
  {
   "cell_type": "code",
   "execution_count": 123,
   "id": "68f46ee0-5842-44f6-bc48-325a1c7386e6",
   "metadata": {
    "tags": []
   },
   "outputs": [
    {
     "data": {
      "text/plain": [
       "1220"
      ]
     },
     "execution_count": 123,
     "metadata": {},
     "output_type": "execute_result"
    }
   ],
   "source": [
    "sum(df1.duplicated(subset = ['제목', '내용']))"
   ]
  },
  {
   "cell_type": "code",
   "execution_count": 125,
   "id": "81ff3810-7a34-4bcb-b0fc-ae9fe3afcb71",
   "metadata": {
    "tags": []
   },
   "outputs": [],
   "source": [
    "df2 = df1.drop_duplicates(['제목', '내용'],keep='first')"
   ]
  },
  {
   "cell_type": "code",
   "execution_count": 127,
   "id": "0f2be6d5-8e95-4a29-a6db-38954df18cd3",
   "metadata": {
    "tags": []
   },
   "outputs": [
    {
     "data": {
      "text/html": [
       "<div>\n",
       "<style scoped>\n",
       "    .dataframe tbody tr th:only-of-type {\n",
       "        vertical-align: middle;\n",
       "    }\n",
       "\n",
       "    .dataframe tbody tr th {\n",
       "        vertical-align: top;\n",
       "    }\n",
       "\n",
       "    .dataframe thead th {\n",
       "        text-align: right;\n",
       "    }\n",
       "</style>\n",
       "<table border=\"1\" class=\"dataframe\">\n",
       "  <thead>\n",
       "    <tr style=\"text-align: right;\">\n",
       "      <th></th>\n",
       "      <th>분야</th>\n",
       "      <th>발행일</th>\n",
       "      <th>제목</th>\n",
       "      <th>내용</th>\n",
       "    </tr>\n",
       "  </thead>\n",
       "  <tbody>\n",
       "    <tr>\n",
       "      <th>0</th>\n",
       "      <td>과학</td>\n",
       "      <td>2023-09-13</td>\n",
       "      <td>[과학기술이 미래다] 〈102〉국내 첫 퍼스널 컴퓨터 경진대회</td>\n",
       "      <td>1984년 4월 22일. 제1회 퍼스널 컴퓨터 경진대회가 이날 오전 9시 서울 송파...</td>\n",
       "    </tr>\n",
       "    <tr>\n",
       "      <th>1</th>\n",
       "      <td>과학</td>\n",
       "      <td>2023-09-13</td>\n",
       "      <td>나노·소재 성과공유회</td>\n",
       "      <td>나노·소재분야 R&amp;D 정책 및 우수 연구성과를 발표하고 성과물을 공유하는 나노·소재...</td>\n",
       "    </tr>\n",
       "    <tr>\n",
       "      <th>2</th>\n",
       "      <td>과학</td>\n",
       "      <td>2023-09-12</td>\n",
       "      <td>[알림] 테크비즈코리아 2023</td>\n",
       "      <td>전자신문사가 올해에도 우리 연구 현장의 사업화 유망기술을 민간기업과 투자자에 소개하...</td>\n",
       "    </tr>\n",
       "    <tr>\n",
       "      <th>3</th>\n",
       "      <td>과학</td>\n",
       "      <td>2023-09-12</td>\n",
       "      <td>드럼치는 로봇 '모펫' 입니다</td>\n",
       "      <td>국내 연구진이 음악 빅데이터 기반 인공지능(AI)을 통해 인간과 상호작용하며 합주 ...</td>\n",
       "    </tr>\n",
       "    <tr>\n",
       "      <th>4</th>\n",
       "      <td>과학</td>\n",
       "      <td>2023-09-11</td>\n",
       "      <td>드럼치는 로봇 '모펫' 입니다</td>\n",
       "      <td>국내 연구진이 음악 빅데이터 기반 인공지능(AI)을 통해 인간과 상호작용하며 합주 ...</td>\n",
       "    </tr>\n",
       "  </tbody>\n",
       "</table>\n",
       "</div>"
      ],
      "text/plain": [
       "   분야         발행일                                  제목  \\\n",
       "0  과학  2023-09-13  [과학기술이 미래다] 〈102〉국내 첫 퍼스널 컴퓨터 경진대회   \n",
       "1  과학  2023-09-13                         나노·소재 성과공유회   \n",
       "2  과학  2023-09-12                   [알림] 테크비즈코리아 2023   \n",
       "3  과학  2023-09-12                    드럼치는 로봇 '모펫' 입니다   \n",
       "4  과학  2023-09-11                    드럼치는 로봇 '모펫' 입니다   \n",
       "\n",
       "                                                  내용  \n",
       "0  1984년 4월 22일. 제1회 퍼스널 컴퓨터 경진대회가 이날 오전 9시 서울 송파...  \n",
       "1  나노·소재분야 R&D 정책 및 우수 연구성과를 발표하고 성과물을 공유하는 나노·소재...  \n",
       "2  전자신문사가 올해에도 우리 연구 현장의 사업화 유망기술을 민간기업과 투자자에 소개하...  \n",
       "3  국내 연구진이 음악 빅데이터 기반 인공지능(AI)을 통해 인간과 상호작용하며 합주 ...  \n",
       "4  국내 연구진이 음악 빅데이터 기반 인공지능(AI)을 통해 인간과 상호작용하며 합주 ...  "
      ]
     },
     "execution_count": 127,
     "metadata": {},
     "output_type": "execute_result"
    }
   ],
   "source": [
    "df2.head()"
   ]
  },
  {
   "cell_type": "code",
   "execution_count": 128,
   "id": "b22f51a2-c82d-4151-ae98-14e659e08569",
   "metadata": {
    "tags": []
   },
   "outputs": [
    {
     "data": {
      "text/plain": [
       "(1497, 4)"
      ]
     },
     "execution_count": 128,
     "metadata": {},
     "output_type": "execute_result"
    }
   ],
   "source": [
    "df2.shape"
   ]
  },
  {
   "cell_type": "code",
   "execution_count": 134,
   "id": "f0763a06-cde1-4730-8f53-95955a0aadbd",
   "metadata": {
    "tags": []
   },
   "outputs": [],
   "source": [
    "freq_electrocity=df2['내용'].str.count('전기')"
   ]
  },
  {
   "cell_type": "code",
   "execution_count": 135,
   "id": "06bb7905-c040-40b1-b6c2-f95b44d2098f",
   "metadata": {
    "tags": []
   },
   "outputs": [],
   "source": [
    "freq_energy=df2['내용'].str.count('에너지')"
   ]
  },
  {
   "cell_type": "code",
   "execution_count": null,
   "id": "01512fe0-161b-432e-ba03-a990c5c5e0a7",
   "metadata": {},
   "outputs": [],
   "source": [
    "freq_energy=df2['내용'].str.count('에너지')"
   ]
  },
  {
   "cell_type": "code",
   "execution_count": null,
   "id": "6238fa9b-0f09-4891-9ce7-9e0ab72ec822",
   "metadata": {},
   "outputs": [],
   "source": []
  },
  {
   "cell_type": "code",
   "execution_count": null,
   "id": "d6829f06-e0a8-4f4f-9d55-00de1e01d146",
   "metadata": {},
   "outputs": [],
   "source": []
  },
  {
   "cell_type": "code",
   "execution_count": 17,
   "id": "380b57ef-395b-4618-95e1-c1e0e15c044b",
   "metadata": {
    "tags": []
   },
   "outputs": [],
   "source": [
    "# crawl_df = pd.DataFrame(columns=['분야','발행일','제목','내용','전기(빈도수)',\\\n",
    "#                                  '에너지(빈도수)', '원자력(빈도수)', '수력(빈도수)', '화력(빈도수)'])"
   ]
  },
  {
   "cell_type": "code",
   "execution_count": null,
   "id": "ef61976e-c50c-41f5-9e75-6d422a6065b9",
   "metadata": {},
   "outputs": [],
   "source": []
  },
  {
   "cell_type": "code",
   "execution_count": 18,
   "id": "b88f98f7-9866-4d24-98f3-f05daab70a3e",
   "metadata": {
    "tags": []
   },
   "outputs": [],
   "source": [
    "# 1-3. 기사의 '분야','발행일','제목','내용','전기(빈도수)',\n",
    "#      '에너지(빈도수)', '원자력(빈도수)', '수력(빈도수)', '화력(빈도수)' 정보를 추출해보자."
   ]
  }
 ],
 "metadata": {
  "kernelspec": {
   "display_name": "Python 3 (ipykernel)",
   "language": "python",
   "name": "python3"
  },
  "language_info": {
   "codemirror_mode": {
    "name": "ipython",
    "version": 3
   },
   "file_extension": ".py",
   "mimetype": "text/x-python",
   "name": "python",
   "nbconvert_exporter": "python",
   "pygments_lexer": "ipython3",
   "version": "3.11.4"
  }
 },
 "nbformat": 4,
 "nbformat_minor": 5
}
