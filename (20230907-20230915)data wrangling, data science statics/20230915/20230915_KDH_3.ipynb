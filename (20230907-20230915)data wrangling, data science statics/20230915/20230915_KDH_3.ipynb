{
 "cells": [
  {
   "cell_type": "code",
   "execution_count": 1,
   "id": "67805ea4-123f-40d3-8251-3dc196bd8dd9",
   "metadata": {
    "tags": []
   },
   "outputs": [],
   "source": [
    "import numpy as np\n",
    "import pandas as pd\n",
    "\n",
    "from urllib.request import urlopen\n",
    "from bs4 import BeautifulSoup as bs\n",
    "\n",
    "##target_url_energy : 소분야_에너지\n",
    "target_url_energy = 'https://www.etnews.com/news/section.html?id1=20&id2=065'"
   ]
  },
  {
   "cell_type": "code",
   "execution_count": 2,
   "id": "6579ba69-6716-4336-9138-0b8edf24363f",
   "metadata": {
    "tags": []
   },
   "outputs": [],
   "source": [
    "crawl_df = pd.DataFrame(columns=['분야','발행일','제목','내용'])"
   ]
  },
  {
   "cell_type": "code",
   "execution_count": 9,
   "id": "14e4ee68-2621-40ec-aab8-03831020caa8",
   "metadata": {
    "tags": []
   },
   "outputs": [
    {
     "ename": "AttributeError",
     "evalue": "'NoneType' object has no attribute 'text'",
     "output_type": "error",
     "traceback": [
      "\u001b[1;31m---------------------------------------------------------------------------\u001b[0m",
      "\u001b[1;31mAttributeError\u001b[0m                            Traceback (most recent call last)",
      "Cell \u001b[1;32mIn[9], line 8\u001b[0m\n\u001b[0;32m      6\u001b[0m html_last_page\u001b[38;5;241m=\u001b[39m urlopen(url_last_page)\n\u001b[0;32m      7\u001b[0m soup_last_page \u001b[38;5;241m=\u001b[39m bs(html\u001b[38;5;241m.\u001b[39mread(),\u001b[38;5;124m\"\u001b[39m\u001b[38;5;124mhtml.parser\u001b[39m\u001b[38;5;124m\"\u001b[39m)\n\u001b[1;32m----> 8\u001b[0m last_page \u001b[38;5;241m=\u001b[39m \u001b[43msoup_last_page\u001b[49m\u001b[38;5;241;43m.\u001b[39;49m\u001b[43mfind\u001b[49m\u001b[43m(\u001b[49m\u001b[38;5;124;43m'\u001b[39;49m\u001b[38;5;124;43ma\u001b[39;49m\u001b[38;5;124;43m'\u001b[39;49m\u001b[43m,\u001b[49m\u001b[43m{\u001b[49m\u001b[38;5;124;43m'\u001b[39;49m\u001b[38;5;124;43mhref\u001b[39;49m\u001b[38;5;124;43m'\u001b[39;49m\u001b[43m:\u001b[49m\u001b[38;5;124;43m'\u001b[39;49m\u001b[38;5;124;43mjavascript:;\u001b[39;49m\u001b[38;5;124;43m'\u001b[39;49m\u001b[43m}\u001b[49m\u001b[43m)\u001b[49m\u001b[38;5;241;43m.\u001b[39;49m\u001b[43mtext\u001b[49m\n\u001b[0;32m     10\u001b[0m \u001b[38;5;66;03m# 소분야_과학의 모든 페이지에서 기사의 링크를 수집한다.\u001b[39;00m\n\u001b[0;32m     11\u001b[0m article_url \u001b[38;5;241m=\u001b[39m []\n",
      "\u001b[1;31mAttributeError\u001b[0m: 'NoneType' object has no attribute 'text'"
     ]
    }
   ],
   "source": [
    "#1 소분야_과학에서 crawl_df만들기\n",
    "    #target_url_science의 last_page보다 무조건 큰수(1000)를 가진 url을 입력. 그러면 last_page로 저절로 이동함. 그리고 last_page를 수집함.\n",
    "target_url_science ='https://www.etnews.com/news/section.html?id1=20&id2=020'\n",
    "    \n",
    "url_last_page = target_url_science + '&page=100'\n",
    "html_last_page= urlopen(url_last_page)\n",
    "soup_last_page = bs(html.read(),\"html.parser\")\n",
    "last_page = soup_last_page.find('a',{'href':'javascript:;'}).text\n",
    "\n",
    "# 소분야_과학의 모든 페이지에서 기사의 링크를 수집한다.\n",
    "article_url = []\n",
    "base_url = \"https://www.etnews.com\"\n",
    "for page in range(1,int(last_page)+1):\n",
    "    url_page = target_url_science + \"&page=\" + str(page)\n",
    "    html_page = urlopen(url_page)\n",
    "    soup_page = bs(html_page.read(),\"html.parser\")\n",
    "    \n",
    "    for links in soup_page.select('p > a'):\n",
    "        link = links.attrs['href']\n",
    "        if \"https\" not in link:\n",
    "            article_url.append(base_url+link)\n",
    "            \n",
    "# for link in link_url:\n",
    "#     html = urlopen(link)\n",
    "#     soup = bs(html.read(),'html.parser')\n",
    "    \n",
    "#     category = '과학'\n",
    "    \n",
    "#     date = soup.find_all('time', {'class':'date'})[0].text[6:16]\n",
    "\n",
    "#     title = soup.find_all('h2')[0].text\n",
    "    \n",
    "#     draft = soup.find_all('p')\n",
    "\n",
    "#     context = ''   \n",
    "#     for i in draft:\n",
    "#         if i.a == None:\n",
    "#             i = i.text.replace(\"\\n\",\"\")\n",
    "#             context += i\n",
    "            \n",
    "#     tmp_df = pd.DataFrame([[category,date,title,context]],columns=crawl_df.columns)\n",
    "#     crawl_df = pd.concat([crawl_df, tmp_df])\n",
    "    \n",
    "# crawl_df.to_csv(\"kimdamhyang_collect.csv\", mode='w')"
   ]
  },
  {
   "cell_type": "code",
   "execution_count": 8,
   "id": "5ddf5e53-7b18-4fcc-8def-2954f2efa068",
   "metadata": {
    "tags": []
   },
   "outputs": [
    {
     "data": {
      "text/plain": [
       "'21'"
      ]
     },
     "execution_count": 8,
     "metadata": {},
     "output_type": "execute_result"
    }
   ],
   "source": [
    "last_page"
   ]
  },
  {
   "cell_type": "code",
   "execution_count": null,
   "id": "380b57ef-395b-4618-95e1-c1e0e15c044b",
   "metadata": {
    "tags": []
   },
   "outputs": [],
   "source": [
    "crawl_df = pd.DataFrame(columns=['분야','발행일','제목','내용','전기(빈도수)',\\\n",
    "                                 '에너지(빈도수)', '원자력(빈도수)', '수력(빈도수)', '화력(빈도수)'])"
   ]
  },
  {
   "cell_type": "code",
   "execution_count": null,
   "id": "b88f98f7-9866-4d24-98f3-f05daab70a3e",
   "metadata": {
    "tags": []
   },
   "outputs": [],
   "source": [
    "# 1-3. 기사의 '분야','발행일','제목','내용','전기(빈도수)',\n",
    "#      '에너지(빈도수)', '원자력(빈도수)', '수력(빈도수)', '화력(빈도수)' 정보를 추출해보자."
   ]
  }
 ],
 "metadata": {
  "kernelspec": {
   "display_name": "Python 3 (ipykernel)",
   "language": "python",
   "name": "python3"
  },
  "language_info": {
   "codemirror_mode": {
    "name": "ipython",
    "version": 3
   },
   "file_extension": ".py",
   "mimetype": "text/x-python",
   "name": "python",
   "nbconvert_exporter": "python",
   "pygments_lexer": "ipython3",
   "version": "3.11.4"
  }
 },
 "nbformat": 4,
 "nbformat_minor": 5
}
