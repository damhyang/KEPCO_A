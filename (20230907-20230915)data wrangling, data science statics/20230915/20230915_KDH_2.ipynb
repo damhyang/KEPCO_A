{
 "cells": [
  {
   "cell_type": "code",
   "execution_count": 1,
   "id": "67805ea4-123f-40d3-8251-3dc196bd8dd9",
   "metadata": {
    "tags": []
   },
   "outputs": [],
   "source": [
    "import numpy as np\n",
    "import pandas as pd\n",
    "\n",
    "from urllib.request import urlopen\n",
    "from bs4 import BeautifulSoup as bs"
   ]
  },
  {
   "cell_type": "code",
   "execution_count": 2,
   "id": "14e4ee68-2621-40ec-aab8-03831020caa8",
   "metadata": {
    "tags": []
   },
   "outputs": [],
   "source": [
    "##target_url_science: 소분야_과학\n",
    "##target_url_energy : 소분야_에너지\n",
    "target_url_science ='https://www.etnews.com/news/section.html?id1=20&id2=020'\n",
    "target_url_energy = 'https://www.etnews.com/news/section.html?id1=20&id2=065'\n",
    "\n",
    "targets= [target_url_science, target_url_energy]\n",
    "#1 article_url구하기\n",
    "#1-1. target_url_science의 last_page보다 무조건 큰수(1000)를 가진 url을 입력. 그러면 last_page로 저절로 이동함. 그리고 last_page를 추출함.\n",
    "\n",
    "base_url = \"https://www.etnews.com\"\n",
    "article_url = []\n",
    "for target in targets:\n",
    "    url = target + '&page=1000'\n",
    "    html = urlopen(url)\n",
    "    soup = bs(html.read(),\"html.parser\")\n",
    "    last_page = soup.find('a',{'href':'javascript:;'}).text\n",
    "\n",
    "    for page in range(1,int(last_page)+1):\n",
    "        url_1 = target+\"&page=\"+str(page)\n",
    "        html_1 = urlopen(url_1)\n",
    "        soup = bs(html_1.read(),\"html.parser\")\n",
    "\n",
    "        for links in soup.select('p > a'):\n",
    "            link = links.attrs['href']\n",
    "            if \"https\" not in link:\n",
    "                article_url.append(base_url+link)"
   ]
  },
  {
   "cell_type": "code",
   "execution_count": 4,
   "id": "0b4566f1-1fdf-47c8-a63f-bc2fe0edb75a",
   "metadata": {
    "tags": []
   },
   "outputs": [
    {
     "data": {
      "text/plain": [
       "1514"
      ]
     },
     "execution_count": 4,
     "metadata": {},
     "output_type": "execute_result"
    }
   ],
   "source": [
    "len(article_url)"
   ]
  },
  {
   "cell_type": "code",
   "execution_count": 4,
   "id": "6579ba69-6716-4336-9138-0b8edf24363f",
   "metadata": {
    "tags": []
   },
   "outputs": [],
   "source": [
    "crawl_df = pd.DataFrame(columns=['분야','발행일','제목','내용'])"
   ]
  },
  {
   "cell_type": "code",
   "execution_count": 5,
   "id": "6539c509-57f3-41c3-b0a0-606bff36d5c2",
   "metadata": {
    "tags": []
   },
   "outputs": [],
   "source": [
    "for link in article_url:\n",
    "    html = urlopen(link)\n",
    "    soup = bs(html.read(),'html.parser')\n",
    "    \n",
    "    category = '과학'\n",
    "    \n",
    "    date = soup.find_all('time', {'class':'date'})[0].text[6:16]\n",
    "\n",
    "    title = soup.find_all('h2')[0].text\n",
    "    \n",
    "    draft = soup.find_all('p')\n",
    "\n",
    "    context = ''   \n",
    "    for i in draft:\n",
    "        if i.a == None:\n",
    "            i = i.text.replace(\"\\n\",\"\")\n",
    "            context += i\n",
    "            \n",
    "    tmp_df = pd.DataFrame([[category,date,title,context]],columns=crawl_df.columns)\n",
    "    crawl_df = pd.concat([crawl_df, tmp_df])"
   ]
  },
  {
   "cell_type": "code",
   "execution_count": 6,
   "id": "6d335f2c-f86e-410c-b1c2-1ab5fd8692e9",
   "metadata": {
    "tags": []
   },
   "outputs": [
    {
     "data": {
      "text/html": [
       "<div>\n",
       "<style scoped>\n",
       "    .dataframe tbody tr th:only-of-type {\n",
       "        vertical-align: middle;\n",
       "    }\n",
       "\n",
       "    .dataframe tbody tr th {\n",
       "        vertical-align: top;\n",
       "    }\n",
       "\n",
       "    .dataframe thead th {\n",
       "        text-align: right;\n",
       "    }\n",
       "</style>\n",
       "<table border=\"1\" class=\"dataframe\">\n",
       "  <thead>\n",
       "    <tr style=\"text-align: right;\">\n",
       "      <th></th>\n",
       "      <th>분야</th>\n",
       "      <th>발행일</th>\n",
       "      <th>제목</th>\n",
       "      <th>내용</th>\n",
       "    </tr>\n",
       "  </thead>\n",
       "  <tbody>\n",
       "    <tr>\n",
       "      <th>0</th>\n",
       "      <td>과학</td>\n",
       "      <td>2023-09-13</td>\n",
       "      <td>[과학기술이 미래다] 〈102〉국내 첫 퍼스널 컴퓨터 경진대회</td>\n",
       "      <td>1984년 4월 22일. 제1회 퍼스널 컴퓨터 경진대회가 이날 오전 9시 서울 송파...</td>\n",
       "    </tr>\n",
       "    <tr>\n",
       "      <th>0</th>\n",
       "      <td>과학</td>\n",
       "      <td>2023-09-13</td>\n",
       "      <td>나노·소재 성과공유회</td>\n",
       "      <td>나노·소재분야 R&amp;D 정책 및 우수 연구성과를 발표하고 성과물을 공유하는 나노·소재...</td>\n",
       "    </tr>\n",
       "    <tr>\n",
       "      <th>0</th>\n",
       "      <td>과학</td>\n",
       "      <td>2023-09-12</td>\n",
       "      <td>[알림] 테크비즈코리아 2023</td>\n",
       "      <td>전자신문사가 올해에도 우리 연구 현장의 사업화 유망기술을 민간기업과 투자자에 소개하...</td>\n",
       "    </tr>\n",
       "    <tr>\n",
       "      <th>0</th>\n",
       "      <td>과학</td>\n",
       "      <td>2023-09-12</td>\n",
       "      <td>드럼치는 로봇 '모펫' 입니다</td>\n",
       "      <td>국내 연구진이 음악 빅데이터 기반 인공지능(AI)을 통해 인간과 상호작용하며 합주 ...</td>\n",
       "    </tr>\n",
       "    <tr>\n",
       "      <th>0</th>\n",
       "      <td>과학</td>\n",
       "      <td>2023-09-11</td>\n",
       "      <td>드럼치는 로봇 '모펫' 입니다</td>\n",
       "      <td>국내 연구진이 음악 빅데이터 기반 인공지능(AI)을 통해 인간과 상호작용하며 합주 ...</td>\n",
       "    </tr>\n",
       "    <tr>\n",
       "      <th>...</th>\n",
       "      <td>...</td>\n",
       "      <td>...</td>\n",
       "      <td>...</td>\n",
       "      <td>...</td>\n",
       "    </tr>\n",
       "    <tr>\n",
       "      <th>0</th>\n",
       "      <td>과학</td>\n",
       "      <td>2023-03-16</td>\n",
       "      <td>지질연, 리튬 최대 생산지 서호주와 핵심광물 협력 약속</td>\n",
       "      <td>한국지질자원연구원(원장 이평구)은 15일, 서호주 광물자원연구소(MRIWA)와 인터...</td>\n",
       "    </tr>\n",
       "    <tr>\n",
       "      <th>0</th>\n",
       "      <td>과학</td>\n",
       "      <td>2023-03-16</td>\n",
       "      <td>과학영재학교 4대 과기원 조기 진학 가능해진다</td>\n",
       "      <td>이르면 2025학년도부터는 과학영재학교 학생의 4대 과학기술원 조기 진학이 가능해진...</td>\n",
       "    </tr>\n",
       "    <tr>\n",
       "      <th>0</th>\n",
       "      <td>과학</td>\n",
       "      <td>2023-03-16</td>\n",
       "      <td>KAIST, AI로 코로나19 치료제 팍스로비드와 기존 약물 반응 예측 고도화</td>\n",
       "      <td>한국과학기술원(KAIST·총장 이광형)은 이상엽 생명화학공학과 특훈교수팀이 인공지능...</td>\n",
       "    </tr>\n",
       "    <tr>\n",
       "      <th>0</th>\n",
       "      <td>과학</td>\n",
       "      <td>2023-03-16</td>\n",
       "      <td>ETRI, 지난해 국제표준특허 60건 추가…총 1077건 보유</td>\n",
       "      <td>한국전자통신연구원(ETRI)이 지속된 노력으로 국제표준화 부문에서 큰 성과를 거두고...</td>\n",
       "    </tr>\n",
       "    <tr>\n",
       "      <th>0</th>\n",
       "      <td>과학</td>\n",
       "      <td>2023-03-15</td>\n",
       "      <td>[과학기술이 미래다]&lt;82&gt;과기처, 16개 과학기술연구기관 8개로 통폐합</td>\n",
       "      <td>마침내 그날이 왔다. 1980년 11월 13일. 이정오 과학기술처 장관은 이날 오전...</td>\n",
       "    </tr>\n",
       "  </tbody>\n",
       "</table>\n",
       "<p>314 rows × 4 columns</p>\n",
       "</div>"
      ],
      "text/plain": [
       "    분야         발행일                                           제목  \\\n",
       "0   과학  2023-09-13           [과학기술이 미래다] 〈102〉국내 첫 퍼스널 컴퓨터 경진대회   \n",
       "0   과학  2023-09-13                                  나노·소재 성과공유회   \n",
       "0   과학  2023-09-12                            [알림] 테크비즈코리아 2023   \n",
       "0   과학  2023-09-12                             드럼치는 로봇 '모펫' 입니다   \n",
       "0   과학  2023-09-11                             드럼치는 로봇 '모펫' 입니다   \n",
       "..  ..         ...                                          ...   \n",
       "0   과학  2023-03-16               지질연, 리튬 최대 생산지 서호주와 핵심광물 협력 약속   \n",
       "0   과학  2023-03-16                    과학영재학교 4대 과기원 조기 진학 가능해진다   \n",
       "0   과학  2023-03-16  KAIST, AI로 코로나19 치료제 팍스로비드와 기존 약물 반응 예측 고도화   \n",
       "0   과학  2023-03-16           ETRI, 지난해 국제표준특허 60건 추가…총 1077건 보유   \n",
       "0   과학  2023-03-15     [과학기술이 미래다]<82>과기처, 16개 과학기술연구기관 8개로 통폐합   \n",
       "\n",
       "                                                   내용  \n",
       "0   1984년 4월 22일. 제1회 퍼스널 컴퓨터 경진대회가 이날 오전 9시 서울 송파...  \n",
       "0   나노·소재분야 R&D 정책 및 우수 연구성과를 발표하고 성과물을 공유하는 나노·소재...  \n",
       "0   전자신문사가 올해에도 우리 연구 현장의 사업화 유망기술을 민간기업과 투자자에 소개하...  \n",
       "0   국내 연구진이 음악 빅데이터 기반 인공지능(AI)을 통해 인간과 상호작용하며 합주 ...  \n",
       "0   국내 연구진이 음악 빅데이터 기반 인공지능(AI)을 통해 인간과 상호작용하며 합주 ...  \n",
       "..                                                ...  \n",
       "0   한국지질자원연구원(원장 이평구)은 15일, 서호주 광물자원연구소(MRIWA)와 인터...  \n",
       "0   이르면 2025학년도부터는 과학영재학교 학생의 4대 과학기술원 조기 진학이 가능해진...  \n",
       "0   한국과학기술원(KAIST·총장 이광형)은 이상엽 생명화학공학과 특훈교수팀이 인공지능...  \n",
       "0   한국전자통신연구원(ETRI)이 지속된 노력으로 국제표준화 부문에서 큰 성과를 거두고...  \n",
       "0   마침내 그날이 왔다. 1980년 11월 13일. 이정오 과학기술처 장관은 이날 오전...  \n",
       "\n",
       "[314 rows x 4 columns]"
      ]
     },
     "execution_count": 6,
     "metadata": {},
     "output_type": "execute_result"
    }
   ],
   "source": [
    "crawl_df"
   ]
  },
  {
   "cell_type": "code",
   "execution_count": null,
   "id": "380b57ef-395b-4618-95e1-c1e0e15c044b",
   "metadata": {
    "tags": []
   },
   "outputs": [],
   "source": [
    "crawl_df = pd.DataFrame(columns=['분야','발행일','제목','내용','전기(빈도수)',\\\n",
    "                                 '에너지(빈도수)', '원자력(빈도수)', '수력(빈도수)', '화력(빈도수)'])"
   ]
  },
  {
   "cell_type": "code",
   "execution_count": null,
   "id": "b88f98f7-9866-4d24-98f3-f05daab70a3e",
   "metadata": {
    "tags": []
   },
   "outputs": [],
   "source": [
    "# 1-3. 기사의 '분야','발행일','제목','내용','전기(빈도수)',\n",
    "#      '에너지(빈도수)', '원자력(빈도수)', '수력(빈도수)', '화력(빈도수)' 정보를 추출해보자."
   ]
  }
 ],
 "metadata": {
  "kernelspec": {
   "display_name": "Python 3 (ipykernel)",
   "language": "python",
   "name": "python3"
  },
  "language_info": {
   "codemirror_mode": {
    "name": "ipython",
    "version": 3
   },
   "file_extension": ".py",
   "mimetype": "text/x-python",
   "name": "python",
   "nbconvert_exporter": "python",
   "pygments_lexer": "ipython3",
   "version": "3.11.4"
  }
 },
 "nbformat": 4,
 "nbformat_minor": 5
}
