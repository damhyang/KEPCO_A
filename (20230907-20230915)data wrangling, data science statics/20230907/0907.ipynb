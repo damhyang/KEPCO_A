{
 "cells": [
  {
   "cell_type": "code",
   "execution_count": 1,
   "metadata": {},
   "outputs": [
    {
     "name": "stdout",
     "output_type": "stream",
     "text": [
      "20\n"
     ]
    }
   ],
   "source": [
    "##파이썬은 객체 지향, 함수형 언어\n",
    "##모든 것이 다 객체이다.\n",
    "print(10+10)"
   ]
  },
  {
   "cell_type": "code",
   "execution_count": 2,
   "metadata": {},
   "outputs": [
    {
     "name": "stdout",
     "output_type": "stream",
     "text": [
      "20\n"
     ]
    }
   ],
   "source": [
    "a=10\n",
    "b=10\n",
    "c=a+b\n",
    "print(c)"
   ]
  },
  {
   "cell_type": "code",
   "execution_count": 3,
   "metadata": {},
   "outputs": [
    {
     "data": {
      "text/plain": [
       "['__abs__',\n",
       " '__add__',\n",
       " '__and__',\n",
       " '__bool__',\n",
       " '__ceil__',\n",
       " '__class__',\n",
       " '__delattr__',\n",
       " '__dir__',\n",
       " '__divmod__',\n",
       " '__doc__',\n",
       " '__eq__',\n",
       " '__float__',\n",
       " '__floor__',\n",
       " '__floordiv__',\n",
       " '__format__',\n",
       " '__ge__',\n",
       " '__getattribute__',\n",
       " '__getnewargs__',\n",
       " '__getstate__',\n",
       " '__gt__',\n",
       " '__hash__',\n",
       " '__index__',\n",
       " '__init__',\n",
       " '__init_subclass__',\n",
       " '__int__',\n",
       " '__invert__',\n",
       " '__le__',\n",
       " '__lshift__',\n",
       " '__lt__',\n",
       " '__mod__',\n",
       " '__mul__',\n",
       " '__ne__',\n",
       " '__neg__',\n",
       " '__new__',\n",
       " '__or__',\n",
       " '__pos__',\n",
       " '__pow__',\n",
       " '__radd__',\n",
       " '__rand__',\n",
       " '__rdivmod__',\n",
       " '__reduce__',\n",
       " '__reduce_ex__',\n",
       " '__repr__',\n",
       " '__rfloordiv__',\n",
       " '__rlshift__',\n",
       " '__rmod__',\n",
       " '__rmul__',\n",
       " '__ror__',\n",
       " '__round__',\n",
       " '__rpow__',\n",
       " '__rrshift__',\n",
       " '__rshift__',\n",
       " '__rsub__',\n",
       " '__rtruediv__',\n",
       " '__rxor__',\n",
       " '__setattr__',\n",
       " '__sizeof__',\n",
       " '__str__',\n",
       " '__sub__',\n",
       " '__subclasshook__',\n",
       " '__truediv__',\n",
       " '__trunc__',\n",
       " '__xor__',\n",
       " 'as_integer_ratio',\n",
       " 'bit_count',\n",
       " 'bit_length',\n",
       " 'conjugate',\n",
       " 'denominator',\n",
       " 'from_bytes',\n",
       " 'imag',\n",
       " 'numerator',\n",
       " 'real',\n",
       " 'to_bytes']"
      ]
     },
     "execution_count": 3,
     "metadata": {},
     "output_type": "execute_result"
    }
   ],
   "source": [
    "##객체이다.\n",
    "dir(10)"
   ]
  },
  {
   "cell_type": "code",
   "execution_count": null,
   "metadata": {},
   "outputs": [
    {
     "name": "stdout",
     "output_type": "stream",
     "text": [
      "Collecting numpy\n",
      "  Downloading numpy-1.25.2-cp311-cp311-win_amd64.whl (15.5 MB)\n",
      "                                              0.0/15.5 MB ? eta -:--:--\n",
      "                                              0.2/15.5 MB 4.1 MB/s eta 0:00:04\n",
      "     -                                        0.5/15.5 MB 5.6 MB/s eta 0:00:03\n",
      "     --                                       0.9/15.5 MB 6.0 MB/s eta 0:00:03\n",
      "     --                                       1.2/15.5 MB 6.1 MB/s eta 0:00:03\n",
      "     ---                                      1.5/15.5 MB 6.3 MB/s eta 0:00:03\n",
      "     ----                                     1.8/15.5 MB 6.4 MB/s eta 0:00:03\n",
      "     -----                                    2.1/15.5 MB 6.4 MB/s eta 0:00:03\n",
      "     ------                                   2.4/15.5 MB 6.4 MB/s eta 0:00:03\n",
      "     -------                                  2.7/15.5 MB 6.5 MB/s eta 0:00:02\n",
      "     -------                                  3.1/15.5 MB 6.5 MB/s eta 0:00:02\n",
      "     --------                                 3.3/15.5 MB 6.5 MB/s eta 0:00:02\n",
      "     ---------                                3.7/15.5 MB 6.5 MB/s eta 0:00:02\n",
      "     ----------                               4.0/15.5 MB 6.5 MB/s eta 0:00:02\n",
      "     -----------                              4.3/15.5 MB 6.5 MB/s eta 0:00:02\n",
      "     ------------                             4.7/15.5 MB 6.6 MB/s eta 0:00:02\n",
      "     ------------                             5.0/15.5 MB 6.7 MB/s eta 0:00:02\n",
      "     -------------                            5.4/15.5 MB 6.7 MB/s eta 0:00:02\n",
      "     --------------                           5.7/15.5 MB 6.8 MB/s eta 0:00:02\n",
      "     ---------------                          6.1/15.5 MB 6.8 MB/s eta 0:00:02\n",
      "     ----------------                         6.5/15.5 MB 6.9 MB/s eta 0:00:02\n",
      "     -----------------                        6.9/15.5 MB 7.0 MB/s eta 0:00:02\n",
      "     ------------------                       7.3/15.5 MB 7.1 MB/s eta 0:00:02\n",
      "     --------------------                     7.9/15.5 MB 7.3 MB/s eta 0:00:02\n",
      "     ---------------------                    8.4/15.5 MB 7.5 MB/s eta 0:00:01\n",
      "     ---------------------                    8.4/15.5 MB 7.5 MB/s eta 0:00:01\n",
      "     ---------------------                    8.4/15.5 MB 7.5 MB/s eta 0:00:01\n",
      "     ---------------------                    8.4/15.5 MB 7.5 MB/s eta 0:00:01\n",
      "     ---------------------                    8.4/15.5 MB 7.5 MB/s eta 0:00:01\n",
      "     ----------------------                   8.6/15.5 MB 6.3 MB/s eta 0:00:02\n",
      "     -----------------------                  9.2/15.5 MB 6.6 MB/s eta 0:00:01\n",
      "     -------------------------                9.7/15.5 MB 6.8 MB/s eta 0:00:01\n",
      "     --------------------------               10.3/15.5 MB 7.0 MB/s eta 0:00:01\n",
      "     ---------------------------              10.8/15.5 MB 7.2 MB/s eta 0:00:01\n",
      "     -----------------------------            11.4/15.5 MB 7.3 MB/s eta 0:00:01\n",
      "     ------------------------------           12.0/15.5 MB 7.5 MB/s eta 0:00:01\n",
      "     --------------------------------         12.5/15.5 MB 7.7 MB/s eta 0:00:01\n",
      "     ---------------------------------        13.1/15.5 MB 8.0 MB/s eta 0:00:01\n",
      "     -----------------------------------      13.6/15.5 MB 8.2 MB/s eta 0:00:01\n",
      "     ------------------------------------     14.2/15.5 MB 8.4 MB/s eta 0:00:01\n",
      "     -------------------------------------    14.7/15.5 MB 8.6 MB/s eta 0:00:01\n",
      "     ---------------------------------------  15.3/15.5 MB 8.8 MB/s eta 0:00:01\n",
      "     ---------------------------------------  15.5/15.5 MB 8.8 MB/s eta 0:00:01\n",
      "     ---------------------------------------- 15.5/15.5 MB 8.6 MB/s eta 0:00:00\n",
      "Installing collected packages: numpy\n",
      "Successfully installed numpy-1.25.2\n"
     ]
    },
    {
     "name": "stderr",
     "output_type": "stream",
     "text": [
      "\n",
      "[notice] A new release of pip is available: 23.1.2 -> 23.2.1\n",
      "[notice] To update, run: python.exe -m pip install --upgrade pip\n"
     ]
    }
   ],
   "source": [
    "!pip install numpy"
   ]
  },
  {
   "cell_type": "code",
   "execution_count": 6,
   "metadata": {},
   "outputs": [],
   "source": [
    "import numpy as np"
   ]
  },
  {
   "cell_type": "code",
   "execution_count": 4,
   "metadata": {},
   "outputs": [
    {
     "data": {
      "text/plain": [
       "datetime.datetime(2023, 9, 11, 9, 0, 0, 30672)"
      ]
     },
     "execution_count": 4,
     "metadata": {},
     "output_type": "execute_result"
    }
   ],
   "source": [
    "from datetime import datetime\n",
    "datetime.now()"
   ]
  },
  {
   "cell_type": "code",
   "execution_count": 5,
   "metadata": {},
   "outputs": [
    {
     "data": {
      "text/plain": [
       "'23'"
      ]
     },
     "execution_count": 5,
     "metadata": {},
     "output_type": "execute_result"
    }
   ],
   "source": [
    "from datetime import datetime\n",
    "datetime.now().strftime('%y')"
   ]
  },
  {
   "cell_type": "code",
   "execution_count": 7,
   "metadata": {},
   "outputs": [
    {
     "data": {
      "text/plain": [
       "'2309'"
      ]
     },
     "execution_count": 7,
     "metadata": {},
     "output_type": "execute_result"
    }
   ],
   "source": [
    "from datetime import datetime\n",
    "datetime.now().strftime('%y%m').capitalize()"
   ]
  },
  {
   "cell_type": "code",
   "execution_count": 8,
   "metadata": {},
   "outputs": [
    {
     "data": {
      "text/plain": [
       "'309'"
      ]
     },
     "execution_count": 8,
     "metadata": {},
     "output_type": "execute_result"
    }
   ],
   "source": [
    "from datetime import datetime\n",
    "datetime.now().strftime('%y%m').replace('2','')"
   ]
  },
  {
   "cell_type": "code",
   "execution_count": null,
   "metadata": {},
   "outputs": [],
   "source": [
    "s=1\n",
    "s=s+2\n",
    "s=s+3\n",
    "\n",
    "#for i in range(1,11):"
   ]
  },
  {
   "cell_type": "code",
   "execution_count": 16,
   "metadata": {},
   "outputs": [
    {
     "name": "stdout",
     "output_type": "stream",
     "text": [
      "55\n"
     ]
    }
   ],
   "source": [
    "s=0   \n",
    "for i in range(1,11):\n",
    "    s += i  # s=s+1\n",
    "    \n",
    "print(s)"
   ]
  },
  {
   "cell_type": "code",
   "execution_count": 20,
   "metadata": {},
   "outputs": [
    {
     "name": "stdout",
     "output_type": "stream",
     "text": [
      "55\n"
     ]
    }
   ],
   "source": [
    "sum([i for i in range(1,11)])\n",
    "print(s)"
   ]
  },
  {
   "cell_type": "code",
   "execution_count": 21,
   "metadata": {},
   "outputs": [
    {
     "data": {
      "text/plain": [
       "55"
      ]
     },
     "execution_count": 21,
     "metadata": {},
     "output_type": "execute_result"
    }
   ],
   "source": [
    "sum(range(1,11))"
   ]
  }
 ],
 "metadata": {
  "kernelspec": {
   "display_name": "Python 3",
   "language": "python",
   "name": "python3"
  },
  "language_info": {
   "codemirror_mode": {
    "name": "ipython",
    "version": 3
   },
   "file_extension": ".py",
   "mimetype": "text/x-python",
   "name": "python",
   "nbconvert_exporter": "python",
   "pygments_lexer": "ipython3",
   "version": "3.11.4"
  },
  "orig_nbformat": 4
 },
 "nbformat": 4,
 "nbformat_minor": 2
}
