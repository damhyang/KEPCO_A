{
 "cells": [
  {
   "cell_type": "code",
   "execution_count": 2,
   "id": "c1ff1fdd-9893-4403-b164-8bed74d56da1",
   "metadata": {
    "tags": []
   },
   "outputs": [],
   "source": [
    "#한글 보이게 하도록 고치기\n",
    "\n",
    "import matplotlib.pyplot as plt\n",
    "##otf, ttf\n",
    "plt.rcParams['font.family'] = 'Gulim'"
   ]
  },
  {
   "cell_type": "code",
   "execution_count": 4,
   "id": "d3797d2f-e547-49f1-a35c-8bb8ee4283f6",
   "metadata": {
    "tags": []
   },
   "outputs": [],
   "source": [
    "##pandasdhk numpy 설정하기\n",
    "import pandas as pd\n",
    "import numpy as np"
   ]
  },
  {
   "cell_type": "code",
   "execution_count": null,
   "id": "35195fb8-0753-4b2d-8347-29a6014ad42d",
   "metadata": {},
   "outputs": [],
   "source": [
    "##경고창 지우기\n",
    "\n"
   ]
  },
  {
   "cell_type": "code",
   "execution_count": null,
   "id": "131b85eb-1e88-4402-80e7-af8bec12a344",
   "metadata": {},
   "outputs": [],
   "source": [
    "#데이터 불러오기\n",
    "df="
   ]
  },
  {
   "cell_type": "code",
   "execution_count": 5,
   "id": "456ac036-7adb-4665-8085-bc00298eaf1a",
   "metadata": {
    "tags": []
   },
   "outputs": [],
   "source": [
    "#데이터 정보보기"
   ]
  },
  {
   "cell_type": "code",
   "execution_count": 6,
   "id": "ee360557-5802-44df-9917-43165d5dfd11",
   "metadata": {
    "collapsed": true,
    "jupyter": {
     "outputs_hidden": true
    },
    "tags": []
   },
   "outputs": [
    {
     "ename": "SyntaxError",
     "evalue": "invalid syntax (2310248680.py, line 2)",
     "output_type": "error",
     "traceback": [
      "\u001b[1;36m  Cell \u001b[1;32mIn[6], line 2\u001b[1;36m\u001b[0m\n\u001b[1;33m    df=df.\u001b[0m\n\u001b[1;37m          ^\u001b[0m\n\u001b[1;31mSyntaxError\u001b[0m\u001b[1;31m:\u001b[0m invalid syntax\n"
     ]
    }
   ],
   "source": [
    "#14번째 컬럼 지우기\n",
    "df=df.iloc[:,:-1]"
   ]
  },
  {
   "cell_type": "code",
   "execution_count": null,
   "id": "7a5ce218-5c12-4daf-9f73-a894d4e346b5",
   "metadata": {},
   "outputs": [],
   "source": [
    "#행렬숫자보기 shape\n",
    "df.shape"
   ]
  },
  {
   "cell_type": "code",
   "execution_count": null,
   "id": "1364944a-a9e1-4812-a65c-c3e7ac92f69d",
   "metadata": {},
   "outputs": [],
   "source": [
    "#오늘의 목표 : 라인그래프 그리기, 바 차트 그리기\n",
    "\n"
   ]
  },
  {
   "cell_type": "code",
   "execution_count": null,
   "id": "34ba38b0-b679-4a05-99e9-56ab722f07dd",
   "metadata": {},
   "outputs": [],
   "source": [
    "df.columns"
   ]
  },
  {
   "cell_type": "code",
   "execution_count": null,
   "id": "649f5b18-3fca-48ed-a3b5-08e11345e656",
   "metadata": {},
   "outputs": [],
   "source": [
    "df.발행년도.value_count()#groupby(~별 ~의 통계수치)도 가능하나, 한개의 컬럼에 대해서 카운트일 땐 value_count가 더 편하다. \n",
    "#시리즈 데이터가 된다.\n",
    "#발행년도가 행, 카운트가 열로 감."
   ]
  },
  {
   "cell_type": "code",
   "execution_count": null,
   "id": "6fa5b27c-8353-4536-8fc9-61a5d0a0e6b0",
   "metadata": {},
   "outputs": [],
   "source": [
    "데이터 프레임으로 df를 바꿈.\n",
    "\n",
    "new_df = df.발행년도.value_count().reset_index()\n"
   ]
  },
  {
   "cell_type": "code",
   "execution_count": null,
   "id": "df2371b6-b395-4f70-b238-16ad1bd84368",
   "metadata": {},
   "outputs": [],
   "source": [
    "#컬럼이름 바꿔주기\n",
    "\n",
    "new_df .columns = ['발행년도', '발행부수']"
   ]
  },
  {
   "cell_type": "code",
   "execution_count": null,
   "id": "696b8907-0aba-44b4-b383-529ba7c1e0ad",
   "metadata": {},
   "outputs": [],
   "source": [
    "#이상치 찾는 방법\n",
    "\n",
    "#1. 앞의 4자리 끊기 (년도 4자리만 사용하도록, 4자리가 숫자가 아니거나(int로 변환되지 않을 때) ,\n",
    "                    4자리를 숫자로 변환했을 경우 1945 이전이전거랑 2024이후 데이터는 지운다.)\n",
    "    \n",
    "    "
   ]
  },
  {
   "cell_type": "code",
   "execution_count": null,
   "id": "26cbf611-1ca0-4598-986a-73055b7a5288",
   "metadata": {},
   "outputs": [],
   "source": [
    "new_df에 대해 타입 확인\n",
    "\n",
    "현재 new_df.dtypes  ->object : str대이터이다."
   ]
  },
  {
   "cell_type": "code",
   "execution_count": 8,
   "id": "ac487eb3-166d-436a-b603-5db7d4400a5e",
   "metadata": {
    "collapsed": true,
    "jupyter": {
     "outputs_hidden": true
    },
    "tags": []
   },
   "outputs": [
    {
     "ename": "NameError",
     "evalue": "name 'new_df' is not defined",
     "output_type": "error",
     "traceback": [
      "\u001b[1;31m---------------------------------------------------------------------------\u001b[0m",
      "\u001b[1;31mNameError\u001b[0m                                 Traceback (most recent call last)",
      "Cell \u001b[1;32mIn[8], line 1\u001b[0m\n\u001b[1;32m----> 1\u001b[0m \u001b[43mnew_df\u001b[49m\u001b[38;5;241m.\u001b[39m발행년도[\u001b[38;5;241m1\u001b[39m][:\u001b[38;5;241m4\u001b[39m]\n\u001b[0;32m      3\u001b[0m \u001b[38;5;28mint\u001b[39m(new_df\u001b[38;5;241m.\u001b[39m발행년도[\u001b[38;5;241m1\u001b[39m][:\u001b[38;5;241m4\u001b[39m]) \u001b[38;5;66;03m##for문\u001b[39;00m\n",
      "\u001b[1;31mNameError\u001b[0m: name 'new_df' is not defined"
     ]
    }
   ],
   "source": [
    "new_df.발행년도[1][:4]\n",
    "\n",
    "int(new_df.발행년도[1][:4]) ##for문\n",
    "\n",
    "에러가 나면 빼기\n",
    "\n",
    "int(new_df.발행년도[1][:4]) >= 1945 & int(new_df.발행년도[1][:4]) <= 2024\n",
    " \n",
    "\n",
    "int(new_df.발행년도[1][:4])>1945 &\\\n",
    "int(new_df.발행년도[1][:4])\n",
    "\n"
   ]
  },
  {
   "cell_type": "code",
   "execution_count": null,
   "id": "f206253d-f3c5-4445-8782-d8b84c202d1f",
   "metadata": {},
   "outputs": [],
   "source": [
    "##pandas series는 딕셔너리로 가져온다.\n",
    "new_df.발행년도\n",
    "\n",
    "\n",
    "##EMUNERAte를 써도 되지만, 딕셔너리로 뽑는 것도 좋다."
   ]
  },
  {
   "cell_type": "code",
   "execution_count": null,
   "id": "30609788-7d83-496b-b206-a1eda50fc05e",
   "metadata": {},
   "outputs": [],
   "source": [
    "##딕셔너리\n",
    "\n",
    "mp = {\n",
    "        'K1':1,\n",
    "        'K2':2,\n",
    "}\n",
    "\n",
    "\n",
    "items()설명임.\n",
    "#KEY"
   ]
  },
  {
   "cell_type": "code",
   "execution_count": null,
   "id": "0de27ea6-8f9e-47e4-9f56-37877b73c266",
   "metadata": {},
   "outputs": [],
   "source": [
    "주제분류번호로 대분류를 나눠보기\n",
    "\n",
    "new_df\n",
    "tidy_df = new_df.set_index('주제분류번호')\n",
    "bar차트는 x,y가 바로 필요하므로 series형으로 바꿀 필요가 없다.\n",
    "\n",
    "plt.figure(figsize = (10,10))\n",
    "plt.bar(new_df.주제분류번호, new_df.건수)\n",
    "plt.title\n",
    "plt.xlabel\n",
    "plt.ylabel\n",
    "for idx,val in zip(new_df.주제분류번호, new_df.건수) :\n",
    "    plt.annotate(val,())"
   ]
  },
  {
   "cell_type": "code",
   "execution_count": null,
   "id": "f89467bd-1572-4070-adcc-b38792a06244",
   "metadata": {},
   "outputs": [],
   "source": [
    "# zip\n",
    "튜플일 때 편함.\n",
    "\n",
    "a=[1,2,3,]\n",
    "\n",
    "딕셔너리 만드는 방법\n",
    "1. 키와 벨루 묶어주기\n",
    "\n"
   ]
  },
  {
   "cell_type": "code",
   "execution_count": 9,
   "id": "97244143-76a7-4318-9588-373bfd1a826d",
   "metadata": {
    "tags": []
   },
   "outputs": [
    {
     "name": "stdout",
     "output_type": "stream",
     "text": [
      " C 드라이브의 볼륨: Windows\n",
      " 볼륨 일련 번호: EC49-8B27\n",
      "\n",
      " C:\\work 디렉터리\n",
      "\n",
      "2023-09-14  오전 10:41    <DIR>          .\n",
      "2023-09-14  오전 09:12    <DIR>          .ipynb_checkpoints\n",
      "2023-09-11  오후 05:05            69,210 20230911_KDH.ipynb\n",
      "2023-09-12  오전 10:07            14,489 20230912_KDH.ipynb\n",
      "2023-09-13  오후 04:54            39,098 20230913_KDH.ipynb\n",
      "2023-09-14  오전 10:36             7,970 20230914_KDH.ipynb\n",
      "2023-09-14  오전 10:41           539,591 hamster.jpg\n",
      "2023-09-11  오후 01:19        57,639,713 ns_202104.csv\n",
      "2023-09-14  오전 08:56    <DIR>          teacher\n",
      "2023-09-11  오후 12:30                75 test.csv\n",
      "2023-09-12  오전 10:07    <DIR>          Untitled Folder\n",
      "               7개 파일          58,310,146 바이트\n",
      "               4개 디렉터리  417,048,915,968 바이트 남음\n"
     ]
    }
   ],
   "source": [
    "!dir"
   ]
  },
  {
   "cell_type": "code",
   "execution_count": 10,
   "id": "2ee57a44-c5be-462f-8443-0f8e1dbc2ce2",
   "metadata": {
    "tags": []
   },
   "outputs": [],
   "source": [
    "img = plt.imread('hamster.jpg')"
   ]
  },
  {
   "cell_type": "code",
   "execution_count": 12,
   "id": "f6ca36b0-68e1-4d26-9a5c-d740b59eab50",
   "metadata": {
    "tags": []
   },
   "outputs": [
    {
     "data": {
      "text/plain": [
       "(756, 800, 3)"
      ]
     },
     "execution_count": 12,
     "metadata": {},
     "output_type": "execute_result"
    }
   ],
   "source": [
    "img.shape  # 이미지는 4차원이라고 표현"
   ]
  },
  {
   "cell_type": "code",
   "execution_count": null,
   "id": "59ebedd3-5b2b-48b5-b65f-a937eaf9d886",
   "metadata": {},
   "outputs": [],
   "source": [
    "##출판사별 년도별 발행부수의 산점도 그리기"
   ]
  },
  {
   "cell_type": "code",
   "execution_count": null,
   "id": "6aa6f1ca-e59a-4711-b61f-4cda962ca2cf",
   "metadata": {},
   "outputs": [],
   "source": [
    "new_df[['출판사', '발행년도']]\n",
    "\n",
    "new_df = new_df[['출판사', '발행년도']].value_counts.reset "
   ]
  }
 ],
 "metadata": {
  "kernelspec": {
   "display_name": "Python 3 (ipykernel)",
   "language": "python",
   "name": "python3"
  },
  "language_info": {
   "codemirror_mode": {
    "name": "ipython",
    "version": 3
   },
   "file_extension": ".py",
   "mimetype": "text/x-python",
   "name": "python",
   "nbconvert_exporter": "python",
   "pygments_lexer": "ipython3",
   "version": "3.11.4"
  }
 },
 "nbformat": 4,
 "nbformat_minor": 5
}
